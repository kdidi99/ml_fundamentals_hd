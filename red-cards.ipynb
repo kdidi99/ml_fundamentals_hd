{
  "nbformat": 4,
  "nbformat_minor": 0,
  "metadata": {
    "colab": {
      "name": "Untitled2.ipynb",
      "provenance": [],
      "include_colab_link": true
    },
    "kernelspec": {
      "name": "python3",
      "display_name": "Python 3"
    },
    "language_info": {
      "name": "python"
    }
  },
  "cells": [
    {
      "cell_type": "markdown",
      "metadata": {
        "id": "view-in-github",
        "colab_type": "text"
      },
      "source": [
        "<a href=\"https://colab.research.google.com/github/kdidi99/ml_heidelberg/blob/main/red-cards.ipynb\" target=\"_parent\"><img src=\"https://colab.research.google.com/assets/colab-badge.svg\" alt=\"Open In Colab\"/></a>"
      ]
    },
    {
      "cell_type": "markdown",
      "source": [
        "# Exercise 4a"
      ],
      "metadata": {
        "id": "ycAFy7QHv2zd"
      }
    },
    {
      "cell_type": "markdown",
      "source": [
        "# 1 Precision-Recall Curves"
      ],
      "metadata": {
        "id": "Xbt8wAUILF-z"
      }
    },
    {
      "cell_type": "markdown",
      "source": [
        "## 1.1 Euclidean Distance"
      ],
      "metadata": {
        "id": "qLgq5LBTLKjp"
      }
    },
    {
      "cell_type": "code",
      "source": [
        "from sklearn.datasets import load_digits\n",
        "from sklearn import model_selection\n",
        "from sklearn.neighbors import KNeighborsClassifier\n",
        "import numpy as np\n",
        "import matplotlib.pyplot as plt"
      ],
      "metadata": {
        "id": "18bkfSzXL0qu"
      },
      "execution_count": null,
      "outputs": []
    },
    {
      "cell_type": "code",
      "source": [
        "digits = load_digits ()\n",
        "data = digits[\"data\"]\n",
        "images = digits[\"images\"]\n",
        "target = digits[\"target\"]\n",
        "target_names = digits[\"target_names\"]"
      ],
      "metadata": {
        "id": "5sLH1P5fL4ta"
      },
      "execution_count": null,
      "outputs": []
    },
    {
      "cell_type": "code",
      "source": [
        "# function measuring the distances between two sets of images, vectorized\n",
        "def dist_vec(data_):\n",
        "    return np.linalg.norm(data_[:, None, :] - data_[None, :, :], axis=-1)"
      ],
      "metadata": {
        "id": "svz80aW-L7Eu"
      },
      "execution_count": null,
      "outputs": []
    },
    {
      "cell_type": "code",
      "source": [
        "# to limit th calculation time the number of used instances N can be changed\n",
        "N = 100  # N = 1797 to include all data\n",
        "testdata = data[:N]\n",
        "testlabels = target[:N]\n",
        "\n",
        "# calculate distance matrix using implementation with vectorization\n",
        "testdist = dist_vec(testdata)\n",
        "\n",
        "# display distance matrix as a grayscale image\n",
        "plt.figure()\n",
        "plt.gray()\n",
        "plt.imshow(testdist , interpolation=\"nearest\")\n",
        "plt.show()"
      ],
      "metadata": {
        "id": "P8LutcTUMEv8",
        "outputId": "2e7fbb4d-31a8-4d2d-844d-bb28d0c3061a",
        "colab": {
          "base_uri": "https://localhost:8080/",
          "height": 268
        }
      },
      "execution_count": null,
      "outputs": [
        {
          "output_type": "display_data",
          "data": {
            "image/png": "[encoded data removed]",
            "text/plain": [
              "<Figure size 432x288 with 1 Axes>"
            ]
          },
          "metadata": {
            "needs_background": "light"
          }
        }
      ]
    },
    {
      "cell_type": "code",
      "source": [
        "# returns the positions of the m nearest instances to instance n\n",
        "def mpos(dist, n, m):\n",
        "    return np.argsort(dist[n])[:m]\n",
        "\n",
        "# returns the features of the m nearest instances to instance n\n",
        "def minst(data, dist, n, m):\n",
        "    return data[np.argsort(dist[n])[:m]]\n",
        "\n",
        "# calculates the precision by comparing the labels of the m instances closest to instance n\n",
        "def precision(dist, n, m, labels):\n",
        "    pos = mpos(dist, n, m)\n",
        "    tp = np.count_nonzero(labels[pos] == labels[n]) # true positives\n",
        "    return tp/m\n",
        "\n",
        "# calculates the recall by comparing the labels of the m instances closest to instance n\n",
        "def recall(dist, n, m, labels):\n",
        "    pos = mpos(dist, n, m)\n",
        "    tp = np.count_nonzero(labels[pos] == labels[n]) # true positives\n",
        "    Nn = np.count_nonzero(labels == labels[n]) # number of negatives\n",
        "    return tp/Nn"
      ],
      "metadata": {
        "id": "xNVtwpQuM0Gg"
      },
      "execution_count": null,
      "outputs": []
    },
    {
      "cell_type": "code",
      "source": [
        "# gives a precision matrix for all combinations m,n\n",
        "def precisionmatrix(dist, N, labels):\n",
        "    P = np.array([\n",
        "        [\n",
        "            precision(dist, n, m, labels) for n in range(N)\n",
        "        ] for m in range(1,N+1)\n",
        "    ])\n",
        "    return P\n",
        "\n",
        "# gives a recall matrix for all combinations m,n\n",
        "def recallmatrix(dist, N, labels):\n",
        "    R = np.array([\n",
        "        [\n",
        "            recall(dist, n, m, labels) for n in range(N)\n",
        "        ] for m in range(1,N+1)\n",
        "    ])\n",
        "    return R"
      ],
      "metadata": {
        "id": "ATvPv_41M4Vp"
      },
      "execution_count": null,
      "outputs": []
    },
    {
      "cell_type": "code",
      "source": [
        "# calculating the mean of the precision for the different labels\n",
        "def Pm(N, dist, labels):\n",
        "    P = precisionmatrix(dist, N, labels)\n",
        "    return np.array([np.transpose(P)[labels == i].mean(axis = 0) for i in range(10)])\n",
        "\n",
        "# calculating the mean of the recall for the different labels\n",
        "def Rm(N, dist, labels):\n",
        "    R = recallmatrix(dist, N, labels)\n",
        "    return np.array([np.transpose(R)[labels == i].mean(axis = 0) for i in range(10)])"
      ],
      "metadata": {
        "id": "IVA4bTI0NQSu"
      },
      "execution_count": null,
      "outputs": []
    },
    {
      "cell_type": "code",
      "source": [
        "# calculating the area under the precision:recall-curve for the different labels\n",
        "def auc(Pre, Rec):\n",
        "    auc_ = [0]*10\n",
        "    for j in range(10):\n",
        "        for k in range(len(Pre[j])-1):\n",
        "            # adding up the area under the curve by approximating the area by trapezes\n",
        "            auc_[j] += -(Rec[j][k+1]+Rec[j][k])/2*(Pre[j][k+1]-Pre[j][k]) \n",
        "        # the curve does not end at (0,1) so the auc has to be extended to this point\n",
        "        auc_[j] += -(1+Rec[j][-1])/2*(0-Pre[j][-1]) \n",
        "    return auc_\n",
        "\n",
        "# plot the precision:recall-curve and print the AUC\n",
        "def plotauc(Pre, Rec):\n",
        "    for j in range(10):\n",
        "        plt.plot(Pre[j], Rec[j], label = j)\n",
        "    plt.xlabel(\"Precision\")\n",
        "    plt.ylabel(\"Recall\")\n",
        "    plt.legend(loc = 'best')\n",
        "    plt.show()\n",
        "    print(\"areas under the curves:\", auc(Pm_, Rm_))"
      ],
      "metadata": {
        "id": "QaNH5sNqNWKH"
      },
      "execution_count": null,
      "outputs": []
    },
    {
      "cell_type": "code",
      "source": [
        "Pm_ = Pm(N, testdist, testlabels)\n",
        "Rm_ = Rm(N, testdist, testlabels)\n",
        "plotauc(Pm_, Rm_)"
      ],
      "metadata": {
        "id": "io5dxfpPNoMB",
        "outputId": "c6d5aabd-0529-46be-d883-cea9f3f980ca",
        "colab": {
          "base_uri": "https://localhost:8080/",
          "height": 316
        }
      },
      "execution_count": null,
      "outputs": [
        {
          "output_type": "display_data",
          "data": {
            "image/png": "[encoded data removed]",
            "text/plain": [
              "<Figure size 432x288 with 1 Axes>"
            ]
          },
          "metadata": {
            "needs_background": "light"
          }
        },
        {
          "output_type": "stream",
          "name": "stdout",
          "text": [
            "areas under the curves: [0.9977403638185004, 0.9007929094182566, 0.6304926264947156, 0.9599439096210088, 0.8386209856544066, 0.7927018309014756, 0.9643035585183674, 0.8939866981989909, 0.797389472771933, 0.565241484319726]\n"
          ]
        }
      ]
    },
    {
      "cell_type": "code",
      "source": [
        "# calculates the precision gain by comparing the labels of the m instances closest to instance n\n",
        "def precisionGain(dist, n, m, labels):\n",
        "    pos = mpos(dist, n, m)\n",
        "    tp = np.count_nonzero(labels[pos] == labels[n])\n",
        "    prec = tp/m\n",
        "    N = len(labels)\n",
        "    Nn = np.count_nonzero(labels == labels[n])\n",
        "    return max(0, (N/Nn - 1/prec) / (N/Nn - 1))\n",
        "\n",
        "# calculates the recall gain by comparing the labels of the m instances closest to instance n\n",
        "def recallGain(dist, n, m, labels):\n",
        "    pos = mpos(dist, n, m)\n",
        "    tp = np.count_nonzero(labels[pos] == labels[n])\n",
        "    N = len(labels)\n",
        "    Nn = np.count_nonzero(labels == labels[n])\n",
        "    rec = tp/Nn\n",
        "    return max(0, (N/Nn - 1/rec) / (N/Nn - 1))\n",
        "\n",
        "# gives a precision gain matrix for all combinations m,n\n",
        "def precisionmatrixG(dist, N, labels):\n",
        "    P = np.array([\n",
        "        [\n",
        "            precisionGain(dist, n, m, labels) for n in range(N)\n",
        "        ] for m in range(1,N+1)\n",
        "    ])\n",
        "    return P\n",
        "\n",
        "# gives a recall gain matrix for all combinations m,n\n",
        "def recallmatrixG(dist, N, labels):\n",
        "    P = np.array([\n",
        "        [\n",
        "            recallGain(dist, n, m, labels) for n in range(N)\n",
        "        ] for m in range(1,N+1)\n",
        "    ])\n",
        "    return P\n",
        "\n",
        "# calculating the mean of the precision gain for the different labels\n",
        "def PmG(N, dist, labels):\n",
        "    P = precisionmatrixG(dist, N, labels)\n",
        "    return np.array([np.transpose(P)[labels == i].mean(axis = 0) for i in range(10)])\n",
        "\n",
        "# calculating the mean of the recall gain for the different labels\n",
        "def RmG(N, dist, labels):\n",
        "    R = recallmatrixG(dist, N, labels)\n",
        "    return np.array([np.transpose(R)[labels == i].mean(axis = 0) for i in range(10)])"
      ],
      "metadata": {
        "id": "RHEmzTdHN8Zk"
      },
      "execution_count": null,
      "outputs": []
    },
    {
      "cell_type": "code",
      "source": [
        "Pm_ = PmG(N, testdist, testlabels)\n",
        "Rm_ = RmG(N, testdist, testlabels)\n",
        "plotauc(Pm_, Rm_)"
      ],
      "metadata": {
        "id": "z-LtrTU5N_9D",
        "outputId": "5c4bc49c-4f73-466a-b115-c6e21bf1f137",
        "colab": {
          "base_uri": "https://localhost:8080/",
          "height": 316
        }
      },
      "execution_count": null,
      "outputs": [
        {
          "output_type": "display_data",
          "data": {
            "image/png": "[encoded data removed]",
            "text/plain": [
              "<Figure size 432x288 with 1 Axes>"
            ]
          },
          "metadata": {
            "needs_background": "light"
          }
        },
        {
          "output_type": "stream",
          "name": "stdout",
          "text": [
            "areas under the curves: [0.999956203310157, 0.9907596493647112, 0.9454394920977082, 0.9981335764301252, 0.9933605815908596, 0.9723455950477844, 0.998451669152975, 0.9959003526364818, 0.9935961357211446, 0.9211423502349865]\n"
          ]
        }
      ]
    },
    {
      "cell_type": "markdown",
      "source": [
        "## 1.2 Hand-Crafted Distance"
      ],
      "metadata": {
        "id": "RSz9vpfqLWQk"
      }
    },
    {
      "cell_type": "code",
      "source": [
        "import torch\n",
        "import torch.nn as nn\n",
        "import torch.nn.functional as F\n",
        "from torch.autograd import Variable\n",
        "import torch.optim as optim\n",
        "import numpy as np\n",
        "import random"
      ],
      "metadata": {
        "id": "fG_vC7C0OJny"
      },
      "execution_count": null,
      "outputs": []
    },
    {
      "cell_type": "code",
      "source": [
        "# to find a function to separate the ten different groups we used a small network with two layers\n",
        "# (a network with just one layer did not work out)\n",
        "# the second layer reduces the output to only two features\n",
        "class TrainNet(nn.Module):\n",
        "    def __init__(self):\n",
        "        super(TrainNet, self).__init__()\n",
        "        self.lin1 = nn.Linear(64, 64)\n",
        "        self.lin2 = nn.Linear(64, 2)\n",
        "        \n",
        "    def forward(self, x):\n",
        "        x = F.relu(self.lin1(x))\n",
        "        x = self.lin2(x)\n",
        "        return x"
      ],
      "metadata": {
        "id": "vOZaWUATONCi"
      },
      "execution_count": null,
      "outputs": []
    },
    {
      "cell_type": "code",
      "source": [
        "net = TrainNet()"
      ],
      "metadata": {
        "id": "Gj3c22hlORFY"
      },
      "execution_count": null,
      "outputs": []
    },
    {
      "cell_type": "code",
      "source": [
        "# save the net\n",
        "torch.save(net.state_dict(), \"FMLnet\")"
      ],
      "metadata": {
        "id": "cBibkQaYOUYs"
      },
      "execution_count": null,
      "outputs": []
    },
    {
      "cell_type": "code",
      "source": [
        "# load the net\n",
        "net = TrainNet()\n",
        "net.load_state_dict(torch.load(\"FMLnet\"))"
      ],
      "metadata": {
        "id": "1lgWA8XcOW2T",
        "outputId": "ab1fa254-0eb5-4aae-8da6-fa491cbf53cb",
        "colab": {
          "base_uri": "https://localhost:8080/"
        }
      },
      "execution_count": null,
      "outputs": [
        {
          "output_type": "execute_result",
          "data": {
            "text/plain": [
              "<All keys matched successfully>"
            ]
          },
          "metadata": {},
          "execution_count": 40
        }
      ]
    },
    {
      "cell_type": "code",
      "source": [
        "# the network is trained to seperate the groups by sorting them to the following ten points\n",
        "targpos = [[1,2],[2,1],[2,-1],[1,-2],[-1,-2],[-2,-1],[-2,1],[-1,2],[1,0],[-1,0]]\n",
        "\n",
        "# training\n",
        "T = 50 # number of epochs\n",
        "for k in range(T):\n",
        "    Loss = 0\n",
        "    for i in range(len(target)):\n",
        "        dat = data[i]\n",
        "        targs = targpos[target[i]]\n",
        "        input = Variable(torch.Tensor([dat]))\n",
        "        out = net(input)\n",
        "        targ = Variable(torch.Tensor([targs]))\n",
        "        criterion = nn.MSELoss()\n",
        "        loss = criterion(out, targ)\n",
        "        net.zero_grad()\n",
        "        loss.backward()\n",
        "        optimizer = optim.SGD(net.parameters(), lr=0.001)\n",
        "        optimizer.step()\n",
        "        Loss += loss.detach().numpy()\n",
        "    #print(Loss)"
      ],
      "metadata": {
        "id": "dIy8cRnkOhgW"
      },
      "execution_count": null,
      "outputs": []
    },
    {
      "cell_type": "code",
      "source": [
        "# visualization of the groups\n",
        "for i in range(len(target)):\n",
        "    input = Variable(torch.Tensor([data[i]]))\n",
        "    out = net(input).detach().numpy()[0]\n",
        "    plt.plot(out[0], out[1], 'bo', color=(1-target[i]/10,target[i]/10,1,1))\n",
        "plt.show()"
      ],
      "metadata": {
        "id": "6s6IIoCAOkgJ",
        "outputId": "4546dc56-4b8b-41ef-f7a0-d74f4f6d1450",
        "colab": {
          "base_uri": "https://localhost:8080/",
          "height": 266
        }
      },
      "execution_count": null,
      "outputs": [
        {
          "output_type": "display_data",
          "data": {
            "image/png": "[encoded data removed]",
            "text/plain": [
              "<Figure size 432x288 with 1 Axes>"
            ]
          },
          "metadata": {
            "needs_background": "light"
          }
        }
      ]
    },
    {
      "cell_type": "markdown",
      "source": [
        "The clusters of the different labels should overlap as little as ppossible."
      ],
      "metadata": {
        "id": "XGJeo3-YQUwr"
      }
    },
    {
      "cell_type": "code",
      "source": [
        "# calculating the two features using the trained net\n",
        "def twofeat(data, labels, n, trainednet):\n",
        "    data2 = np.array([trainednet(Variable(torch.Tensor([data[i]]))).detach().numpy()[0] for i in range(n)])\n",
        "    labels2 = labels[:n]\n",
        "    return data2, labels2"
      ],
      "metadata": {
        "id": "RGjI25jeOrZg"
      },
      "execution_count": null,
      "outputs": []
    },
    {
      "cell_type": "code",
      "source": [
        "# comparing the two methods\n",
        "N = 100\n",
        "testdata = data[:N]\n",
        "testlabels = target[:N]\n",
        "data2, labels2 = twofeat(data, target, N, net)\n",
        "dist2 = dist_vec(data2)\n",
        "\n",
        "Pm_ = Pm(N, dist2, labels2)\n",
        "Rm_ = Rm(N, dist2, labels2)\n",
        "plotauc(Pm_, Rm_)\n",
        "\n",
        "Pm_ = Pm(N, testdist, testlabels)\n",
        "Rm_ = Rm(N, testdist, testlabels)\n",
        "plotauc(Pm_, Rm_)"
      ],
      "metadata": {
        "id": "isH3DfBhOofG",
        "outputId": "816a6bc6-738b-48ff-80d1-8c00433c8db1",
        "colab": {
          "base_uri": "https://localhost:8080/",
          "height": 596
        }
      },
      "execution_count": null,
      "outputs": [
        {
          "output_type": "display_data",
          "data": {
            "image/png": "[encoded data removed]",
            "text/plain": [
              "<Figure size 432x288 with 1 Axes>"
            ]
          },
          "metadata": {
            "needs_background": "light"
          }
        },
        {
          "output_type": "stream",
          "name": "stdout",
          "text": [
            "areas under the curves: [0.9999999999999997, 0.9972820385260989, 1.0000000000000002, 0.9999999999999997, 0.9272785401447509, 0.85640978976195, 0.9245263205776136, 0.9535672448241411, 0.9999999999999997, 0.9986968449931413]\n"
          ]
        },
        {
          "output_type": "display_data",
          "data": {
            "image/png": "[encoded data removed]",
            "text/plain": [
              "<Figure size 432x288 with 1 Axes>"
            ]
          },
          "metadata": {
            "needs_background": "light"
          }
        },
        {
          "output_type": "stream",
          "name": "stdout",
          "text": [
            "areas under the curves: [0.9977403638185004, 0.9007929094182566, 0.6304926264947156, 0.9599439096210088, 0.8386209856544066, 0.7927018309014756, 0.9643035585183674, 0.8939866981989909, 0.797389472771933, 0.565241484319726]\n"
          ]
        }
      ]
    },
    {
      "cell_type": "markdown",
      "source": [
        "The areas under the curves have improved significantly with the handcrafted features."
      ],
      "metadata": {
        "id": "Ix5M_6EfPgF0"
      }
    },
    {
      "cell_type": "markdown",
      "source": [
        "# 2 Red cards study"
      ],
      "metadata": {
        "id": "kbg1ehDUv1uF"
      }
    },
    {
      "cell_type": "markdown",
      "source": [
        "## 2.1 Loading and cleaning the data"
      ],
      "metadata": {
        "id": "eMFu1YaMwEaW"
      }
    },
    {
      "cell_type": "code",
      "execution_count": 1,
      "metadata": {
        "id": "0rAgZdOhvdYe"
      },
      "outputs": [],
      "source": [
        "import pandas as pd                                     # for dealing with csv import\n",
        "import numpy as np                                      # arrays and other matlab like manipulation\n",
        "import os                                               # for joining paths and filenames sensibly\n",
        "import matplotlib.pyplot as plt                         # Matplotlib's pyplot: MATLAB-like syntax\n",
        "import scipy.stats.mstats as ssm                        # for bootstrap\n",
        "from scipy.stats import gaussian_kde as kde\n",
        "import random\n",
        "\n",
        "from numba import jit\n",
        "from datetime import datetime, date\n",
        "\n",
        "from sklearn.model_selection import cross_val_score\n",
        "from sklearn.linear_model import LinearRegression\n",
        "from sklearn.ensemble import RandomForestRegressor\n",
        "import sklearn\n",
        "\n",
        "%matplotlib inline\n",
        "import seaborn as sns    "
      ]
    },
    {
      "cell_type": "markdown",
      "source": [
        "Import the dataset in dyad format"
      ],
      "metadata": {
        "id": "NpLBh9Dx0lmD"
      }
    },
    {
      "cell_type": "code",
      "source": [
        "filename= 'CrowdstormingDataJuly1st.csv'\n",
        "df = pd.read_csv(filename)"
      ],
      "metadata": {
        "id": "62jerF6bv07R"
      },
      "execution_count": 2,
      "outputs": []
    },
    {
      "cell_type": "code",
      "source": [
        "#number of ref-player dyads\n",
        "df.shape[0]"
      ],
      "metadata": {
        "id": "fYuYQATbvzoM",
        "outputId": "7df0097d-25d1-483c-ba0c-507a7095e980",
        "colab": {
          "base_uri": "https://localhost:8080/"
        }
      },
      "execution_count": 3,
      "outputs": [
        {
          "output_type": "execute_result",
          "data": {
            "text/plain": [
              "146028"
            ]
          },
          "metadata": {},
          "execution_count": 3
        }
      ]
    },
    {
      "cell_type": "code",
      "source": [
        "#number of data points\n",
        "df[\"games\"].sum()"
      ],
      "metadata": {
        "id": "8R2k89WiZ0NG",
        "outputId": "7057ffc0-d810-4e54-eeed-ac1c0f79f2c0",
        "colab": {
          "base_uri": "https://localhost:8080/"
        }
      },
      "execution_count": 4,
      "outputs": [
        {
          "output_type": "execute_result",
          "data": {
            "text/plain": [
              "426572"
            ]
          },
          "metadata": {},
          "execution_count": 4
        }
      ]
    },
    {
      "cell_type": "code",
      "source": [
        "df[df[\"games\"]>2].head()"
      ],
      "metadata": {
        "id": "CArwHOu7a5sE",
        "outputId": "aead4b32-ed72-43ee-c361-e89cf458acef",
        "colab": {
          "base_uri": "https://localhost:8080/",
          "height": 356
        }
      },
      "execution_count": 5,
      "outputs": [
        {
          "output_type": "execute_result",
          "data": {
            "text/html": [
              "\n",
              "  <div id=\"df-7b1c3cf4-9c27-4de7-bce2-719e799f1fbf\">\n",
              "    <div class=\"colab-df-container\">\n",
              "      <div>\n",
              "<style scoped>\n",
              "    .dataframe tbody tr th:only-of-type {\n",
              "        vertical-align: middle;\n",
              "    }\n",
              "\n",
              "    .dataframe tbody tr th {\n",
              "        vertical-align: top;\n",
              "    }\n",
              "\n",
              "    .dataframe thead th {\n",
              "        text-align: right;\n",
              "    }\n",
              "</style>\n",
              "<table border=\"1\" class=\"dataframe\">\n",
              "  <thead>\n",
              "    <tr style=\"text-align: right;\">\n",
              "      <th></th>\n",
              "      <th>playerShort</th>\n",
              "      <th>player</th>\n",
              "      <th>club</th>\n",
              "      <th>leagueCountry</th>\n",
              "      <th>birthday</th>\n",
              "      <th>height</th>\n",
              "      <th>weight</th>\n",
              "      <th>position</th>\n",
              "      <th>games</th>\n",
              "      <th>victories</th>\n",
              "      <th>ties</th>\n",
              "      <th>defeats</th>\n",
              "      <th>goals</th>\n",
              "      <th>yellowCards</th>\n",
              "      <th>yellowReds</th>\n",
              "      <th>redCards</th>\n",
              "      <th>photoID</th>\n",
              "      <th>rater1</th>\n",
              "      <th>rater2</th>\n",
              "      <th>refNum</th>\n",
              "      <th>refCountry</th>\n",
              "      <th>Alpha_3</th>\n",
              "      <th>meanIAT</th>\n",
              "      <th>nIAT</th>\n",
              "      <th>seIAT</th>\n",
              "      <th>meanExp</th>\n",
              "      <th>nExp</th>\n",
              "      <th>seExp</th>\n",
              "    </tr>\n",
              "  </thead>\n",
              "  <tbody>\n",
              "    <tr>\n",
              "      <th>46</th>\n",
              "      <td>abdoul-camara</td>\n",
              "      <td>Abdoul Camara</td>\n",
              "      <td>FC Sochaux</td>\n",
              "      <td>France</td>\n",
              "      <td>20.02.1990</td>\n",
              "      <td>177.0</td>\n",
              "      <td>70.0</td>\n",
              "      <td>Left Winger</td>\n",
              "      <td>4</td>\n",
              "      <td>1</td>\n",
              "      <td>2</td>\n",
              "      <td>1</td>\n",
              "      <td>0</td>\n",
              "      <td>0</td>\n",
              "      <td>0</td>\n",
              "      <td>0</td>\n",
              "      <td>NaN</td>\n",
              "      <td>NaN</td>\n",
              "      <td>NaN</td>\n",
              "      <td>7</td>\n",
              "      <td>7</td>\n",
              "      <td>FRA</td>\n",
              "      <td>0.334684</td>\n",
              "      <td>2882.0</td>\n",
              "      <td>0.000151</td>\n",
              "      <td>0.336101</td>\n",
              "      <td>3011.0</td>\n",
              "      <td>0.000586</td>\n",
              "    </tr>\n",
              "    <tr>\n",
              "      <th>48</th>\n",
              "      <td>ahmed-kantari</td>\n",
              "      <td>Ahmed Kantari</td>\n",
              "      <td>Stade Brest</td>\n",
              "      <td>France</td>\n",
              "      <td>28.06.1985</td>\n",
              "      <td>185.0</td>\n",
              "      <td>78.0</td>\n",
              "      <td>NaN</td>\n",
              "      <td>6</td>\n",
              "      <td>4</td>\n",
              "      <td>0</td>\n",
              "      <td>2</td>\n",
              "      <td>0</td>\n",
              "      <td>1</td>\n",
              "      <td>0</td>\n",
              "      <td>0</td>\n",
              "      <td>36844.jpg</td>\n",
              "      <td>0.25</td>\n",
              "      <td>0.25</td>\n",
              "      <td>7</td>\n",
              "      <td>7</td>\n",
              "      <td>FRA</td>\n",
              "      <td>0.334684</td>\n",
              "      <td>2882.0</td>\n",
              "      <td>0.000151</td>\n",
              "      <td>0.336101</td>\n",
              "      <td>3011.0</td>\n",
              "      <td>0.000586</td>\n",
              "    </tr>\n",
              "    <tr>\n",
              "      <th>52</th>\n",
              "      <td>alexis-thebaux</td>\n",
              "      <td>Alexis Thébaux</td>\n",
              "      <td>Stade Brest</td>\n",
              "      <td>France</td>\n",
              "      <td>17.03.1985</td>\n",
              "      <td>185.0</td>\n",
              "      <td>81.0</td>\n",
              "      <td>NaN</td>\n",
              "      <td>3</td>\n",
              "      <td>0</td>\n",
              "      <td>1</td>\n",
              "      <td>2</td>\n",
              "      <td>0</td>\n",
              "      <td>0</td>\n",
              "      <td>0</td>\n",
              "      <td>0</td>\n",
              "      <td>NaN</td>\n",
              "      <td>NaN</td>\n",
              "      <td>NaN</td>\n",
              "      <td>7</td>\n",
              "      <td>7</td>\n",
              "      <td>FRA</td>\n",
              "      <td>0.334684</td>\n",
              "      <td>2882.0</td>\n",
              "      <td>0.000151</td>\n",
              "      <td>0.336101</td>\n",
              "      <td>3011.0</td>\n",
              "      <td>0.000586</td>\n",
              "    </tr>\n",
              "    <tr>\n",
              "      <th>58</th>\n",
              "      <td>antoine-devaux</td>\n",
              "      <td>Antoine Devaux</td>\n",
              "      <td>Stade Reims</td>\n",
              "      <td>France</td>\n",
              "      <td>21.02.1985</td>\n",
              "      <td>185.0</td>\n",
              "      <td>72.0</td>\n",
              "      <td>Defensive Midfielder</td>\n",
              "      <td>3</td>\n",
              "      <td>1</td>\n",
              "      <td>1</td>\n",
              "      <td>1</td>\n",
              "      <td>0</td>\n",
              "      <td>0</td>\n",
              "      <td>0</td>\n",
              "      <td>0</td>\n",
              "      <td>NaN</td>\n",
              "      <td>NaN</td>\n",
              "      <td>NaN</td>\n",
              "      <td>7</td>\n",
              "      <td>7</td>\n",
              "      <td>FRA</td>\n",
              "      <td>0.334684</td>\n",
              "      <td>2882.0</td>\n",
              "      <td>0.000151</td>\n",
              "      <td>0.336101</td>\n",
              "      <td>3011.0</td>\n",
              "      <td>0.000586</td>\n",
              "    </tr>\n",
              "    <tr>\n",
              "      <th>59</th>\n",
              "      <td>arnaud-maire</td>\n",
              "      <td>Arnaud Maire</td>\n",
              "      <td>AC Ajaccio</td>\n",
              "      <td>France</td>\n",
              "      <td>06.03.1979</td>\n",
              "      <td>181.0</td>\n",
              "      <td>74.0</td>\n",
              "      <td>NaN</td>\n",
              "      <td>3</td>\n",
              "      <td>1</td>\n",
              "      <td>1</td>\n",
              "      <td>1</td>\n",
              "      <td>0</td>\n",
              "      <td>1</td>\n",
              "      <td>0</td>\n",
              "      <td>0</td>\n",
              "      <td>NaN</td>\n",
              "      <td>NaN</td>\n",
              "      <td>NaN</td>\n",
              "      <td>7</td>\n",
              "      <td>7</td>\n",
              "      <td>FRA</td>\n",
              "      <td>0.334684</td>\n",
              "      <td>2882.0</td>\n",
              "      <td>0.000151</td>\n",
              "      <td>0.336101</td>\n",
              "      <td>3011.0</td>\n",
              "      <td>0.000586</td>\n",
              "    </tr>\n",
              "  </tbody>\n",
              "</table>\n",
              "</div>\n",
              "      <button class=\"colab-df-convert\" onclick=\"convertToInteractive('df-7b1c3cf4-9c27-4de7-bce2-719e799f1fbf')\"\n",
              "              title=\"Convert this dataframe to an interactive table.\"\n",
              "              style=\"display:none;\">\n",
              "        \n",
              "  <svg xmlns=\"http://www.w3.org/2000/svg\" height=\"24px\"viewBox=\"0 0 24 24\"\n",
              "       width=\"24px\">\n",
              "    <path d=\"M0 0h24v24H0V0z\" fill=\"none\"/>\n",
              "    <path d=\"M18.56 5.44l.94 2.06.94-2.06 2.06-.94-2.06-.94-.94-2.06-.94 2.06-2.06.94zm-11 1L8.5 8.5l.94-2.06 2.06-.94-2.06-.94L8.5 2.5l-.94 2.06-2.06.94zm10 10l.94 2.06.94-2.06 2.06-.94-2.06-.94-.94-2.06-.94 2.06-2.06.94z\"/><path d=\"M17.41 7.96l-1.37-1.37c-.4-.4-.92-.59-1.43-.59-.52 0-1.04.2-1.43.59L10.3 9.45l-7.72 7.72c-.78.78-.78 2.05 0 2.83L4 21.41c.39.39.9.59 1.41.59.51 0 1.02-.2 1.41-.59l7.78-7.78 2.81-2.81c.8-.78.8-2.07 0-2.86zM5.41 20L4 18.59l7.72-7.72 1.47 1.35L5.41 20z\"/>\n",
              "  </svg>\n",
              "      </button>\n",
              "      \n",
              "  <style>\n",
              "    .colab-df-container {\n",
              "      display:flex;\n",
              "      flex-wrap:wrap;\n",
              "      gap: 12px;\n",
              "    }\n",
              "\n",
              "    .colab-df-convert {\n",
              "      background-color: #E8F0FE;\n",
              "      border: none;\n",
              "      border-radius: 50%;\n",
              "      cursor: pointer;\n",
              "      display: none;\n",
              "      fill: #1967D2;\n",
              "      height: 32px;\n",
              "      padding: 0 0 0 0;\n",
              "      width: 32px;\n",
              "    }\n",
              "\n",
              "    .colab-df-convert:hover {\n",
              "      background-color: #E2EBFA;\n",
              "      box-shadow: 0px 1px 2px rgba(60, 64, 67, 0.3), 0px 1px 3px 1px rgba(60, 64, 67, 0.15);\n",
              "      fill: #174EA6;\n",
              "    }\n",
              "\n",
              "    [theme=dark] .colab-df-convert {\n",
              "      background-color: #3B4455;\n",
              "      fill: #D2E3FC;\n",
              "    }\n",
              "\n",
              "    [theme=dark] .colab-df-convert:hover {\n",
              "      background-color: #434B5C;\n",
              "      box-shadow: 0px 1px 3px 1px rgba(0, 0, 0, 0.15);\n",
              "      filter: drop-shadow(0px 1px 2px rgba(0, 0, 0, 0.3));\n",
              "      fill: #FFFFFF;\n",
              "    }\n",
              "  </style>\n",
              "\n",
              "      <script>\n",
              "        const buttonEl =\n",
              "          document.querySelector('#df-7b1c3cf4-9c27-4de7-bce2-719e799f1fbf button.colab-df-convert');\n",
              "        buttonEl.style.display =\n",
              "          google.colab.kernel.accessAllowed ? 'block' : 'none';\n",
              "\n",
              "        async function convertToInteractive(key) {\n",
              "          const element = document.querySelector('#df-7b1c3cf4-9c27-4de7-bce2-719e799f1fbf');\n",
              "          const dataTable =\n",
              "            await google.colab.kernel.invokeFunction('convertToInteractive',\n",
              "                                                     [key], {});\n",
              "          if (!dataTable) return;\n",
              "\n",
              "          const docLinkHtml = 'Like what you see? Visit the ' +\n",
              "            '<a target=\"_blank\" href=https://colab.research.google.com/notebooks/data_table.ipynb>data table notebook</a>'\n",
              "            + ' to learn more about interactive tables.';\n",
              "          element.innerHTML = '';\n",
              "          dataTable['output_type'] = 'display_data';\n",
              "          await google.colab.output.renderOutput(dataTable, element);\n",
              "          const docLink = document.createElement('div');\n",
              "          docLink.innerHTML = docLinkHtml;\n",
              "          element.appendChild(docLink);\n",
              "        }\n",
              "      </script>\n",
              "    </div>\n",
              "  </div>\n",
              "  "
            ],
            "text/plain": [
              "       playerShort          player         club  ...   meanExp    nExp     seExp\n",
              "46   abdoul-camara   Abdoul Camara   FC Sochaux  ...  0.336101  3011.0  0.000586\n",
              "48   ahmed-kantari   Ahmed Kantari  Stade Brest  ...  0.336101  3011.0  0.000586\n",
              "52  alexis-thebaux  Alexis Thébaux  Stade Brest  ...  0.336101  3011.0  0.000586\n",
              "58  antoine-devaux  Antoine Devaux  Stade Reims  ...  0.336101  3011.0  0.000586\n",
              "59    arnaud-maire    Arnaud Maire   AC Ajaccio  ...  0.336101  3011.0  0.000586\n",
              "\n",
              "[5 rows x 28 columns]"
            ]
          },
          "metadata": {},
          "execution_count": 5
        }
      ]
    },
    {
      "cell_type": "markdown",
      "source": [
        "We have 426572 player-ref combinations in total, but only 146028 dyads. There are multiple player-referee combinations that met more than once (i.e. there were several games in which both the player and the ref were involved). This complicates the analysis, it would be better to have a datapoint for every time a player and a referee met. Therefore, the disaggregation strategy from Team Sheffield was adopted with a few modifications(https://osf.io/w7tds/)"
      ],
      "metadata": {
        "id": "_wygjVvu2V6W"
      }
    },
    {
      "cell_type": "code",
      "source": [
        "def transform_data(df):\n",
        "  #add new vars\n",
        "  df['allreds']=df['yellowReds']+df['redCards']\n",
        "  df['allredsStrict']=df['redCards']\n",
        "  df['refCount']=0\n",
        "\n",
        "  #transform victory/tie/defeat values to relative rates\n",
        "  df[\"victories\"] = df[\"victories\"]/df[\"games\"]\n",
        "  df[\"ties\"] = df[\"ties\"]/df[\"games\"]\n",
        "  df[\"defeats\"] = df[\"defeats\"]/df[\"games\"]\n",
        "\n",
        "  #add a column which tracks how many games each ref is involved in\n",
        "  refs=pd.unique(df['refNum'].values.ravel()) #list all unique ref IDs\n",
        "\n",
        "  #for each ref, count their dyads\n",
        "  for r in refs:\n",
        "      df['refCount'][df['refNum']==r]=len(df[df['refNum']==r])    \n",
        "\n",
        "  colnames=list(df.columns)\n",
        "\n",
        "  j = 0\n",
        "  out = [0 for _ in range(sum(df['games']))]\n",
        "\n",
        "  for _, row in df.iterrows():\n",
        "          n = row['games']\n",
        "          c = row['allreds']\n",
        "          d = row['allredsStrict']\n",
        "\n",
        "          \n",
        "          for _ in range(n):\n",
        "                  row['allreds'] = 1 if (c-_) > 0 else 0\n",
        "                  row['allredsStrict'] = 1 if (d-_) > 0 else 0\n",
        "                  rowlist=list(row)  #convert from pandas Series to prevent overwriting previous values of out[j]\n",
        "                  out[j] = rowlist\n",
        "                  j += 1\n",
        "                  if j%10000==0:    \n",
        "                      print(\"Number \"+ str(j) + \" of \" + str(df.shape[0]))\n",
        "\n",
        "  pd.DataFrame(out, columns=colnames).to_csv('crowdstorm_singles.csv', index=False) "
      ],
      "metadata": {
        "id": "STbXIiiovzt1"
      },
      "execution_count": 6,
      "outputs": []
    },
    {
      "cell_type": "code",
      "source": [
        "%%capture \n",
        "##added to suppress output\n",
        "#disaggregate dataframe\n",
        "transform_data(df)"
      ],
      "metadata": {
        "id": "nGteC_lsqd-H"
      },
      "execution_count": 7,
      "outputs": []
    },
    {
      "cell_type": "code",
      "source": [
        "file_singles= 'crowdstorm_singles.csv'\n",
        "dfs = pd.read_csv(file_singles)\n",
        "dfs[\"games\"] = 1 #every row now represents one game\n",
        "dfs.shape[0]\n",
        "dfs.head()"
      ],
      "metadata": {
        "id": "5pV1orFF5lV5",
        "outputId": "93945ad0-8c8c-4bbc-b575-d05bcfe66a2b",
        "colab": {
          "base_uri": "https://localhost:8080/",
          "height": 356
        }
      },
      "execution_count": 245,
      "outputs": [
        {
          "output_type": "execute_result",
          "data": {
            "text/html": [
              "\n",
              "  <div id=\"df-f6a58201-0c7f-497e-adb9-f910081ba6f4\">\n",
              "    <div class=\"colab-df-container\">\n",
              "      <div>\n",
              "<style scoped>\n",
              "    .dataframe tbody tr th:only-of-type {\n",
              "        vertical-align: middle;\n",
              "    }\n",
              "\n",
              "    .dataframe tbody tr th {\n",
              "        vertical-align: top;\n",
              "    }\n",
              "\n",
              "    .dataframe thead th {\n",
              "        text-align: right;\n",
              "    }\n",
              "</style>\n",
              "<table border=\"1\" class=\"dataframe\">\n",
              "  <thead>\n",
              "    <tr style=\"text-align: right;\">\n",
              "      <th></th>\n",
              "      <th>playerShort</th>\n",
              "      <th>player</th>\n",
              "      <th>club</th>\n",
              "      <th>leagueCountry</th>\n",
              "      <th>birthday</th>\n",
              "      <th>height</th>\n",
              "      <th>weight</th>\n",
              "      <th>position</th>\n",
              "      <th>games</th>\n",
              "      <th>victories</th>\n",
              "      <th>ties</th>\n",
              "      <th>defeats</th>\n",
              "      <th>goals</th>\n",
              "      <th>yellowCards</th>\n",
              "      <th>yellowReds</th>\n",
              "      <th>redCards</th>\n",
              "      <th>photoID</th>\n",
              "      <th>rater1</th>\n",
              "      <th>rater2</th>\n",
              "      <th>refNum</th>\n",
              "      <th>refCountry</th>\n",
              "      <th>Alpha_3</th>\n",
              "      <th>meanIAT</th>\n",
              "      <th>nIAT</th>\n",
              "      <th>seIAT</th>\n",
              "      <th>meanExp</th>\n",
              "      <th>nExp</th>\n",
              "      <th>seExp</th>\n",
              "      <th>allreds</th>\n",
              "      <th>allredsStrict</th>\n",
              "      <th>refCount</th>\n",
              "    </tr>\n",
              "  </thead>\n",
              "  <tbody>\n",
              "    <tr>\n",
              "      <th>0</th>\n",
              "      <td>lucas-wilchez</td>\n",
              "      <td>Lucas Wilchez</td>\n",
              "      <td>Real Zaragoza</td>\n",
              "      <td>Spain</td>\n",
              "      <td>31.08.1983</td>\n",
              "      <td>177.0</td>\n",
              "      <td>72.0</td>\n",
              "      <td>Attacking Midfielder</td>\n",
              "      <td>1</td>\n",
              "      <td>0.0</td>\n",
              "      <td>0.0</td>\n",
              "      <td>1.0</td>\n",
              "      <td>0</td>\n",
              "      <td>0</td>\n",
              "      <td>0</td>\n",
              "      <td>0</td>\n",
              "      <td>95212.jpg</td>\n",
              "      <td>0.25</td>\n",
              "      <td>0.50</td>\n",
              "      <td>1</td>\n",
              "      <td>1</td>\n",
              "      <td>GRC</td>\n",
              "      <td>0.326391</td>\n",
              "      <td>712.0</td>\n",
              "      <td>0.000564</td>\n",
              "      <td>0.396000</td>\n",
              "      <td>750.0</td>\n",
              "      <td>0.002696</td>\n",
              "      <td>0</td>\n",
              "      <td>0</td>\n",
              "      <td>1</td>\n",
              "    </tr>\n",
              "    <tr>\n",
              "      <th>1</th>\n",
              "      <td>john-utaka</td>\n",
              "      <td>John Utaka</td>\n",
              "      <td>Montpellier HSC</td>\n",
              "      <td>France</td>\n",
              "      <td>08.01.1982</td>\n",
              "      <td>179.0</td>\n",
              "      <td>82.0</td>\n",
              "      <td>Right Winger</td>\n",
              "      <td>1</td>\n",
              "      <td>0.0</td>\n",
              "      <td>0.0</td>\n",
              "      <td>1.0</td>\n",
              "      <td>0</td>\n",
              "      <td>1</td>\n",
              "      <td>0</td>\n",
              "      <td>0</td>\n",
              "      <td>1663.jpg</td>\n",
              "      <td>0.75</td>\n",
              "      <td>0.75</td>\n",
              "      <td>2</td>\n",
              "      <td>2</td>\n",
              "      <td>ZMB</td>\n",
              "      <td>0.203375</td>\n",
              "      <td>40.0</td>\n",
              "      <td>0.010875</td>\n",
              "      <td>-0.204082</td>\n",
              "      <td>49.0</td>\n",
              "      <td>0.061504</td>\n",
              "      <td>0</td>\n",
              "      <td>0</td>\n",
              "      <td>1</td>\n",
              "    </tr>\n",
              "    <tr>\n",
              "      <th>2</th>\n",
              "      <td>abdon-prats</td>\n",
              "      <td>Abdón Prats</td>\n",
              "      <td>RCD Mallorca</td>\n",
              "      <td>Spain</td>\n",
              "      <td>17.12.1992</td>\n",
              "      <td>181.0</td>\n",
              "      <td>79.0</td>\n",
              "      <td>NaN</td>\n",
              "      <td>1</td>\n",
              "      <td>0.0</td>\n",
              "      <td>1.0</td>\n",
              "      <td>0.0</td>\n",
              "      <td>0</td>\n",
              "      <td>1</td>\n",
              "      <td>0</td>\n",
              "      <td>0</td>\n",
              "      <td>NaN</td>\n",
              "      <td>NaN</td>\n",
              "      <td>NaN</td>\n",
              "      <td>3</td>\n",
              "      <td>3</td>\n",
              "      <td>ESP</td>\n",
              "      <td>0.369894</td>\n",
              "      <td>1785.0</td>\n",
              "      <td>0.000229</td>\n",
              "      <td>0.588297</td>\n",
              "      <td>1897.0</td>\n",
              "      <td>0.001002</td>\n",
              "      <td>0</td>\n",
              "      <td>0</td>\n",
              "      <td>3</td>\n",
              "    </tr>\n",
              "    <tr>\n",
              "      <th>3</th>\n",
              "      <td>pablo-mari</td>\n",
              "      <td>Pablo Marí</td>\n",
              "      <td>RCD Mallorca</td>\n",
              "      <td>Spain</td>\n",
              "      <td>31.08.1993</td>\n",
              "      <td>191.0</td>\n",
              "      <td>87.0</td>\n",
              "      <td>Center Back</td>\n",
              "      <td>1</td>\n",
              "      <td>1.0</td>\n",
              "      <td>0.0</td>\n",
              "      <td>0.0</td>\n",
              "      <td>0</td>\n",
              "      <td>0</td>\n",
              "      <td>0</td>\n",
              "      <td>0</td>\n",
              "      <td>NaN</td>\n",
              "      <td>NaN</td>\n",
              "      <td>NaN</td>\n",
              "      <td>3</td>\n",
              "      <td>3</td>\n",
              "      <td>ESP</td>\n",
              "      <td>0.369894</td>\n",
              "      <td>1785.0</td>\n",
              "      <td>0.000229</td>\n",
              "      <td>0.588297</td>\n",
              "      <td>1897.0</td>\n",
              "      <td>0.001002</td>\n",
              "      <td>0</td>\n",
              "      <td>0</td>\n",
              "      <td>3</td>\n",
              "    </tr>\n",
              "    <tr>\n",
              "      <th>4</th>\n",
              "      <td>ruben-pena</td>\n",
              "      <td>Rubén Peña</td>\n",
              "      <td>Real Valladolid</td>\n",
              "      <td>Spain</td>\n",
              "      <td>18.07.1991</td>\n",
              "      <td>172.0</td>\n",
              "      <td>70.0</td>\n",
              "      <td>Right Midfielder</td>\n",
              "      <td>1</td>\n",
              "      <td>1.0</td>\n",
              "      <td>0.0</td>\n",
              "      <td>0.0</td>\n",
              "      <td>0</td>\n",
              "      <td>0</td>\n",
              "      <td>0</td>\n",
              "      <td>0</td>\n",
              "      <td>NaN</td>\n",
              "      <td>NaN</td>\n",
              "      <td>NaN</td>\n",
              "      <td>3</td>\n",
              "      <td>3</td>\n",
              "      <td>ESP</td>\n",
              "      <td>0.369894</td>\n",
              "      <td>1785.0</td>\n",
              "      <td>0.000229</td>\n",
              "      <td>0.588297</td>\n",
              "      <td>1897.0</td>\n",
              "      <td>0.001002</td>\n",
              "      <td>0</td>\n",
              "      <td>0</td>\n",
              "      <td>3</td>\n",
              "    </tr>\n",
              "  </tbody>\n",
              "</table>\n",
              "</div>\n",
              "      <button class=\"colab-df-convert\" onclick=\"convertToInteractive('df-f6a58201-0c7f-497e-adb9-f910081ba6f4')\"\n",
              "              title=\"Convert this dataframe to an interactive table.\"\n",
              "              style=\"display:none;\">\n",
              "        \n",
              "  <svg xmlns=\"http://www.w3.org/2000/svg\" height=\"24px\"viewBox=\"0 0 24 24\"\n",
              "       width=\"24px\">\n",
              "    <path d=\"M0 0h24v24H0V0z\" fill=\"none\"/>\n",
              "    <path d=\"M18.56 5.44l.94 2.06.94-2.06 2.06-.94-2.06-.94-.94-2.06-.94 2.06-2.06.94zm-11 1L8.5 8.5l.94-2.06 2.06-.94-2.06-.94L8.5 2.5l-.94 2.06-2.06.94zm10 10l.94 2.06.94-2.06 2.06-.94-2.06-.94-.94-2.06-.94 2.06-2.06.94z\"/><path d=\"M17.41 7.96l-1.37-1.37c-.4-.4-.92-.59-1.43-.59-.52 0-1.04.2-1.43.59L10.3 9.45l-7.72 7.72c-.78.78-.78 2.05 0 2.83L4 21.41c.39.39.9.59 1.41.59.51 0 1.02-.2 1.41-.59l7.78-7.78 2.81-2.81c.8-.78.8-2.07 0-2.86zM5.41 20L4 18.59l7.72-7.72 1.47 1.35L5.41 20z\"/>\n",
              "  </svg>\n",
              "      </button>\n",
              "      \n",
              "  <style>\n",
              "    .colab-df-container {\n",
              "      display:flex;\n",
              "      flex-wrap:wrap;\n",
              "      gap: 12px;\n",
              "    }\n",
              "\n",
              "    .colab-df-convert {\n",
              "      background-color: #E8F0FE;\n",
              "      border: none;\n",
              "      border-radius: 50%;\n",
              "      cursor: pointer;\n",
              "      display: none;\n",
              "      fill: #1967D2;\n",
              "      height: 32px;\n",
              "      padding: 0 0 0 0;\n",
              "      width: 32px;\n",
              "    }\n",
              "\n",
              "    .colab-df-convert:hover {\n",
              "      background-color: #E2EBFA;\n",
              "      box-shadow: 0px 1px 2px rgba(60, 64, 67, 0.3), 0px 1px 3px 1px rgba(60, 64, 67, 0.15);\n",
              "      fill: #174EA6;\n",
              "    }\n",
              "\n",
              "    [theme=dark] .colab-df-convert {\n",
              "      background-color: #3B4455;\n",
              "      fill: #D2E3FC;\n",
              "    }\n",
              "\n",
              "    [theme=dark] .colab-df-convert:hover {\n",
              "      background-color: #434B5C;\n",
              "      box-shadow: 0px 1px 3px 1px rgba(0, 0, 0, 0.15);\n",
              "      filter: drop-shadow(0px 1px 2px rgba(0, 0, 0, 0.3));\n",
              "      fill: #FFFFFF;\n",
              "    }\n",
              "  </style>\n",
              "\n",
              "      <script>\n",
              "        const buttonEl =\n",
              "          document.querySelector('#df-f6a58201-0c7f-497e-adb9-f910081ba6f4 button.colab-df-convert');\n",
              "        buttonEl.style.display =\n",
              "          google.colab.kernel.accessAllowed ? 'block' : 'none';\n",
              "\n",
              "        async function convertToInteractive(key) {\n",
              "          const element = document.querySelector('#df-f6a58201-0c7f-497e-adb9-f910081ba6f4');\n",
              "          const dataTable =\n",
              "            await google.colab.kernel.invokeFunction('convertToInteractive',\n",
              "                                                     [key], {});\n",
              "          if (!dataTable) return;\n",
              "\n",
              "          const docLinkHtml = 'Like what you see? Visit the ' +\n",
              "            '<a target=\"_blank\" href=https://colab.research.google.com/notebooks/data_table.ipynb>data table notebook</a>'\n",
              "            + ' to learn more about interactive tables.';\n",
              "          element.innerHTML = '';\n",
              "          dataTable['output_type'] = 'display_data';\n",
              "          await google.colab.output.renderOutput(dataTable, element);\n",
              "          const docLink = document.createElement('div');\n",
              "          docLink.innerHTML = docLinkHtml;\n",
              "          element.appendChild(docLink);\n",
              "        }\n",
              "      </script>\n",
              "    </div>\n",
              "  </div>\n",
              "  "
            ],
            "text/plain": [
              "     playerShort         player  ... allredsStrict refCount\n",
              "0  lucas-wilchez  Lucas Wilchez  ...             0        1\n",
              "1     john-utaka     John Utaka  ...             0        1\n",
              "2    abdon-prats    Abdón Prats  ...             0        3\n",
              "3     pablo-mari     Pablo Marí  ...             0        3\n",
              "4     ruben-pena     Rubén Peña  ...             0        3\n",
              "\n",
              "[5 rows x 31 columns]"
            ]
          },
          "metadata": {},
          "execution_count": 245
        }
      ]
    },
    {
      "cell_type": "markdown",
      "source": [
        "We now have one row for every game. We adjusted the games column to only contain 1s since each row now represents one game. We also updated the victories/ties/defeats columns to relative rates. If the dyad occured only once, nothing changes; if the pair was present more often than once, both data points now have the relative rates of those events as features to ensure that the information from those columns is not lost without skewing the data."
      ],
      "metadata": {
        "id": "l7ne6wQ5aMsI"
      }
    },
    {
      "cell_type": "markdown",
      "source": [
        "The photo ID column is crucial; if there is no photo, we cannot use the data point since there is no skin color rating available. There are 53505 data points without photo id; we drop those. \n",
        "\n",
        "We also drop all data points without height because we want to use the height later."
      ],
      "metadata": {
        "id": "7PBc7KQVaKSP"
      }
    },
    {
      "cell_type": "code",
      "source": [
        "dfs.isna().sum()"
      ],
      "metadata": {
        "id": "G8NKSeeA3cCO",
        "outputId": "1ec88482-b917-4692-c769-98f23fed0902",
        "colab": {
          "base_uri": "https://localhost:8080/"
        }
      },
      "execution_count": 246,
      "outputs": [
        {
          "output_type": "execute_result",
          "data": {
            "text/plain": [
              "playerShort          0\n",
              "player               0\n",
              "club                 0\n",
              "leagueCountry        0\n",
              "birthday             0\n",
              "height             357\n",
              "weight            3862\n",
              "position         44196\n",
              "games                0\n",
              "victories            0\n",
              "ties                 0\n",
              "defeats              0\n",
              "goals                0\n",
              "yellowCards          0\n",
              "yellowReds           0\n",
              "redCards             0\n",
              "photoID          53505\n",
              "rater1           53505\n",
              "rater2           53505\n",
              "refNum               0\n",
              "refCountry           0\n",
              "Alpha_3              1\n",
              "meanIAT            201\n",
              "nIAT               201\n",
              "seIAT              201\n",
              "meanExp            201\n",
              "nExp               201\n",
              "seExp              201\n",
              "allreds              0\n",
              "allredsStrict        0\n",
              "refCount             0\n",
              "dtype: int64"
            ]
          },
          "metadata": {},
          "execution_count": 246
        }
      ]
    },
    {
      "cell_type": "code",
      "source": [
        "dfs = dfs[dfs['photoID'].notna()]\n",
        "dfs = dfs[dfs['height'].notna()]\n",
        "dfs.isna().sum()"
      ],
      "metadata": {
        "id": "rxzYVgKGuGYc",
        "outputId": "0247e1a6-5e25-4866-b4c2-b9b437c347e4",
        "colab": {
          "base_uri": "https://localhost:8080/"
        }
      },
      "execution_count": 247,
      "outputs": [
        {
          "output_type": "execute_result",
          "data": {
            "text/plain": [
              "playerShort          0\n",
              "player               0\n",
              "club                 0\n",
              "leagueCountry        0\n",
              "birthday             0\n",
              "height               0\n",
              "weight            1183\n",
              "position         21657\n",
              "games                0\n",
              "victories            0\n",
              "ties                 0\n",
              "defeats              0\n",
              "goals                0\n",
              "yellowCards          0\n",
              "yellowReds           0\n",
              "redCards             0\n",
              "photoID              0\n",
              "rater1               0\n",
              "rater2               0\n",
              "refNum               0\n",
              "refCountry           0\n",
              "Alpha_3              1\n",
              "meanIAT            187\n",
              "nIAT               187\n",
              "seIAT              187\n",
              "meanExp            187\n",
              "nExp               187\n",
              "seExp              187\n",
              "allreds              0\n",
              "allredsStrict        0\n",
              "refCount             0\n",
              "dtype: int64"
            ]
          },
          "metadata": {},
          "execution_count": 247
        }
      ]
    },
    {
      "cell_type": "code",
      "source": [
        "#look at how often a specific ref occurs in the dataframe\n",
        "sns.histplot(dfs.refNum.value_counts(),kde=False, bins=1000)\n",
        "plt.xlim(0,500)\n",
        "\n",
        "#what is the median of the referee occurance?\n",
        "print(\"Average: \" + str(np.average(dfs.refNum.value_counts())))\n",
        "print(\"Median: \" + str(np.median(dfs.refNum.value_counts())))"
      ],
      "metadata": {
        "id": "YdJV_UpTupxs",
        "outputId": "b86a1036-58ad-4c55-b084-bb736d1c7088",
        "colab": {
          "base_uri": "https://localhost:8080/",
          "height": 315
        }
      },
      "execution_count": 248,
      "outputs": [
        {
          "output_type": "stream",
          "name": "stdout",
          "text": [
            "Average: 125.29257641921397\n",
            "Median: 11.0\n"
          ]
        },
        {
          "output_type": "display_data",
          "data": {
            "image/png": "[encoded data removed]",
            "text/plain": [
              "<Figure size 432x288 with 1 Axes>"
            ]
          },
          "metadata": {
            "needs_background": "light"
          }
        }
      ]
    },
    {
      "cell_type": "markdown",
      "source": [
        "Most of the referees occur only a few times in the whole dataset (median level 11). In a normal game there are 22 players, so each referee with less than 22 occurances seems to be erronous (for example meeting a player during a game not included in the leagues we are looking at). Therefore, we exclude all referees with less than 22 occurances in the dataset."
      ],
      "metadata": {
        "id": "YUEgKYbXyhTF"
      }
    },
    {
      "cell_type": "code",
      "source": [
        "all_refs = dfs.refNum.value_counts()\n",
        "good_refs = all_refs[all_refs>21] \n",
        "dfs_good=dfs[dfs['refNum'].isin(good_refs.index.values)]"
      ],
      "metadata": {
        "id": "LBL_ugrrygvS"
      },
      "execution_count": 249,
      "outputs": []
    },
    {
      "cell_type": "markdown",
      "source": [
        "We have the birth date of the players, but more helpful as a feature would be their age. Therefore, we transform this features to become an age."
      ],
      "metadata": {
        "id": "hnTjJydk2SJt"
      }
    },
    {
      "cell_type": "code",
      "source": [
        "def age(born):\n",
        "    born = datetime.strptime(str(born), \"%d.%m.%Y\").date()\n",
        "    today = date.today()\n",
        "    return today.year - born.year - ((today.month, \n",
        "                                      today.day) < (born.month, \n",
        "                                                    born.day))"
      ],
      "metadata": {
        "id": "ddogc7jv2crj"
      },
      "execution_count": 250,
      "outputs": []
    },
    {
      "cell_type": "code",
      "source": [
        "#dfs_good['birthday'] = df['birthday'].astype('str') \n",
        "dfs_good[\"age\"] = dfs_good['birthday'].apply(age)\n",
        "dfs_good.head()"
      ],
      "metadata": {
        "id": "iLsPpt6b3Qtn",
        "outputId": "a7ca5c63-9a09-40b2-f3ed-1385bad34df6",
        "colab": {
          "base_uri": "https://localhost:8080/",
          "height": 356
        }
      },
      "execution_count": 251,
      "outputs": [
        {
          "output_type": "execute_result",
          "data": {
            "text/html": [
              "\n",
              "  <div id=\"df-b14283bc-c5de-42b8-b9a5-bd89ec424808\">\n",
              "    <div class=\"colab-df-container\">\n",
              "      <div>\n",
              "<style scoped>\n",
              "    .dataframe tbody tr th:only-of-type {\n",
              "        vertical-align: middle;\n",
              "    }\n",
              "\n",
              "    .dataframe tbody tr th {\n",
              "        vertical-align: top;\n",
              "    }\n",
              "\n",
              "    .dataframe thead th {\n",
              "        text-align: right;\n",
              "    }\n",
              "</style>\n",
              "<table border=\"1\" class=\"dataframe\">\n",
              "  <thead>\n",
              "    <tr style=\"text-align: right;\">\n",
              "      <th></th>\n",
              "      <th>playerShort</th>\n",
              "      <th>player</th>\n",
              "      <th>club</th>\n",
              "      <th>leagueCountry</th>\n",
              "      <th>birthday</th>\n",
              "      <th>height</th>\n",
              "      <th>weight</th>\n",
              "      <th>position</th>\n",
              "      <th>games</th>\n",
              "      <th>victories</th>\n",
              "      <th>ties</th>\n",
              "      <th>defeats</th>\n",
              "      <th>goals</th>\n",
              "      <th>yellowCards</th>\n",
              "      <th>yellowReds</th>\n",
              "      <th>redCards</th>\n",
              "      <th>photoID</th>\n",
              "      <th>rater1</th>\n",
              "      <th>rater2</th>\n",
              "      <th>refNum</th>\n",
              "      <th>refCountry</th>\n",
              "      <th>Alpha_3</th>\n",
              "      <th>meanIAT</th>\n",
              "      <th>nIAT</th>\n",
              "      <th>seIAT</th>\n",
              "      <th>meanExp</th>\n",
              "      <th>nExp</th>\n",
              "      <th>seExp</th>\n",
              "      <th>allreds</th>\n",
              "      <th>allredsStrict</th>\n",
              "      <th>refCount</th>\n",
              "      <th>age</th>\n",
              "    </tr>\n",
              "  </thead>\n",
              "  <tbody>\n",
              "    <tr>\n",
              "      <th>0</th>\n",
              "      <td>lucas-wilchez</td>\n",
              "      <td>Lucas Wilchez</td>\n",
              "      <td>Real Zaragoza</td>\n",
              "      <td>Spain</td>\n",
              "      <td>31.08.1983</td>\n",
              "      <td>177.0</td>\n",
              "      <td>72.0</td>\n",
              "      <td>Attacking Midfielder</td>\n",
              "      <td>1</td>\n",
              "      <td>0.0</td>\n",
              "      <td>0.0</td>\n",
              "      <td>1.0</td>\n",
              "      <td>0</td>\n",
              "      <td>0</td>\n",
              "      <td>0</td>\n",
              "      <td>0</td>\n",
              "      <td>95212.jpg</td>\n",
              "      <td>0.25</td>\n",
              "      <td>0.50</td>\n",
              "      <td>1</td>\n",
              "      <td>1</td>\n",
              "      <td>GRC</td>\n",
              "      <td>0.326391</td>\n",
              "      <td>712.0</td>\n",
              "      <td>0.000564</td>\n",
              "      <td>0.396000</td>\n",
              "      <td>750.0</td>\n",
              "      <td>0.002696</td>\n",
              "      <td>0</td>\n",
              "      <td>0</td>\n",
              "      <td>1</td>\n",
              "      <td>38</td>\n",
              "    </tr>\n",
              "    <tr>\n",
              "      <th>1</th>\n",
              "      <td>john-utaka</td>\n",
              "      <td>John Utaka</td>\n",
              "      <td>Montpellier HSC</td>\n",
              "      <td>France</td>\n",
              "      <td>08.01.1982</td>\n",
              "      <td>179.0</td>\n",
              "      <td>82.0</td>\n",
              "      <td>Right Winger</td>\n",
              "      <td>1</td>\n",
              "      <td>0.0</td>\n",
              "      <td>0.0</td>\n",
              "      <td>1.0</td>\n",
              "      <td>0</td>\n",
              "      <td>1</td>\n",
              "      <td>0</td>\n",
              "      <td>0</td>\n",
              "      <td>1663.jpg</td>\n",
              "      <td>0.75</td>\n",
              "      <td>0.75</td>\n",
              "      <td>2</td>\n",
              "      <td>2</td>\n",
              "      <td>ZMB</td>\n",
              "      <td>0.203375</td>\n",
              "      <td>40.0</td>\n",
              "      <td>0.010875</td>\n",
              "      <td>-0.204082</td>\n",
              "      <td>49.0</td>\n",
              "      <td>0.061504</td>\n",
              "      <td>0</td>\n",
              "      <td>0</td>\n",
              "      <td>1</td>\n",
              "      <td>39</td>\n",
              "    </tr>\n",
              "    <tr>\n",
              "      <th>5</th>\n",
              "      <td>aaron-hughes</td>\n",
              "      <td>Aaron Hughes</td>\n",
              "      <td>Fulham FC</td>\n",
              "      <td>England</td>\n",
              "      <td>08.11.1979</td>\n",
              "      <td>182.0</td>\n",
              "      <td>71.0</td>\n",
              "      <td>Center Back</td>\n",
              "      <td>1</td>\n",
              "      <td>0.0</td>\n",
              "      <td>0.0</td>\n",
              "      <td>1.0</td>\n",
              "      <td>0</td>\n",
              "      <td>0</td>\n",
              "      <td>0</td>\n",
              "      <td>0</td>\n",
              "      <td>3868.jpg</td>\n",
              "      <td>0.25</td>\n",
              "      <td>0.00</td>\n",
              "      <td>4</td>\n",
              "      <td>4</td>\n",
              "      <td>LUX</td>\n",
              "      <td>0.325185</td>\n",
              "      <td>127.0</td>\n",
              "      <td>0.003297</td>\n",
              "      <td>0.538462</td>\n",
              "      <td>130.0</td>\n",
              "      <td>0.013752</td>\n",
              "      <td>0</td>\n",
              "      <td>0</td>\n",
              "      <td>30</td>\n",
              "      <td>42</td>\n",
              "    </tr>\n",
              "    <tr>\n",
              "      <th>6</th>\n",
              "      <td>aleksandar-kolarov</td>\n",
              "      <td>Aleksandar Kolarov</td>\n",
              "      <td>Manchester City</td>\n",
              "      <td>England</td>\n",
              "      <td>10.11.1985</td>\n",
              "      <td>187.0</td>\n",
              "      <td>80.0</td>\n",
              "      <td>Left Fullback</td>\n",
              "      <td>1</td>\n",
              "      <td>1.0</td>\n",
              "      <td>0.0</td>\n",
              "      <td>0.0</td>\n",
              "      <td>0</td>\n",
              "      <td>0</td>\n",
              "      <td>0</td>\n",
              "      <td>0</td>\n",
              "      <td>47704.jpg</td>\n",
              "      <td>0.00</td>\n",
              "      <td>0.25</td>\n",
              "      <td>4</td>\n",
              "      <td>4</td>\n",
              "      <td>LUX</td>\n",
              "      <td>0.325185</td>\n",
              "      <td>127.0</td>\n",
              "      <td>0.003297</td>\n",
              "      <td>0.538462</td>\n",
              "      <td>130.0</td>\n",
              "      <td>0.013752</td>\n",
              "      <td>0</td>\n",
              "      <td>0</td>\n",
              "      <td>30</td>\n",
              "      <td>36</td>\n",
              "    </tr>\n",
              "    <tr>\n",
              "      <th>7</th>\n",
              "      <td>alexander-tettey</td>\n",
              "      <td>Alexander Tettey</td>\n",
              "      <td>Norwich City</td>\n",
              "      <td>England</td>\n",
              "      <td>04.04.1986</td>\n",
              "      <td>180.0</td>\n",
              "      <td>68.0</td>\n",
              "      <td>Defensive Midfielder</td>\n",
              "      <td>1</td>\n",
              "      <td>0.0</td>\n",
              "      <td>0.0</td>\n",
              "      <td>1.0</td>\n",
              "      <td>0</td>\n",
              "      <td>0</td>\n",
              "      <td>0</td>\n",
              "      <td>0</td>\n",
              "      <td>22356.jpg</td>\n",
              "      <td>1.00</td>\n",
              "      <td>1.00</td>\n",
              "      <td>4</td>\n",
              "      <td>4</td>\n",
              "      <td>LUX</td>\n",
              "      <td>0.325185</td>\n",
              "      <td>127.0</td>\n",
              "      <td>0.003297</td>\n",
              "      <td>0.538462</td>\n",
              "      <td>130.0</td>\n",
              "      <td>0.013752</td>\n",
              "      <td>0</td>\n",
              "      <td>0</td>\n",
              "      <td>30</td>\n",
              "      <td>35</td>\n",
              "    </tr>\n",
              "  </tbody>\n",
              "</table>\n",
              "</div>\n",
              "      <button class=\"colab-df-convert\" onclick=\"convertToInteractive('df-b14283bc-c5de-42b8-b9a5-bd89ec424808')\"\n",
              "              title=\"Convert this dataframe to an interactive table.\"\n",
              "              style=\"display:none;\">\n",
              "        \n",
              "  <svg xmlns=\"http://www.w3.org/2000/svg\" height=\"24px\"viewBox=\"0 0 24 24\"\n",
              "       width=\"24px\">\n",
              "    <path d=\"M0 0h24v24H0V0z\" fill=\"none\"/>\n",
              "    <path d=\"M18.56 5.44l.94 2.06.94-2.06 2.06-.94-2.06-.94-.94-2.06-.94 2.06-2.06.94zm-11 1L8.5 8.5l.94-2.06 2.06-.94-2.06-.94L8.5 2.5l-.94 2.06-2.06.94zm10 10l.94 2.06.94-2.06 2.06-.94-2.06-.94-.94-2.06-.94 2.06-2.06.94z\"/><path d=\"M17.41 7.96l-1.37-1.37c-.4-.4-.92-.59-1.43-.59-.52 0-1.04.2-1.43.59L10.3 9.45l-7.72 7.72c-.78.78-.78 2.05 0 2.83L4 21.41c.39.39.9.59 1.41.59.51 0 1.02-.2 1.41-.59l7.78-7.78 2.81-2.81c.8-.78.8-2.07 0-2.86zM5.41 20L4 18.59l7.72-7.72 1.47 1.35L5.41 20z\"/>\n",
              "  </svg>\n",
              "      </button>\n",
              "      \n",
              "  <style>\n",
              "    .colab-df-container {\n",
              "      display:flex;\n",
              "      flex-wrap:wrap;\n",
              "      gap: 12px;\n",
              "    }\n",
              "\n",
              "    .colab-df-convert {\n",
              "      background-color: #E8F0FE;\n",
              "      border: none;\n",
              "      border-radius: 50%;\n",
              "      cursor: pointer;\n",
              "      display: none;\n",
              "      fill: #1967D2;\n",
              "      height: 32px;\n",
              "      padding: 0 0 0 0;\n",
              "      width: 32px;\n",
              "    }\n",
              "\n",
              "    .colab-df-convert:hover {\n",
              "      background-color: #E2EBFA;\n",
              "      box-shadow: 0px 1px 2px rgba(60, 64, 67, 0.3), 0px 1px 3px 1px rgba(60, 64, 67, 0.15);\n",
              "      fill: #174EA6;\n",
              "    }\n",
              "\n",
              "    [theme=dark] .colab-df-convert {\n",
              "      background-color: #3B4455;\n",
              "      fill: #D2E3FC;\n",
              "    }\n",
              "\n",
              "    [theme=dark] .colab-df-convert:hover {\n",
              "      background-color: #434B5C;\n",
              "      box-shadow: 0px 1px 3px 1px rgba(0, 0, 0, 0.15);\n",
              "      filter: drop-shadow(0px 1px 2px rgba(0, 0, 0, 0.3));\n",
              "      fill: #FFFFFF;\n",
              "    }\n",
              "  </style>\n",
              "\n",
              "      <script>\n",
              "        const buttonEl =\n",
              "          document.querySelector('#df-b14283bc-c5de-42b8-b9a5-bd89ec424808 button.colab-df-convert');\n",
              "        buttonEl.style.display =\n",
              "          google.colab.kernel.accessAllowed ? 'block' : 'none';\n",
              "\n",
              "        async function convertToInteractive(key) {\n",
              "          const element = document.querySelector('#df-b14283bc-c5de-42b8-b9a5-bd89ec424808');\n",
              "          const dataTable =\n",
              "            await google.colab.kernel.invokeFunction('convertToInteractive',\n",
              "                                                     [key], {});\n",
              "          if (!dataTable) return;\n",
              "\n",
              "          const docLinkHtml = 'Like what you see? Visit the ' +\n",
              "            '<a target=\"_blank\" href=https://colab.research.google.com/notebooks/data_table.ipynb>data table notebook</a>'\n",
              "            + ' to learn more about interactive tables.';\n",
              "          element.innerHTML = '';\n",
              "          dataTable['output_type'] = 'display_data';\n",
              "          await google.colab.output.renderOutput(dataTable, element);\n",
              "          const docLink = document.createElement('div');\n",
              "          docLink.innerHTML = docLinkHtml;\n",
              "          element.appendChild(docLink);\n",
              "        }\n",
              "      </script>\n",
              "    </div>\n",
              "  </div>\n",
              "  "
            ],
            "text/plain": [
              "          playerShort              player  ... refCount age\n",
              "0       lucas-wilchez       Lucas Wilchez  ...        1  38\n",
              "1          john-utaka          John Utaka  ...        1  39\n",
              "5        aaron-hughes        Aaron Hughes  ...       30  42\n",
              "6  aleksandar-kolarov  Aleksandar Kolarov  ...       30  36\n",
              "7    alexander-tettey    Alexander Tettey  ...       30  35\n",
              "\n",
              "[5 rows x 32 columns]"
            ]
          },
          "metadata": {},
          "execution_count": 251
        }
      ]
    },
    {
      "cell_type": "code",
      "source": [
        "fig, ax = plt.subplots(1,3)\n",
        "c = sns.color_palette()\n",
        "\n",
        "ax[0].hist(dfs_good[\"rater1\"], color = c[2])\n",
        "ax[0].set_title(\"Rater1\")\n",
        "\n",
        "ax[1].hist(dfs_good[\"rater2\"], color = c[0])\n",
        "ax[1].set_title(\"Rater2\")\n",
        "\n",
        "ax[2].hist(dfs_good[\"rater1\"]-dfs_good[\"rater2\"], color = c[1])\n",
        "ax[2].set_title(\"Difference\")\n",
        "\n",
        "fig.tight_layout()"
      ],
      "metadata": {
        "id": "v2hFloqu63OH",
        "outputId": "552e92c3-8487-4c62-ced7-3d9d7a384060",
        "colab": {
          "base_uri": "https://localhost:8080/",
          "height": 296
        }
      },
      "execution_count": 252,
      "outputs": [
        {
          "output_type": "display_data",
          "data": {
            "image/png": "[encoded data removed]",
            "text/plain": [
              "<Figure size 432x288 with 3 Axes>"
            ]
          },
          "metadata": {
            "needs_background": "light"
          }
        }
      ]
    },
    {
      "cell_type": "markdown",
      "source": [
        "There are major differences between the raters, but on most of the ratings they agree. It might therefore be a good idea to use their averaged rating as a feature."
      ],
      "metadata": {
        "id": "ezM6hwTu62A7"
      }
    },
    {
      "cell_type": "code",
      "source": [
        "dfs_good[\"rating\"] = (dfs_good[\"rater1\"] + dfs_good[\"rater2\"])/2\n",
        "dfs_good = dfs_good.drop([\"rater1\", \"rater2\", \"birthday\"], axis=1)\n",
        "dfs_good.head()"
      ],
      "metadata": {
        "id": "C_rv8g2_9eI4",
        "outputId": "085830ad-3f14-4ece-d9f0-0389f29ed816",
        "colab": {
          "base_uri": "https://localhost:8080/",
          "height": 356
        }
      },
      "execution_count": 253,
      "outputs": [
        {
          "output_type": "execute_result",
          "data": {
            "text/html": [
              "\n",
              "  <div id=\"df-b8ce64c5-3c6b-4a71-a5a3-d54683359ba1\">\n",
              "    <div class=\"colab-df-container\">\n",
              "      <div>\n",
              "<style scoped>\n",
              "    .dataframe tbody tr th:only-of-type {\n",
              "        vertical-align: middle;\n",
              "    }\n",
              "\n",
              "    .dataframe tbody tr th {\n",
              "        vertical-align: top;\n",
              "    }\n",
              "\n",
              "    .dataframe thead th {\n",
              "        text-align: right;\n",
              "    }\n",
              "</style>\n",
              "<table border=\"1\" class=\"dataframe\">\n",
              "  <thead>\n",
              "    <tr style=\"text-align: right;\">\n",
              "      <th></th>\n",
              "      <th>playerShort</th>\n",
              "      <th>player</th>\n",
              "      <th>club</th>\n",
              "      <th>leagueCountry</th>\n",
              "      <th>height</th>\n",
              "      <th>weight</th>\n",
              "      <th>position</th>\n",
              "      <th>games</th>\n",
              "      <th>victories</th>\n",
              "      <th>ties</th>\n",
              "      <th>defeats</th>\n",
              "      <th>goals</th>\n",
              "      <th>yellowCards</th>\n",
              "      <th>yellowReds</th>\n",
              "      <th>redCards</th>\n",
              "      <th>photoID</th>\n",
              "      <th>refNum</th>\n",
              "      <th>refCountry</th>\n",
              "      <th>Alpha_3</th>\n",
              "      <th>meanIAT</th>\n",
              "      <th>nIAT</th>\n",
              "      <th>seIAT</th>\n",
              "      <th>meanExp</th>\n",
              "      <th>nExp</th>\n",
              "      <th>seExp</th>\n",
              "      <th>allreds</th>\n",
              "      <th>allredsStrict</th>\n",
              "      <th>refCount</th>\n",
              "      <th>age</th>\n",
              "      <th>rating</th>\n",
              "    </tr>\n",
              "  </thead>\n",
              "  <tbody>\n",
              "    <tr>\n",
              "      <th>0</th>\n",
              "      <td>lucas-wilchez</td>\n",
              "      <td>Lucas Wilchez</td>\n",
              "      <td>Real Zaragoza</td>\n",
              "      <td>Spain</td>\n",
              "      <td>177.0</td>\n",
              "      <td>72.0</td>\n",
              "      <td>Attacking Midfielder</td>\n",
              "      <td>1</td>\n",
              "      <td>0.0</td>\n",
              "      <td>0.0</td>\n",
              "      <td>1.0</td>\n",
              "      <td>0</td>\n",
              "      <td>0</td>\n",
              "      <td>0</td>\n",
              "      <td>0</td>\n",
              "      <td>95212.jpg</td>\n",
              "      <td>1</td>\n",
              "      <td>1</td>\n",
              "      <td>GRC</td>\n",
              "      <td>0.326391</td>\n",
              "      <td>712.0</td>\n",
              "      <td>0.000564</td>\n",
              "      <td>0.396000</td>\n",
              "      <td>750.0</td>\n",
              "      <td>0.002696</td>\n",
              "      <td>0</td>\n",
              "      <td>0</td>\n",
              "      <td>1</td>\n",
              "      <td>38</td>\n",
              "      <td>0.375</td>\n",
              "    </tr>\n",
              "    <tr>\n",
              "      <th>1</th>\n",
              "      <td>john-utaka</td>\n",
              "      <td>John Utaka</td>\n",
              "      <td>Montpellier HSC</td>\n",
              "      <td>France</td>\n",
              "      <td>179.0</td>\n",
              "      <td>82.0</td>\n",
              "      <td>Right Winger</td>\n",
              "      <td>1</td>\n",
              "      <td>0.0</td>\n",
              "      <td>0.0</td>\n",
              "      <td>1.0</td>\n",
              "      <td>0</td>\n",
              "      <td>1</td>\n",
              "      <td>0</td>\n",
              "      <td>0</td>\n",
              "      <td>1663.jpg</td>\n",
              "      <td>2</td>\n",
              "      <td>2</td>\n",
              "      <td>ZMB</td>\n",
              "      <td>0.203375</td>\n",
              "      <td>40.0</td>\n",
              "      <td>0.010875</td>\n",
              "      <td>-0.204082</td>\n",
              "      <td>49.0</td>\n",
              "      <td>0.061504</td>\n",
              "      <td>0</td>\n",
              "      <td>0</td>\n",
              "      <td>1</td>\n",
              "      <td>39</td>\n",
              "      <td>0.750</td>\n",
              "    </tr>\n",
              "    <tr>\n",
              "      <th>5</th>\n",
              "      <td>aaron-hughes</td>\n",
              "      <td>Aaron Hughes</td>\n",
              "      <td>Fulham FC</td>\n",
              "      <td>England</td>\n",
              "      <td>182.0</td>\n",
              "      <td>71.0</td>\n",
              "      <td>Center Back</td>\n",
              "      <td>1</td>\n",
              "      <td>0.0</td>\n",
              "      <td>0.0</td>\n",
              "      <td>1.0</td>\n",
              "      <td>0</td>\n",
              "      <td>0</td>\n",
              "      <td>0</td>\n",
              "      <td>0</td>\n",
              "      <td>3868.jpg</td>\n",
              "      <td>4</td>\n",
              "      <td>4</td>\n",
              "      <td>LUX</td>\n",
              "      <td>0.325185</td>\n",
              "      <td>127.0</td>\n",
              "      <td>0.003297</td>\n",
              "      <td>0.538462</td>\n",
              "      <td>130.0</td>\n",
              "      <td>0.013752</td>\n",
              "      <td>0</td>\n",
              "      <td>0</td>\n",
              "      <td>30</td>\n",
              "      <td>42</td>\n",
              "      <td>0.125</td>\n",
              "    </tr>\n",
              "    <tr>\n",
              "      <th>6</th>\n",
              "      <td>aleksandar-kolarov</td>\n",
              "      <td>Aleksandar Kolarov</td>\n",
              "      <td>Manchester City</td>\n",
              "      <td>England</td>\n",
              "      <td>187.0</td>\n",
              "      <td>80.0</td>\n",
              "      <td>Left Fullback</td>\n",
              "      <td>1</td>\n",
              "      <td>1.0</td>\n",
              "      <td>0.0</td>\n",
              "      <td>0.0</td>\n",
              "      <td>0</td>\n",
              "      <td>0</td>\n",
              "      <td>0</td>\n",
              "      <td>0</td>\n",
              "      <td>47704.jpg</td>\n",
              "      <td>4</td>\n",
              "      <td>4</td>\n",
              "      <td>LUX</td>\n",
              "      <td>0.325185</td>\n",
              "      <td>127.0</td>\n",
              "      <td>0.003297</td>\n",
              "      <td>0.538462</td>\n",
              "      <td>130.0</td>\n",
              "      <td>0.013752</td>\n",
              "      <td>0</td>\n",
              "      <td>0</td>\n",
              "      <td>30</td>\n",
              "      <td>36</td>\n",
              "      <td>0.125</td>\n",
              "    </tr>\n",
              "    <tr>\n",
              "      <th>7</th>\n",
              "      <td>alexander-tettey</td>\n",
              "      <td>Alexander Tettey</td>\n",
              "      <td>Norwich City</td>\n",
              "      <td>England</td>\n",
              "      <td>180.0</td>\n",
              "      <td>68.0</td>\n",
              "      <td>Defensive Midfielder</td>\n",
              "      <td>1</td>\n",
              "      <td>0.0</td>\n",
              "      <td>0.0</td>\n",
              "      <td>1.0</td>\n",
              "      <td>0</td>\n",
              "      <td>0</td>\n",
              "      <td>0</td>\n",
              "      <td>0</td>\n",
              "      <td>22356.jpg</td>\n",
              "      <td>4</td>\n",
              "      <td>4</td>\n",
              "      <td>LUX</td>\n",
              "      <td>0.325185</td>\n",
              "      <td>127.0</td>\n",
              "      <td>0.003297</td>\n",
              "      <td>0.538462</td>\n",
              "      <td>130.0</td>\n",
              "      <td>0.013752</td>\n",
              "      <td>0</td>\n",
              "      <td>0</td>\n",
              "      <td>30</td>\n",
              "      <td>35</td>\n",
              "      <td>1.000</td>\n",
              "    </tr>\n",
              "  </tbody>\n",
              "</table>\n",
              "</div>\n",
              "      <button class=\"colab-df-convert\" onclick=\"convertToInteractive('df-b8ce64c5-3c6b-4a71-a5a3-d54683359ba1')\"\n",
              "              title=\"Convert this dataframe to an interactive table.\"\n",
              "              style=\"display:none;\">\n",
              "        \n",
              "  <svg xmlns=\"http://www.w3.org/2000/svg\" height=\"24px\"viewBox=\"0 0 24 24\"\n",
              "       width=\"24px\">\n",
              "    <path d=\"M0 0h24v24H0V0z\" fill=\"none\"/>\n",
              "    <path d=\"M18.56 5.44l.94 2.06.94-2.06 2.06-.94-2.06-.94-.94-2.06-.94 2.06-2.06.94zm-11 1L8.5 8.5l.94-2.06 2.06-.94-2.06-.94L8.5 2.5l-.94 2.06-2.06.94zm10 10l.94 2.06.94-2.06 2.06-.94-2.06-.94-.94-2.06-.94 2.06-2.06.94z\"/><path d=\"M17.41 7.96l-1.37-1.37c-.4-.4-.92-.59-1.43-.59-.52 0-1.04.2-1.43.59L10.3 9.45l-7.72 7.72c-.78.78-.78 2.05 0 2.83L4 21.41c.39.39.9.59 1.41.59.51 0 1.02-.2 1.41-.59l7.78-7.78 2.81-2.81c.8-.78.8-2.07 0-2.86zM5.41 20L4 18.59l7.72-7.72 1.47 1.35L5.41 20z\"/>\n",
              "  </svg>\n",
              "      </button>\n",
              "      \n",
              "  <style>\n",
              "    .colab-df-container {\n",
              "      display:flex;\n",
              "      flex-wrap:wrap;\n",
              "      gap: 12px;\n",
              "    }\n",
              "\n",
              "    .colab-df-convert {\n",
              "      background-color: #E8F0FE;\n",
              "      border: none;\n",
              "      border-radius: 50%;\n",
              "      cursor: pointer;\n",
              "      display: none;\n",
              "      fill: #1967D2;\n",
              "      height: 32px;\n",
              "      padding: 0 0 0 0;\n",
              "      width: 32px;\n",
              "    }\n",
              "\n",
              "    .colab-df-convert:hover {\n",
              "      background-color: #E2EBFA;\n",
              "      box-shadow: 0px 1px 2px rgba(60, 64, 67, 0.3), 0px 1px 3px 1px rgba(60, 64, 67, 0.15);\n",
              "      fill: #174EA6;\n",
              "    }\n",
              "\n",
              "    [theme=dark] .colab-df-convert {\n",
              "      background-color: #3B4455;\n",
              "      fill: #D2E3FC;\n",
              "    }\n",
              "\n",
              "    [theme=dark] .colab-df-convert:hover {\n",
              "      background-color: #434B5C;\n",
              "      box-shadow: 0px 1px 3px 1px rgba(0, 0, 0, 0.15);\n",
              "      filter: drop-shadow(0px 1px 2px rgba(0, 0, 0, 0.3));\n",
              "      fill: #FFFFFF;\n",
              "    }\n",
              "  </style>\n",
              "\n",
              "      <script>\n",
              "        const buttonEl =\n",
              "          document.querySelector('#df-b8ce64c5-3c6b-4a71-a5a3-d54683359ba1 button.colab-df-convert');\n",
              "        buttonEl.style.display =\n",
              "          google.colab.kernel.accessAllowed ? 'block' : 'none';\n",
              "\n",
              "        async function convertToInteractive(key) {\n",
              "          const element = document.querySelector('#df-b8ce64c5-3c6b-4a71-a5a3-d54683359ba1');\n",
              "          const dataTable =\n",
              "            await google.colab.kernel.invokeFunction('convertToInteractive',\n",
              "                                                     [key], {});\n",
              "          if (!dataTable) return;\n",
              "\n",
              "          const docLinkHtml = 'Like what you see? Visit the ' +\n",
              "            '<a target=\"_blank\" href=https://colab.research.google.com/notebooks/data_table.ipynb>data table notebook</a>'\n",
              "            + ' to learn more about interactive tables.';\n",
              "          element.innerHTML = '';\n",
              "          dataTable['output_type'] = 'display_data';\n",
              "          await google.colab.output.renderOutput(dataTable, element);\n",
              "          const docLink = document.createElement('div');\n",
              "          docLink.innerHTML = docLinkHtml;\n",
              "          element.appendChild(docLink);\n",
              "        }\n",
              "      </script>\n",
              "    </div>\n",
              "  </div>\n",
              "  "
            ],
            "text/plain": [
              "          playerShort              player  ... age rating\n",
              "0       lucas-wilchez       Lucas Wilchez  ...  38  0.375\n",
              "1          john-utaka          John Utaka  ...  39  0.750\n",
              "5        aaron-hughes        Aaron Hughes  ...  42  0.125\n",
              "6  aleksandar-kolarov  Aleksandar Kolarov  ...  36  0.125\n",
              "7    alexander-tettey    Alexander Tettey  ...  35  1.000\n",
              "\n",
              "[5 rows x 30 columns]"
            ]
          },
          "metadata": {},
          "execution_count": 253
        }
      ]
    },
    {
      "cell_type": "markdown",
      "source": [
        "After further consideration, we supposed that it makes more sense for our regression problem to group the dyad entries by player, that means to sum up all dyads which contain some player into one row. Therefore, we do not use the disaggregation strategy from before, but use a custom aggregation strategy on our own. So to get a good y variable, we have to collapse the data frame so that all occurances of a single player are collapsed into one, no matter the ref.\n",
        "\n",
        "In this step we will also drop attributes that we don't need anymore. Player names are not needed (we still have playerShort) and we don't want to consider the several football clubs, but only the leagues. We are dropping yellowCards, yellowReds and redCards since we are going to use allreds and allredsStrict instead. Photos and information about the referees are not interesting as well. We are not going to use weight and position because these information are missing for too many data points."
      ],
      "metadata": {
        "id": "TT0_RTC16P0l"
      }
    },
    {
      "cell_type": "code",
      "source": [
        "print(dfs_good.shape[0])\n",
        "aggregation_functions = {'allreds': 'sum', 'allredsStrict': 'sum', 'age': 'first', 'height': 'first', 'games': 'sum', 'victories': 'sum', 'ties': 'sum','defeats': 'sum', 'goals': 'sum', 'rating': 'first', 'leagueCountry': 'first'}\n",
        "df_new = dfs_good.groupby(dfs_good['playerShort']).aggregate(aggregation_functions)\n",
        "print(df_new.shape[0])\n",
        "df_new.head()"
      ],
      "metadata": {
        "id": "8IK_YDcw6cu-",
        "outputId": "c798cc23-e5d1-4dc0-e981-5f7aa93bf843",
        "colab": {
          "base_uri": "https://localhost:8080/",
          "height": 274
        }
      },
      "execution_count": 254,
      "outputs": [
        {
          "output_type": "stream",
          "name": "stdout",
          "text": [
            "372996\n",
            "1582\n"
          ]
        },
        {
          "output_type": "execute_result",
          "data": {
            "text/html": [
              "\n",
              "  <div id=\"df-e7d7347c-53be-4450-8680-28a7084c6c7e\">\n",
              "    <div class=\"colab-df-container\">\n",
              "      <div>\n",
              "<style scoped>\n",
              "    .dataframe tbody tr th:only-of-type {\n",
              "        vertical-align: middle;\n",
              "    }\n",
              "\n",
              "    .dataframe tbody tr th {\n",
              "        vertical-align: top;\n",
              "    }\n",
              "\n",
              "    .dataframe thead th {\n",
              "        text-align: right;\n",
              "    }\n",
              "</style>\n",
              "<table border=\"1\" class=\"dataframe\">\n",
              "  <thead>\n",
              "    <tr style=\"text-align: right;\">\n",
              "      <th></th>\n",
              "      <th>allreds</th>\n",
              "      <th>allredsStrict</th>\n",
              "      <th>age</th>\n",
              "      <th>height</th>\n",
              "      <th>games</th>\n",
              "      <th>victories</th>\n",
              "      <th>ties</th>\n",
              "      <th>defeats</th>\n",
              "      <th>goals</th>\n",
              "      <th>rating</th>\n",
              "      <th>leagueCountry</th>\n",
              "    </tr>\n",
              "    <tr>\n",
              "      <th>playerShort</th>\n",
              "      <th></th>\n",
              "      <th></th>\n",
              "      <th></th>\n",
              "      <th></th>\n",
              "      <th></th>\n",
              "      <th></th>\n",
              "      <th></th>\n",
              "      <th></th>\n",
              "      <th></th>\n",
              "      <th></th>\n",
              "      <th></th>\n",
              "    </tr>\n",
              "  </thead>\n",
              "  <tbody>\n",
              "    <tr>\n",
              "      <th>aaron-hughes</th>\n",
              "      <td>0</td>\n",
              "      <td>0</td>\n",
              "      <td>42</td>\n",
              "      <td>182.0</td>\n",
              "      <td>654</td>\n",
              "      <td>247.0</td>\n",
              "      <td>179.0</td>\n",
              "      <td>228.0</td>\n",
              "      <td>103</td>\n",
              "      <td>0.125</td>\n",
              "      <td>England</td>\n",
              "    </tr>\n",
              "    <tr>\n",
              "      <th>aaron-hunt</th>\n",
              "      <td>1</td>\n",
              "      <td>1</td>\n",
              "      <td>35</td>\n",
              "      <td>183.0</td>\n",
              "      <td>336</td>\n",
              "      <td>141.0</td>\n",
              "      <td>73.0</td>\n",
              "      <td>122.0</td>\n",
              "      <td>584</td>\n",
              "      <td>0.125</td>\n",
              "      <td>Germany</td>\n",
              "    </tr>\n",
              "    <tr>\n",
              "      <th>aaron-lennon</th>\n",
              "      <td>0</td>\n",
              "      <td>0</td>\n",
              "      <td>34</td>\n",
              "      <td>165.0</td>\n",
              "      <td>412</td>\n",
              "      <td>200.0</td>\n",
              "      <td>97.0</td>\n",
              "      <td>115.0</td>\n",
              "      <td>387</td>\n",
              "      <td>0.250</td>\n",
              "      <td>England</td>\n",
              "    </tr>\n",
              "    <tr>\n",
              "      <th>aaron-ramsey</th>\n",
              "      <td>1</td>\n",
              "      <td>1</td>\n",
              "      <td>31</td>\n",
              "      <td>178.0</td>\n",
              "      <td>260</td>\n",
              "      <td>150.0</td>\n",
              "      <td>42.0</td>\n",
              "      <td>68.0</td>\n",
              "      <td>213</td>\n",
              "      <td>0.000</td>\n",
              "      <td>England</td>\n",
              "    </tr>\n",
              "    <tr>\n",
              "      <th>abdelhamid-el-kaoutari</th>\n",
              "      <td>6</td>\n",
              "      <td>2</td>\n",
              "      <td>31</td>\n",
              "      <td>180.0</td>\n",
              "      <td>124</td>\n",
              "      <td>41.0</td>\n",
              "      <td>40.0</td>\n",
              "      <td>43.0</td>\n",
              "      <td>7</td>\n",
              "      <td>0.250</td>\n",
              "      <td>France</td>\n",
              "    </tr>\n",
              "  </tbody>\n",
              "</table>\n",
              "</div>\n",
              "      <button class=\"colab-df-convert\" onclick=\"convertToInteractive('df-e7d7347c-53be-4450-8680-28a7084c6c7e')\"\n",
              "              title=\"Convert this dataframe to an interactive table.\"\n",
              "              style=\"display:none;\">\n",
              "        \n",
              "  <svg xmlns=\"http://www.w3.org/2000/svg\" height=\"24px\"viewBox=\"0 0 24 24\"\n",
              "       width=\"24px\">\n",
              "    <path d=\"M0 0h24v24H0V0z\" fill=\"none\"/>\n",
              "    <path d=\"M18.56 5.44l.94 2.06.94-2.06 2.06-.94-2.06-.94-.94-2.06-.94 2.06-2.06.94zm-11 1L8.5 8.5l.94-2.06 2.06-.94-2.06-.94L8.5 2.5l-.94 2.06-2.06.94zm10 10l.94 2.06.94-2.06 2.06-.94-2.06-.94-.94-2.06-.94 2.06-2.06.94z\"/><path d=\"M17.41 7.96l-1.37-1.37c-.4-.4-.92-.59-1.43-.59-.52 0-1.04.2-1.43.59L10.3 9.45l-7.72 7.72c-.78.78-.78 2.05 0 2.83L4 21.41c.39.39.9.59 1.41.59.51 0 1.02-.2 1.41-.59l7.78-7.78 2.81-2.81c.8-.78.8-2.07 0-2.86zM5.41 20L4 18.59l7.72-7.72 1.47 1.35L5.41 20z\"/>\n",
              "  </svg>\n",
              "      </button>\n",
              "      \n",
              "  <style>\n",
              "    .colab-df-container {\n",
              "      display:flex;\n",
              "      flex-wrap:wrap;\n",
              "      gap: 12px;\n",
              "    }\n",
              "\n",
              "    .colab-df-convert {\n",
              "      background-color: #E8F0FE;\n",
              "      border: none;\n",
              "      border-radius: 50%;\n",
              "      cursor: pointer;\n",
              "      display: none;\n",
              "      fill: #1967D2;\n",
              "      height: 32px;\n",
              "      padding: 0 0 0 0;\n",
              "      width: 32px;\n",
              "    }\n",
              "\n",
              "    .colab-df-convert:hover {\n",
              "      background-color: #E2EBFA;\n",
              "      box-shadow: 0px 1px 2px rgba(60, 64, 67, 0.3), 0px 1px 3px 1px rgba(60, 64, 67, 0.15);\n",
              "      fill: #174EA6;\n",
              "    }\n",
              "\n",
              "    [theme=dark] .colab-df-convert {\n",
              "      background-color: #3B4455;\n",
              "      fill: #D2E3FC;\n",
              "    }\n",
              "\n",
              "    [theme=dark] .colab-df-convert:hover {\n",
              "      background-color: #434B5C;\n",
              "      box-shadow: 0px 1px 3px 1px rgba(0, 0, 0, 0.15);\n",
              "      filter: drop-shadow(0px 1px 2px rgba(0, 0, 0, 0.3));\n",
              "      fill: #FFFFFF;\n",
              "    }\n",
              "  </style>\n",
              "\n",
              "      <script>\n",
              "        const buttonEl =\n",
              "          document.querySelector('#df-e7d7347c-53be-4450-8680-28a7084c6c7e button.colab-df-convert');\n",
              "        buttonEl.style.display =\n",
              "          google.colab.kernel.accessAllowed ? 'block' : 'none';\n",
              "\n",
              "        async function convertToInteractive(key) {\n",
              "          const element = document.querySelector('#df-e7d7347c-53be-4450-8680-28a7084c6c7e');\n",
              "          const dataTable =\n",
              "            await google.colab.kernel.invokeFunction('convertToInteractive',\n",
              "                                                     [key], {});\n",
              "          if (!dataTable) return;\n",
              "\n",
              "          const docLinkHtml = 'Like what you see? Visit the ' +\n",
              "            '<a target=\"_blank\" href=https://colab.research.google.com/notebooks/data_table.ipynb>data table notebook</a>'\n",
              "            + ' to learn more about interactive tables.';\n",
              "          element.innerHTML = '';\n",
              "          dataTable['output_type'] = 'display_data';\n",
              "          await google.colab.output.renderOutput(dataTable, element);\n",
              "          const docLink = document.createElement('div');\n",
              "          docLink.innerHTML = docLinkHtml;\n",
              "          element.appendChild(docLink);\n",
              "        }\n",
              "      </script>\n",
              "    </div>\n",
              "  </div>\n",
              "  "
            ],
            "text/plain": [
              "                        allreds  allredsStrict  ...  rating  leagueCountry\n",
              "playerShort                                     ...                       \n",
              "aaron-hughes                  0              0  ...   0.125        England\n",
              "aaron-hunt                    1              1  ...   0.125        Germany\n",
              "aaron-lennon                  0              0  ...   0.250        England\n",
              "aaron-ramsey                  1              1  ...   0.000        England\n",
              "abdelhamid-el-kaoutari        6              2  ...   0.250         France\n",
              "\n",
              "[5 rows x 11 columns]"
            ]
          },
          "metadata": {},
          "execution_count": 254
        }
      ]
    },
    {
      "cell_type": "markdown",
      "source": [
        "To get a good predictive variable (the fraction of games where a given player will receive a red card), we divide the two columns concerning red cards by the number of games.\n",
        "\n",
        "Afterwards, the number of games can be dropped because it equals the sum of victories, ties and defeats and is redundant."
      ],
      "metadata": {
        "id": "GPqNfn_3ot_-"
      }
    },
    {
      "cell_type": "code",
      "source": [
        "df_new['allreds'] = df_new['allreds']/df_new['games']\n",
        "df_new['allredsStrict'] = df_new['allredsStrict']/df_new['games']\n",
        "df_new = df_new.fillna({'allreds': 0, 'allredsStrict': 0})\n",
        "\n",
        "df_new = df_new.drop([\"games\"], axis=1)\n",
        "df_new.head()"
      ],
      "metadata": {
        "id": "v09BXOHDotn_",
        "outputId": "b2918d0f-3d8b-4a68-9ae7-68d302c8755e",
        "colab": {
          "base_uri": "https://localhost:8080/",
          "height": 237
        }
      },
      "execution_count": 255,
      "outputs": [
        {
          "output_type": "execute_result",
          "data": {
            "text/html": [
              "\n",
              "  <div id=\"df-dab6e881-af20-4354-966e-7f37e0140c38\">\n",
              "    <div class=\"colab-df-container\">\n",
              "      <div>\n",
              "<style scoped>\n",
              "    .dataframe tbody tr th:only-of-type {\n",
              "        vertical-align: middle;\n",
              "    }\n",
              "\n",
              "    .dataframe tbody tr th {\n",
              "        vertical-align: top;\n",
              "    }\n",
              "\n",
              "    .dataframe thead th {\n",
              "        text-align: right;\n",
              "    }\n",
              "</style>\n",
              "<table border=\"1\" class=\"dataframe\">\n",
              "  <thead>\n",
              "    <tr style=\"text-align: right;\">\n",
              "      <th></th>\n",
              "      <th>allreds</th>\n",
              "      <th>allredsStrict</th>\n",
              "      <th>age</th>\n",
              "      <th>height</th>\n",
              "      <th>victories</th>\n",
              "      <th>ties</th>\n",
              "      <th>defeats</th>\n",
              "      <th>goals</th>\n",
              "      <th>rating</th>\n",
              "      <th>leagueCountry</th>\n",
              "    </tr>\n",
              "    <tr>\n",
              "      <th>playerShort</th>\n",
              "      <th></th>\n",
              "      <th></th>\n",
              "      <th></th>\n",
              "      <th></th>\n",
              "      <th></th>\n",
              "      <th></th>\n",
              "      <th></th>\n",
              "      <th></th>\n",
              "      <th></th>\n",
              "      <th></th>\n",
              "    </tr>\n",
              "  </thead>\n",
              "  <tbody>\n",
              "    <tr>\n",
              "      <th>aaron-hughes</th>\n",
              "      <td>0.000000</td>\n",
              "      <td>0.000000</td>\n",
              "      <td>42</td>\n",
              "      <td>182.0</td>\n",
              "      <td>247.0</td>\n",
              "      <td>179.0</td>\n",
              "      <td>228.0</td>\n",
              "      <td>103</td>\n",
              "      <td>0.125</td>\n",
              "      <td>England</td>\n",
              "    </tr>\n",
              "    <tr>\n",
              "      <th>aaron-hunt</th>\n",
              "      <td>0.002976</td>\n",
              "      <td>0.002976</td>\n",
              "      <td>35</td>\n",
              "      <td>183.0</td>\n",
              "      <td>141.0</td>\n",
              "      <td>73.0</td>\n",
              "      <td>122.0</td>\n",
              "      <td>584</td>\n",
              "      <td>0.125</td>\n",
              "      <td>Germany</td>\n",
              "    </tr>\n",
              "    <tr>\n",
              "      <th>aaron-lennon</th>\n",
              "      <td>0.000000</td>\n",
              "      <td>0.000000</td>\n",
              "      <td>34</td>\n",
              "      <td>165.0</td>\n",
              "      <td>200.0</td>\n",
              "      <td>97.0</td>\n",
              "      <td>115.0</td>\n",
              "      <td>387</td>\n",
              "      <td>0.250</td>\n",
              "      <td>England</td>\n",
              "    </tr>\n",
              "    <tr>\n",
              "      <th>aaron-ramsey</th>\n",
              "      <td>0.003846</td>\n",
              "      <td>0.003846</td>\n",
              "      <td>31</td>\n",
              "      <td>178.0</td>\n",
              "      <td>150.0</td>\n",
              "      <td>42.0</td>\n",
              "      <td>68.0</td>\n",
              "      <td>213</td>\n",
              "      <td>0.000</td>\n",
              "      <td>England</td>\n",
              "    </tr>\n",
              "    <tr>\n",
              "      <th>abdelhamid-el-kaoutari</th>\n",
              "      <td>0.048387</td>\n",
              "      <td>0.016129</td>\n",
              "      <td>31</td>\n",
              "      <td>180.0</td>\n",
              "      <td>41.0</td>\n",
              "      <td>40.0</td>\n",
              "      <td>43.0</td>\n",
              "      <td>7</td>\n",
              "      <td>0.250</td>\n",
              "      <td>France</td>\n",
              "    </tr>\n",
              "  </tbody>\n",
              "</table>\n",
              "</div>\n",
              "      <button class=\"colab-df-convert\" onclick=\"convertToInteractive('df-dab6e881-af20-4354-966e-7f37e0140c38')\"\n",
              "              title=\"Convert this dataframe to an interactive table.\"\n",
              "              style=\"display:none;\">\n",
              "        \n",
              "  <svg xmlns=\"http://www.w3.org/2000/svg\" height=\"24px\"viewBox=\"0 0 24 24\"\n",
              "       width=\"24px\">\n",
              "    <path d=\"M0 0h24v24H0V0z\" fill=\"none\"/>\n",
              "    <path d=\"M18.56 5.44l.94 2.06.94-2.06 2.06-.94-2.06-.94-.94-2.06-.94 2.06-2.06.94zm-11 1L8.5 8.5l.94-2.06 2.06-.94-2.06-.94L8.5 2.5l-.94 2.06-2.06.94zm10 10l.94 2.06.94-2.06 2.06-.94-2.06-.94-.94-2.06-.94 2.06-2.06.94z\"/><path d=\"M17.41 7.96l-1.37-1.37c-.4-.4-.92-.59-1.43-.59-.52 0-1.04.2-1.43.59L10.3 9.45l-7.72 7.72c-.78.78-.78 2.05 0 2.83L4 21.41c.39.39.9.59 1.41.59.51 0 1.02-.2 1.41-.59l7.78-7.78 2.81-2.81c.8-.78.8-2.07 0-2.86zM5.41 20L4 18.59l7.72-7.72 1.47 1.35L5.41 20z\"/>\n",
              "  </svg>\n",
              "      </button>\n",
              "      \n",
              "  <style>\n",
              "    .colab-df-container {\n",
              "      display:flex;\n",
              "      flex-wrap:wrap;\n",
              "      gap: 12px;\n",
              "    }\n",
              "\n",
              "    .colab-df-convert {\n",
              "      background-color: #E8F0FE;\n",
              "      border: none;\n",
              "      border-radius: 50%;\n",
              "      cursor: pointer;\n",
              "      display: none;\n",
              "      fill: #1967D2;\n",
              "      height: 32px;\n",
              "      padding: 0 0 0 0;\n",
              "      width: 32px;\n",
              "    }\n",
              "\n",
              "    .colab-df-convert:hover {\n",
              "      background-color: #E2EBFA;\n",
              "      box-shadow: 0px 1px 2px rgba(60, 64, 67, 0.3), 0px 1px 3px 1px rgba(60, 64, 67, 0.15);\n",
              "      fill: #174EA6;\n",
              "    }\n",
              "\n",
              "    [theme=dark] .colab-df-convert {\n",
              "      background-color: #3B4455;\n",
              "      fill: #D2E3FC;\n",
              "    }\n",
              "\n",
              "    [theme=dark] .colab-df-convert:hover {\n",
              "      background-color: #434B5C;\n",
              "      box-shadow: 0px 1px 3px 1px rgba(0, 0, 0, 0.15);\n",
              "      filter: drop-shadow(0px 1px 2px rgba(0, 0, 0, 0.3));\n",
              "      fill: #FFFFFF;\n",
              "    }\n",
              "  </style>\n",
              "\n",
              "      <script>\n",
              "        const buttonEl =\n",
              "          document.querySelector('#df-dab6e881-af20-4354-966e-7f37e0140c38 button.colab-df-convert');\n",
              "        buttonEl.style.display =\n",
              "          google.colab.kernel.accessAllowed ? 'block' : 'none';\n",
              "\n",
              "        async function convertToInteractive(key) {\n",
              "          const element = document.querySelector('#df-dab6e881-af20-4354-966e-7f37e0140c38');\n",
              "          const dataTable =\n",
              "            await google.colab.kernel.invokeFunction('convertToInteractive',\n",
              "                                                     [key], {});\n",
              "          if (!dataTable) return;\n",
              "\n",
              "          const docLinkHtml = 'Like what you see? Visit the ' +\n",
              "            '<a target=\"_blank\" href=https://colab.research.google.com/notebooks/data_table.ipynb>data table notebook</a>'\n",
              "            + ' to learn more about interactive tables.';\n",
              "          element.innerHTML = '';\n",
              "          dataTable['output_type'] = 'display_data';\n",
              "          await google.colab.output.renderOutput(dataTable, element);\n",
              "          const docLink = document.createElement('div');\n",
              "          docLink.innerHTML = docLinkHtml;\n",
              "          element.appendChild(docLink);\n",
              "        }\n",
              "      </script>\n",
              "    </div>\n",
              "  </div>\n",
              "  "
            ],
            "text/plain": [
              "                         allreds  allredsStrict  ...  rating  leagueCountry\n",
              "playerShort                                      ...                       \n",
              "aaron-hughes            0.000000       0.000000  ...   0.125        England\n",
              "aaron-hunt              0.002976       0.002976  ...   0.125        Germany\n",
              "aaron-lennon            0.000000       0.000000  ...   0.250        England\n",
              "aaron-ramsey            0.003846       0.003846  ...   0.000        England\n",
              "abdelhamid-el-kaoutari  0.048387       0.016129  ...   0.250         France\n",
              "\n",
              "[5 rows x 10 columns]"
            ]
          },
          "metadata": {},
          "execution_count": 255
        }
      ]
    },
    {
      "cell_type": "markdown",
      "source": [
        "We now want to encode the categorical feature **leagueCountry** into a one-hot encoding."
      ],
      "metadata": {
        "id": "UiHygYGXuyOU"
      }
    },
    {
      "cell_type": "code",
      "source": [
        "df_new = pd.get_dummies(df_new, columns=['leagueCountry'], prefix=['one_hot'])\n",
        "df_new.head()"
      ],
      "metadata": {
        "id": "hsfK3etTu4bM",
        "outputId": "52b820f7-ca32-4bb0-89e5-a14b5a3727a1",
        "colab": {
          "base_uri": "https://localhost:8080/",
          "height": 237
        }
      },
      "execution_count": 256,
      "outputs": [
        {
          "output_type": "execute_result",
          "data": {
            "text/html": [
              "\n",
              "  <div id=\"df-0a9efb9d-a226-4c83-9be1-ec07e52fe378\">\n",
              "    <div class=\"colab-df-container\">\n",
              "      <div>\n",
              "<style scoped>\n",
              "    .dataframe tbody tr th:only-of-type {\n",
              "        vertical-align: middle;\n",
              "    }\n",
              "\n",
              "    .dataframe tbody tr th {\n",
              "        vertical-align: top;\n",
              "    }\n",
              "\n",
              "    .dataframe thead th {\n",
              "        text-align: right;\n",
              "    }\n",
              "</style>\n",
              "<table border=\"1\" class=\"dataframe\">\n",
              "  <thead>\n",
              "    <tr style=\"text-align: right;\">\n",
              "      <th></th>\n",
              "      <th>allreds</th>\n",
              "      <th>allredsStrict</th>\n",
              "      <th>age</th>\n",
              "      <th>height</th>\n",
              "      <th>victories</th>\n",
              "      <th>ties</th>\n",
              "      <th>defeats</th>\n",
              "      <th>goals</th>\n",
              "      <th>rating</th>\n",
              "      <th>one_hot_England</th>\n",
              "      <th>one_hot_France</th>\n",
              "      <th>one_hot_Germany</th>\n",
              "      <th>one_hot_Spain</th>\n",
              "    </tr>\n",
              "    <tr>\n",
              "      <th>playerShort</th>\n",
              "      <th></th>\n",
              "      <th></th>\n",
              "      <th></th>\n",
              "      <th></th>\n",
              "      <th></th>\n",
              "      <th></th>\n",
              "      <th></th>\n",
              "      <th></th>\n",
              "      <th></th>\n",
              "      <th></th>\n",
              "      <th></th>\n",
              "      <th></th>\n",
              "      <th></th>\n",
              "    </tr>\n",
              "  </thead>\n",
              "  <tbody>\n",
              "    <tr>\n",
              "      <th>aaron-hughes</th>\n",
              "      <td>0.000000</td>\n",
              "      <td>0.000000</td>\n",
              "      <td>42</td>\n",
              "      <td>182.0</td>\n",
              "      <td>247.0</td>\n",
              "      <td>179.0</td>\n",
              "      <td>228.0</td>\n",
              "      <td>103</td>\n",
              "      <td>0.125</td>\n",
              "      <td>1</td>\n",
              "      <td>0</td>\n",
              "      <td>0</td>\n",
              "      <td>0</td>\n",
              "    </tr>\n",
              "    <tr>\n",
              "      <th>aaron-hunt</th>\n",
              "      <td>0.002976</td>\n",
              "      <td>0.002976</td>\n",
              "      <td>35</td>\n",
              "      <td>183.0</td>\n",
              "      <td>141.0</td>\n",
              "      <td>73.0</td>\n",
              "      <td>122.0</td>\n",
              "      <td>584</td>\n",
              "      <td>0.125</td>\n",
              "      <td>0</td>\n",
              "      <td>0</td>\n",
              "      <td>1</td>\n",
              "      <td>0</td>\n",
              "    </tr>\n",
              "    <tr>\n",
              "      <th>aaron-lennon</th>\n",
              "      <td>0.000000</td>\n",
              "      <td>0.000000</td>\n",
              "      <td>34</td>\n",
              "      <td>165.0</td>\n",
              "      <td>200.0</td>\n",
              "      <td>97.0</td>\n",
              "      <td>115.0</td>\n",
              "      <td>387</td>\n",
              "      <td>0.250</td>\n",
              "      <td>1</td>\n",
              "      <td>0</td>\n",
              "      <td>0</td>\n",
              "      <td>0</td>\n",
              "    </tr>\n",
              "    <tr>\n",
              "      <th>aaron-ramsey</th>\n",
              "      <td>0.003846</td>\n",
              "      <td>0.003846</td>\n",
              "      <td>31</td>\n",
              "      <td>178.0</td>\n",
              "      <td>150.0</td>\n",
              "      <td>42.0</td>\n",
              "      <td>68.0</td>\n",
              "      <td>213</td>\n",
              "      <td>0.000</td>\n",
              "      <td>1</td>\n",
              "      <td>0</td>\n",
              "      <td>0</td>\n",
              "      <td>0</td>\n",
              "    </tr>\n",
              "    <tr>\n",
              "      <th>abdelhamid-el-kaoutari</th>\n",
              "      <td>0.048387</td>\n",
              "      <td>0.016129</td>\n",
              "      <td>31</td>\n",
              "      <td>180.0</td>\n",
              "      <td>41.0</td>\n",
              "      <td>40.0</td>\n",
              "      <td>43.0</td>\n",
              "      <td>7</td>\n",
              "      <td>0.250</td>\n",
              "      <td>0</td>\n",
              "      <td>1</td>\n",
              "      <td>0</td>\n",
              "      <td>0</td>\n",
              "    </tr>\n",
              "  </tbody>\n",
              "</table>\n",
              "</div>\n",
              "      <button class=\"colab-df-convert\" onclick=\"convertToInteractive('df-0a9efb9d-a226-4c83-9be1-ec07e52fe378')\"\n",
              "              title=\"Convert this dataframe to an interactive table.\"\n",
              "              style=\"display:none;\">\n",
              "        \n",
              "  <svg xmlns=\"http://www.w3.org/2000/svg\" height=\"24px\"viewBox=\"0 0 24 24\"\n",
              "       width=\"24px\">\n",
              "    <path d=\"M0 0h24v24H0V0z\" fill=\"none\"/>\n",
              "    <path d=\"M18.56 5.44l.94 2.06.94-2.06 2.06-.94-2.06-.94-.94-2.06-.94 2.06-2.06.94zm-11 1L8.5 8.5l.94-2.06 2.06-.94-2.06-.94L8.5 2.5l-.94 2.06-2.06.94zm10 10l.94 2.06.94-2.06 2.06-.94-2.06-.94-.94-2.06-.94 2.06-2.06.94z\"/><path d=\"M17.41 7.96l-1.37-1.37c-.4-.4-.92-.59-1.43-.59-.52 0-1.04.2-1.43.59L10.3 9.45l-7.72 7.72c-.78.78-.78 2.05 0 2.83L4 21.41c.39.39.9.59 1.41.59.51 0 1.02-.2 1.41-.59l7.78-7.78 2.81-2.81c.8-.78.8-2.07 0-2.86zM5.41 20L4 18.59l7.72-7.72 1.47 1.35L5.41 20z\"/>\n",
              "  </svg>\n",
              "      </button>\n",
              "      \n",
              "  <style>\n",
              "    .colab-df-container {\n",
              "      display:flex;\n",
              "      flex-wrap:wrap;\n",
              "      gap: 12px;\n",
              "    }\n",
              "\n",
              "    .colab-df-convert {\n",
              "      background-color: #E8F0FE;\n",
              "      border: none;\n",
              "      border-radius: 50%;\n",
              "      cursor: pointer;\n",
              "      display: none;\n",
              "      fill: #1967D2;\n",
              "      height: 32px;\n",
              "      padding: 0 0 0 0;\n",
              "      width: 32px;\n",
              "    }\n",
              "\n",
              "    .colab-df-convert:hover {\n",
              "      background-color: #E2EBFA;\n",
              "      box-shadow: 0px 1px 2px rgba(60, 64, 67, 0.3), 0px 1px 3px 1px rgba(60, 64, 67, 0.15);\n",
              "      fill: #174EA6;\n",
              "    }\n",
              "\n",
              "    [theme=dark] .colab-df-convert {\n",
              "      background-color: #3B4455;\n",
              "      fill: #D2E3FC;\n",
              "    }\n",
              "\n",
              "    [theme=dark] .colab-df-convert:hover {\n",
              "      background-color: #434B5C;\n",
              "      box-shadow: 0px 1px 3px 1px rgba(0, 0, 0, 0.15);\n",
              "      filter: drop-shadow(0px 1px 2px rgba(0, 0, 0, 0.3));\n",
              "      fill: #FFFFFF;\n",
              "    }\n",
              "  </style>\n",
              "\n",
              "      <script>\n",
              "        const buttonEl =\n",
              "          document.querySelector('#df-0a9efb9d-a226-4c83-9be1-ec07e52fe378 button.colab-df-convert');\n",
              "        buttonEl.style.display =\n",
              "          google.colab.kernel.accessAllowed ? 'block' : 'none';\n",
              "\n",
              "        async function convertToInteractive(key) {\n",
              "          const element = document.querySelector('#df-0a9efb9d-a226-4c83-9be1-ec07e52fe378');\n",
              "          const dataTable =\n",
              "            await google.colab.kernel.invokeFunction('convertToInteractive',\n",
              "                                                     [key], {});\n",
              "          if (!dataTable) return;\n",
              "\n",
              "          const docLinkHtml = 'Like what you see? Visit the ' +\n",
              "            '<a target=\"_blank\" href=https://colab.research.google.com/notebooks/data_table.ipynb>data table notebook</a>'\n",
              "            + ' to learn more about interactive tables.';\n",
              "          element.innerHTML = '';\n",
              "          dataTable['output_type'] = 'display_data';\n",
              "          await google.colab.output.renderOutput(dataTable, element);\n",
              "          const docLink = document.createElement('div');\n",
              "          docLink.innerHTML = docLinkHtml;\n",
              "          element.appendChild(docLink);\n",
              "        }\n",
              "      </script>\n",
              "    </div>\n",
              "  </div>\n",
              "  "
            ],
            "text/plain": [
              "                         allreds  allredsStrict  ...  one_hot_Germany  one_hot_Spain\n",
              "playerShort                                      ...                                \n",
              "aaron-hughes            0.000000       0.000000  ...                0              0\n",
              "aaron-hunt              0.002976       0.002976  ...                1              0\n",
              "aaron-lennon            0.000000       0.000000  ...                0              0\n",
              "aaron-ramsey            0.003846       0.003846  ...                0              0\n",
              "abdelhamid-el-kaoutari  0.048387       0.016129  ...                0              0\n",
              "\n",
              "[5 rows x 13 columns]"
            ]
          },
          "metadata": {},
          "execution_count": 256
        }
      ]
    },
    {
      "cell_type": "markdown",
      "source": [
        "## 2.2 Model Creation"
      ],
      "metadata": {
        "id": "6L1xHpRJWx2u"
      }
    },
    {
      "cell_type": "markdown",
      "source": [
        "First, we have to prepare an array containing all features and an array containing the fraction of red cars (allreds)."
      ],
      "metadata": {
        "id": "S9Sq-eZ5Wubz"
      }
    },
    {
      "cell_type": "code",
      "source": [
        "#preparing data\n",
        "df_X = df_new.copy()\n",
        "df_X = df_X.drop([\"allreds\", \"allredsStrict\"], axis=1)\n",
        "x = np.array(df_X)\n",
        "#x = x.reshape(df_new.shape[0], -1)\n",
        "\n",
        "y = np.array(df_new[\"allreds\"].copy())\n",
        "y = y.reshape(-1,1)\n",
        "\n",
        "# this is used in task 2.4\n",
        "y2 = np.array(df_new[\"allredsStrict\"].copy())\n",
        "y2 = y.reshape(-1,1)"
      ],
      "metadata": {
        "id": "Jo602wVh_nXb"
      },
      "execution_count": 257,
      "outputs": []
    },
    {
      "cell_type": "markdown",
      "source": [
        "Now, we use sklearn to implement and cross-validate the linear regression and the regression forest."
      ],
      "metadata": {
        "id": "Wzl0wA_EYq0M"
      }
    },
    {
      "cell_type": "code",
      "source": [
        "folds = 20\n",
        "\n",
        "#linear regression\n",
        "scores_linear = cross_val_score(LinearRegression(), x, y, cv=folds, scoring = \"neg_mean_squared_error\")\n",
        "\n",
        "print(f\"Average squared error of linear regression: {-np.mean(scores_linear)}\")"
      ],
      "metadata": {
        "id": "xyhTEJC7W68H",
        "outputId": "2b480088-9e12-4292-ff4b-328f2c4bd1af",
        "colab": {
          "base_uri": "https://localhost:8080/"
        }
      },
      "execution_count": 258,
      "outputs": [
        {
          "output_type": "stream",
          "name": "stdout",
          "text": [
            "Average squared error of linear regression: 0.00010487232928811854\n"
          ]
        }
      ]
    },
    {
      "cell_type": "code",
      "source": [
        "#regression forest\n",
        "def regression_forest(x,y):\n",
        "  regr = RandomForestRegressor(max_depth=10, random_state=0)\n",
        "  scores = cross_val_score(regr, x, y.ravel(), cv=folds, scoring = \"neg_mean_squared_error\")\n",
        "  return scores"
      ],
      "metadata": {
        "id": "pYge8qd4XDfQ"
      },
      "execution_count": 260,
      "outputs": []
    },
    {
      "cell_type": "code",
      "source": [
        "scores_forest = regression_forest(x,y)\n",
        "print(f\"Average squared error of regression forest: {-np.mean(scores_forest)}\")"
      ],
      "metadata": {
        "id": "eR_29OlKBR2M",
        "outputId": "b7f4b203-6e36-4fd2-92b6-0852b089d3ae",
        "colab": {
          "base_uri": "https://localhost:8080/"
        }
      },
      "execution_count": 223,
      "outputs": [
        {
          "output_type": "stream",
          "name": "stdout",
          "text": [
            "Average squared error of regression forest: 0.00012826629904525946\n"
          ]
        }
      ]
    },
    {
      "cell_type": "markdown",
      "source": [
        "Comment regarding the results:"
      ],
      "metadata": {
        "id": "56wFX18Jepj2"
      }
    },
    {
      "cell_type": "markdown",
      "source": [
        "## 2.3 Answering the Research Question"
      ],
      "metadata": {
        "id": "bRLmhDjybx5D"
      }
    },
    {
      "cell_type": "code",
      "source": [
        "def createPermutationSets(X, num, idx):\n",
        "  assert(isinstance(X, np.ndarray) and len(X) >= 1 and num >= 1 and idx >= 0 and idx < len(X[0]))\n",
        "  sets = []\n",
        "\n",
        "  # first dataset is the original\n",
        "  sets.append(X.copy())\n",
        "\n",
        "  # create more datasets with shuffled values in column idx\n",
        "  for n in range(num-1):\n",
        "    perm = np.random.permutation(len(X))\n",
        "    copy = X.copy()\n",
        "    copy[:,idx] = copy[perm, idx] \n",
        "    sets.append(copy)\n",
        "\n",
        "  return sets\n"
      ],
      "metadata": {
        "id": "08j7L46ecSM9"
      },
      "execution_count": 200,
      "outputs": []
    },
    {
      "cell_type": "code",
      "source": [
        "# these lists will hold the errors for each model\n",
        "errs_linear = []\n",
        "errs_forest = []\n",
        "\n",
        "# create permuted data sets (the first one is the original)\n",
        "xs = createPermutationSets(x, 20, 6)\n",
        "\n",
        "for x_perm in xs:\n",
        "  score = cross_val_score(LinearRegression(), x_perm, y, cv=folds, scoring = \"neg_mean_squared_error\")\n",
        "  errs_linear.append(-np.mean(score))\n",
        "\n",
        "  score = regression_forest(x_perm, y)\n",
        "  errs_forest.append(-np.mean(score))"
      ],
      "metadata": {
        "id": "Q36XKhX4g6Pi"
      },
      "execution_count": 224,
      "outputs": []
    },
    {
      "cell_type": "code",
      "source": [
        "linear_bias = np.sum(errs_linear[1:] > errs_linear[0])\n",
        "forest_bias = np.sum(errs_forest[1:] > errs_forest[0])\n",
        "\n",
        "print(f\"Linear regression: Test error of the shuffled datasets was higher for {linear_bias} of 19 datasets\")\n",
        "print(f\"Regression forest: Test error of the shuffled datasets was higher for {forest_bias} of 19 datasets\")\n",
        "\n",
        "err_linear = errs_linear[0]\n",
        "err_linear_perm = np.mean(errs_linear[1:])\n",
        "\n",
        "err_forest = errs_forest[0]\n",
        "err_forest_perm = np.mean(errs_forest[1:])\n",
        "\n",
        "print(f\"\\nAverage error linear regression, original: {err_linear}\")\n",
        "print(f\"Average error linear regression, permuted: {err_linear_perm}\")\n",
        "print(f\"\\nAverage error regression forest, original: {err_forest}\")\n",
        "print(f\"Average error regression forest, permuted: {err_forest_perm}\")"
      ],
      "metadata": {
        "colab": {
          "base_uri": "https://localhost:8080/"
        },
        "id": "Xx8m5ixblSPZ",
        "outputId": "301cec3c-92ad-481c-fb29-5cf50c4dcfc4"
      },
      "execution_count": 240,
      "outputs": [
        {
          "output_type": "stream",
          "name": "stdout",
          "text": [
            "Linear regression: Test error of the shuffled datasets was higher for 19 of 19 datasets\n",
            "Regression forest: Test error of the shuffled datasets was higher for 0 of 19 datasets\n",
            "\n",
            "Average error linear regression, original: 0.00011514876505037573\n",
            "Average error linear regression, permuted: 0.00011561877131088013\n",
            "\n",
            "Average error regression forest, original: 0.00012826629904525946\n",
            "Average error regression forest, permuted: 0.00012619055145690185\n"
          ]
        }
      ]
    },
    {
      "cell_type": "markdown",
      "source": [
        "## 2.4 How to lie with statistics"
      ],
      "metadata": {
        "id": "ReVCUjHjcCBi"
      }
    },
    {
      "cell_type": "code",
      "source": [
        "x3 = x[:,1:]\n",
        "#x3 = x[:,1:7]"
      ],
      "metadata": {
        "id": "PqBYWPaowpTt"
      },
      "execution_count": 304,
      "outputs": []
    },
    {
      "cell_type": "code",
      "source": [
        "# these lists will hold the errors for each model\n",
        "errs_linear = []\n",
        "errs_forest = []\n",
        "\n",
        "# create permuted data sets (the first one is the original)\n",
        "xs = createPermutationSets(x, 20, 4)\n",
        "\n",
        "for x_perm in xs:\n",
        "  score = cross_val_score(LinearRegression(), x_perm, y, cv=folds, scoring = \"neg_mean_squared_error\")\n",
        "  errs_linear.append(-np.mean(score))\n",
        "\n",
        "  score = regression_forest(x_perm, y)\n",
        "  errs_forest.append(-np.mean(score))"
      ],
      "metadata": {
        "id": "MkUJb8eOrWj9"
      },
      "execution_count": 305,
      "outputs": []
    },
    {
      "cell_type": "code",
      "source": [
        "linear_bias = np.sum(errs_linear[1:] > errs_linear[0])\n",
        "forest_bias = np.sum(errs_forest[1:] > errs_forest[0])\n",
        "\n",
        "print(f\"Linear regression: Test error of the shuffled datasets was higher for {linear_bias} of 19 datasets\")\n",
        "print(f\"Regression forest: Test error of the shuffled datasets was higher for {forest_bias} of 19 datasets\")\n",
        "\n",
        "err_linear = errs_linear[0]\n",
        "err_linear_perm = np.mean(errs_linear[1:])\n",
        "\n",
        "err_forest = errs_forest[0]\n",
        "err_forest_perm = np.mean(errs_forest[1:])\n",
        "\n",
        "print(f\"\\nAverage error linear regression, original: {err_linear}\")\n",
        "print(f\"Average error linear regression, permuted: {err_linear_perm}\")\n",
        "print(f\"\\nAverage error regression forest, original: {err_forest}\")\n",
        "print(f\"Average error regression forest, permuted: {err_forest_perm}\")"
      ],
      "metadata": {
        "colab": {
          "base_uri": "https://localhost:8080/"
        },
        "outputId": "36cace90-669d-4004-8691-894e2ddc0d07",
        "id": "5NSmAA_Lrk7s"
      },
      "execution_count": 307,
      "outputs": [
        {
          "output_type": "stream",
          "name": "stdout",
          "text": [
            "Linear regression: Test error of the shuffled datasets was higher for 19 of 19 datasets\n",
            "Regression forest: Test error of the shuffled datasets was higher for 5 of 19 datasets\n",
            "\n",
            "Average error linear regression, original: 0.0001050301684170336\n",
            "Average error linear regression, permuted: 0.00010544134994012237\n",
            "\n",
            "Average error regression forest, original: 0.00011616948496172576\n",
            "Average error regression forest, permuted: 0.00011548305168139163\n"
          ]
        }
      ]
    },
    {
      "cell_type": "markdown",
      "source": [
        "## 2.5 Alternative hypotheses "
      ],
      "metadata": {
        "id": "15NvTa9BcHU4"
      }
    },
    {
      "cell_type": "markdown",
      "source": [
        "**Hypotheses 1: Age correlates with success (goals per game)**\n",
        "\n",
        "**Hypotheses 2: Goals correlates with victories**\n",
        "\n",
        "Reds correlate with ties"
      ],
      "metadata": {
        "id": "91jgX40vyjya"
      }
    }
  ]
}