{
  "nbformat": 4,
  "nbformat_minor": 0,
  "metadata": {
    "colab": {
      "name": "Untitled2.ipynb",
      "provenance": [],
      "authorship_tag": "ABX9TyN2IBV3PLr3O1FFK9rjupoa",
      "include_colab_link": true
    },
    "kernelspec": {
      "name": "python3",
      "display_name": "Python 3"
    },
    "language_info": {
      "name": "python"
    }
  },
  "cells": [
    {
      "cell_type": "markdown",
      "metadata": {
        "id": "view-in-github",
        "colab_type": "text"
      },
      "source": [
        "<a href=\"https://colab.research.google.com/github/kdidi99/ml_heidelberg/blob/main/red-cards.ipynb\" target=\"_parent\"><img src=\"https://colab.research.google.com/assets/colab-badge.svg\" alt=\"Open In Colab\"/></a>"
      ]
    },
    {
      "cell_type": "code",
      "execution_count": 1,
      "metadata": {
        "id": "0rAgZdOhvdYe"
      },
      "outputs": [],
      "source": [
        "import pandas as pd                                     # for dealing with csv import\n",
        "import numpy as np                                      # arrays and other matlab like manipulation\n",
        "import os                                               # for joining paths and filenames sensibly\n",
        "import matplotlib.pyplot as plt                         # Matplotlib's pyplot: MATLAB-like syntax\n",
        "import scipy.stats.mstats as ssm                        # for bootstrap\n",
        "from scipy.stats import gaussian_kde as kde\n",
        "import random\n",
        "\n",
        "%matplotlib inline\n",
        "import seaborn as sns    "
      ]
    }
  ]
}