{
  "nbformat": 4,
  "nbformat_minor": 0,
  "metadata": {
    "colab": {
      "name": "qda-lda.ipynb",
      "provenance": [],
      "include_colab_link": true
    },
    "kernelspec": {
      "name": "python3",
      "display_name": "Python 3"
    },
    "language_info": {
      "name": "python"
    }
  },
  "cells": [
    {
      "cell_type": "markdown",
      "metadata": {
        "id": "view-in-github",
        "colab_type": "text"
      },
      "source": [
        "<a href=\"https://colab.research.google.com/github/kdidi99/ml_heidelberg/blob/main/naive-bayes.ipynb\" target=\"_parent\"><img src=\"https://colab.research.google.com/assets/colab-badge.svg\" alt=\"Open In Colab\"/></a>"
      ]
    },
    {
      "cell_type": "markdown",
      "metadata": {
        "id": "41k8KfEKMmjh"
      },
      "source": [
        "#**Exercise 3**"
      ]
    },
    {
      "cell_type": "markdown",
      "metadata": {
        "id": "4VZn-uSc63M9"
      },
      "source": [
        "Team members:\n",
        "\n",
        "*   Rudolf Braun\n",
        "*   Jannik Schacht\n",
        "*   Kieran Didi"
      ]
    },
    {
      "cell_type": "markdown",
      "metadata": {
        "id": "gwmAdJvY7ZCT"
      },
      "source": [
        "#Data preparation"
      ]
    },
    {
      "cell_type": "code",
      "metadata": {
        "id": "_K33xV8t7iBS"
      },
      "source": [
        "from sklearn.datasets import load_digits\n",
        "import numpy as np\n",
        "import matplotlib.pyplot as plt\n",
        "from sklearn import model_selection\n",
        "from sklearn.model_selection import train_test_split"
      ],
      "execution_count": 2,
      "outputs": []
    },
    {
      "cell_type": "code",
      "metadata": {
        "id": "DCmL2YN8KM5q"
      },
      "source": [
        "digits = load_digits() \n",
        "data = digits[\"data\"]\n",
        "images = digits[\"images\"]\n",
        "target = digits[\"target\"]\n",
        "target_names = digits[\"target_names\"]"
      ],
      "execution_count": 3,
      "outputs": []
    },
    {
      "cell_type": "markdown",
      "metadata": {
        "id": "kT01kMWUKxXX"
      },
      "source": [
        "Data filtering (indeed we have 361 instances with a dimension of 8x8=64 each)\n",
        "\n"
      ]
    },
    {
      "cell_type": "code",
      "metadata": {
        "colab": {
          "base_uri": "https://localhost:8080/"
        },
        "id": "R33XWe-SKm56",
        "outputId": "fd9cab44-12fe-49d6-c93d-a1a85502496f"
      },
      "source": [
        "X_all = data\n",
        "y_all = target\n",
        "\n",
        "X_filter = X_all[np.logical_or(3 == y_all, 9 == y_all)]\n",
        "y_filter = y_all[np.logical_or(3 == y_all, 9 == y_all)]\n",
        "X_filter.shape"
      ],
      "execution_count": 4,
      "outputs": [
        {
          "output_type": "execute_result",
          "data": {
            "text/plain": [
              "(363, 64)"
            ]
          },
          "metadata": {},
          "execution_count": 4
        }
      ]
    },
    {
      "cell_type": "markdown",
      "metadata": {
        "id": "QbZbN6PdNkvJ"
      },
      "source": [
        "Visualize a few numbers to make sure we have the correct images"
      ]
    },
    {
      "cell_type": "code",
      "metadata": {
        "colab": {
          "base_uri": "https://localhost:8080/",
          "height": 0
        },
        "id": "uWPsYMBpNoKg",
        "outputId": "ec56670b-2ecd-4990-cd98-f4647808af21"
      },
      "source": [
        "fig, axs = plt.subplots(2, 2)\n",
        "sel = np.random.randint(low=0, high=361, size=4)\n",
        "for r, x, y in zip(sel, [0, 0, 1, 1], [0, 1, 0, 1]):\n",
        "    img = X_filter[r, :].reshape((8,8))\n",
        "    assert 2 == len(img.shape)\n",
        "    axs[x, y].imshow(img, interpolation=\"nearest\", cmap=\"gray\")\n",
        "    axs[x, y].set_title(f\"Random Number {r} ({y_filter[r]})\")\n",
        "fig.set_size_inches(8, 8)"
      ],
      "execution_count": 5,
      "outputs": [
        {
          "output_type": "display_data",
          "data": {
            "image/png": "[encoded data removed]",
            "text/plain": [
              "<Figure size 576x576 with 4 Axes>"
            ]
          },
          "metadata": {
            "needs_background": "light"
          }
        }
      ]
    },
    {
      "cell_type": "markdown",
      "metadata": {
        "id": "ybULRuWi7iyy"
      },
      "source": [
        "#Dimension Reduction"
      ]
    },
    {
      "cell_type": "code",
      "metadata": {
        "id": "7whApUoCNPY2",
        "colab": {
          "base_uri": "https://localhost:8080/"
        },
        "outputId": "280d6bc5-391d-44e2-fa88-093f6bc22210"
      },
      "source": [
        "#separate 3's and 9's\n",
        "X_three = X_filter[3 == y_filter]\n",
        "X_nine = X_filter[9 == y_filter]\n",
        "\n",
        "#calculate the means of each pixel in the respective classes and take the difference \n",
        "mean_diff = X_three.mean(axis=0)-X_nine.mean(axis=0)\n",
        "\n",
        "#look for the top 5 pixels most bright for 1's and 7's respectively\n",
        "idx_three = (mean_diff).argsort()[:5]\n",
        "idx_nine = (-mean_diff).argsort()[:5]\n",
        "\n",
        "print(idx_three)\n",
        "print(mean_diff[idx_three])\n",
        "print(idx_nine)\n",
        "print(mean_diff[idx_nine])"
      ],
      "execution_count": 6,
      "outputs": [
        {
          "output_type": "stream",
          "name": "stdout",
          "text": [
            "[26 18 29 21 30]\n",
            "[-8.95765027 -8.79508197 -8.45455373 -4.78870674 -3.75692168]\n",
            "[36 20 58  4  2]\n",
            "[6.95473588 3.71065574 3.58916211 2.96848816 2.70464481]\n"
          ]
        }
      ]
    },
    {
      "cell_type": "code",
      "metadata": {
        "id": "RUcfUyOt7m3S"
      },
      "source": [
        "def reduce_dim(x):\n",
        "    #define indices to be selected\n",
        "    idx_3 = np.array([26, 18])\n",
        "    idx_9 = np.array([36, 20])\n",
        "    #select entries via indices and calculate new features from them\n",
        "    x_3 = np.sum(x.take(idx_3, axis=1), axis=1)\n",
        "    x_9 = np.sum(x.take(idx_9, axis=1), axis=1)\n",
        "    #reduced_x = x.take(idx, axis=1)\n",
        "    #combine the two features into one array\n",
        "    reduced_x = np.column_stack((x_3, x_9))\n",
        "    return reduced_x\n"
      ],
      "execution_count": 7,
      "outputs": []
    },
    {
      "cell_type": "code",
      "metadata": {
        "colab": {
          "base_uri": "https://localhost:8080/"
        },
        "id": "BxqwN-qwW--Q",
        "outputId": "485fa92b-f574-4d75-eda0-f91ebc27e75d"
      },
      "source": [
        "#make sure that the dimensions of the reduced data are correct \n",
        "reduced_x = reduce_dim(X_filter)\n",
        "reduced_x.shape"
      ],
      "execution_count": 8,
      "outputs": [
        {
          "output_type": "execute_result",
          "data": {
            "text/plain": [
              "(363, 2)"
            ]
          },
          "metadata": {},
          "execution_count": 8
        }
      ]
    },
    {
      "cell_type": "markdown",
      "metadata": {
        "id": "qadZOpftL6XI"
      },
      "source": [
        "Split into training and test set "
      ]
    },
    {
      "cell_type": "code",
      "metadata": {
        "id": "aHD0gBXfL6d_"
      },
      "source": [
        "X_train, X_test, y_train, y_test = model_selection.train_test_split(X_filter, y_filter,\n",
        "   test_size = 0.4, random_state = 0)"
      ],
      "execution_count": 9,
      "outputs": []
    },
    {
      "cell_type": "markdown",
      "metadata": {
        "id": "4P9HMhs77rWq"
      },
      "source": [
        "### 1.2 Scatterplot"
      ]
    },
    {
      "cell_type": "code",
      "metadata": {
        "id": "uLq1jNbq7qZ6",
        "colab": {
          "base_uri": "https://localhost:8080/",
          "height": 297
        },
        "outputId": "bde25414-0b65-4507-d124-14a5513637d6"
      },
      "source": [
        "#plt.style.use('_mpl-gallery')\n",
        "fig, ax = plt.subplots()\n",
        "color= ['red' if y == 3 else 'green' for y in y_filter]\n",
        "ax.scatter(reduced_x[:,0], reduced_x[:,1], c=color)\n",
        "\n",
        "ax.set_xlabel(r'$Feature 1$', fontsize=15)\n",
        "ax.set_ylabel(r'$Feature 2$', fontsize=15)\n",
        "ax.set_title('Dataset of 3s and 9s in reduced feature space')\n",
        "\n",
        "fig.tight_layout()\n",
        "plt.show()"
      ],
      "execution_count": 10,
      "outputs": [
        {
          "output_type": "display_data",
          "data": {
            "image/png": "[encoded data removed]",
            "text/plain": [
              "<Figure size 432x288 with 1 Axes>"
            ]
          },
          "metadata": {
            "needs_background": "light"
          }
        }
      ]
    },
    {
      "cell_type": "markdown",
      "metadata": {
        "id": "0qhx-DaYwqC5"
      },
      "source": [
        "The two classes don't overlap too much, but are present as two separate clusters as visualised in the plot above. From this we can conclude that the reduced features are informative enough to continue."
      ]
    },
    {
      "cell_type": "markdown",
      "metadata": {
        "id": "V4ackHFNN6Lo"
      },
      "source": [
        "# 2. Naive Bayes classifier"
      ]
    },
    {
      "cell_type": "code",
      "metadata": {
        "id": "HZc4XJPHOoHE"
      },
      "source": [
        "def fit_naive_bayes(features, labels, bincount):\n",
        "    # check for valid parameters\n",
        "    assert (np.size(features, axis=0) > 0 and np.size(labels, axis=0) == np.size(features, axis=0))\n",
        "\n",
        "    if bincount==0:\n",
        "        #determine bin width automatically with Freedman-Diaconis rule\n",
        "        #needs to be added: sort array and then determine IQR for each feature\n",
        "        iqr_val = np.quantile(features, q=[.25, .75])\n",
        "        iqr = np.diff(iqr_val)[0]\n",
        "        print(iqr_val)\n",
        "        print(features)\n",
        "        print(iqr)\n",
        "\n",
        "    # calculate number of classes\n",
        "    ulabels = np.unique(labels)\n",
        "    c = ulabels.size\n",
        "    \n",
        "    # calculate feature dimensions\n",
        "    d = np.size(features, axis=1)\n",
        "\n",
        "    # initialize output arrays\n",
        "    histograms = np.zeros((c,d,bincount))\n",
        "    binning = np.zeros((c,d,2))\n",
        "\n",
        "    # initialize temporary arrays\n",
        "    histogram_counter = np.zeros((c,d,bincount))\n",
        "\n",
        "    # process every possible class one by one\n",
        "    for i in range(c):\n",
        "        # only consider data instances belonging to the present class\n",
        "        c_features = features[labels == ulabels[i]]\n",
        "        c_size = np.size(c_features, axis=0)\n",
        "\n",
        "        # calculate the minimum and maximum value for each of the features\n",
        "        min = c_features.min(axis=0)\n",
        "        max = c_features.max(axis=0)\n",
        "\n",
        "        # write the minimum of each feature as the 'lower bound' to binning\n",
        "        binning[i, :, 0] = min\n",
        "\n",
        "        # calculate the binwidth h for each feature and write it to binning\n",
        "        h = (max-min)/bincount\n",
        "        h[h == 0] = 1               # prevent division by zero fault\n",
        "        binning[i, :, 1] = h\n",
        "\n",
        "        for x in range(c_size):\n",
        "\n",
        "            m = np.floor((c_features[x] - min) / h).astype(int)\n",
        "            m[m >= bincount] = bincount - 1\n",
        "\n",
        "            for f in range(d):\n",
        "                histogram_counter[i, f, m[f]] = histogram_counter[i, f, m[f]] + 1\n",
        "\n",
        "        histograms[i] = histogram_counter[i] / c_size\n",
        "\n",
        "    return histograms, binning, ulabels"
      ],
      "execution_count": 194,
      "outputs": []
    },
    {
      "cell_type": "code",
      "source": [
        "#fit_naive_bayes(reduced_x, y_filter, 10)\n",
        "h, b = fit_naive_bayes(X_filter, y_filter, 10)\n",
        "\n",
        "print(h)"
      ],
      "metadata": {
        "colab": {
          "base_uri": "https://localhost:8080/"
        },
        "id": "FYjGlLQcnbZN",
        "outputId": "49fbc69c-099f-4ae1-e0f8-80aa530aff8e"
      },
      "execution_count": 191,
      "outputs": [
        {
          "output_type": "stream",
          "name": "stdout",
          "text": [
            "[[[1.         0.         0.         ... 0.         0.         0.        ]\n",
            "  [0.62295082 0.21311475 0.         ... 0.         0.         0.00546448]\n",
            "  [0.05464481 0.07103825 0.03278689 ... 0.06557377 0.1147541  0.04371585]\n",
            "  ...\n",
            "  [0.09836066 0.04918033 0.03825137 ... 0.04918033 0.07103825 0.14754098]\n",
            "  [0.76502732 0.09289617 0.02185792 ... 0.00546448 0.00546448 0.00546448]\n",
            "  [0.98360656 0.00546448 0.         ... 0.         0.         0.00546448]]\n",
            "\n",
            " [[1.         0.         0.         ... 0.         0.         0.        ]\n",
            "  [0.88333333 0.         0.1        ... 0.         0.         0.00555556]\n",
            "  [0.2        0.07777778 0.12222222 ... 0.05       0.06111111 0.02777778]\n",
            "  ...\n",
            "  [0.14444444 0.06111111 0.05555556 ... 0.07222222 0.11666667 0.20555556]\n",
            "  [0.69444444 0.10555556 0.02222222 ... 0.01111111 0.01111111 0.01111111]\n",
            "  [0.96111111 0.         0.         ... 0.         0.         0.00555556]]]\n"
          ]
        }
      ]
    },
    {
      "cell_type": "code",
      "metadata": {
        "id": "tVCtFM9pOvEg"
      },
      "source": [
        "def predict_naive_bayes(test_features, histograms, binning, ulabels):\n",
        "    # number of classes\n",
        "    c = np.size(ulabels, axis=0)\n",
        "\n",
        "    # number of bins\n",
        "    bincount = np.size(histograms, axis=2)\n",
        "\n",
        "    for i in range(c):\n",
        "        for x in test_features:\n",
        "\n",
        "            # calculate bin for x\n",
        "            m = np.floor((x - binning[i, :, 0]) / binning[i, :, 1]).astype(int)\n",
        "            m[m >= bincount] = bincount - 1\n",
        "            m[m < 0] = 0\n",
        "\n",
        "            print(np.prod(histograms[i, :, m]))       \n",
        "\n",
        "            #print(np.sum(np.log(histograms[i, :, m])))\n",
        "            \n",
        "        break\n",
        "\n",
        "    return 0 #predicted_labels"
      ],
      "execution_count": 235,
      "outputs": []
    },
    {
      "cell_type": "code",
      "metadata": {
        "id": "u1uya7KdN9fn"
      },
      "source": [
        "histograms, binning, ulabels = fit_naive_bayes(X_train, y_train, 10)"
      ],
      "execution_count": 206,
      "outputs": []
    },
    {
      "cell_type": "code",
      "metadata": {
        "id": "KWap1mgbOMfM",
        "colab": {
          "base_uri": "https://localhost:8080/"
        },
        "outputId": "1ff7eff6-480d-4a2c-a386-22762ee732d5"
      },
      "source": [
        "predicted_labels = predict_naive_bayes(X_test, histograms, binning, ulabels)"
      ],
      "execution_count": 236,
      "outputs": [
        {
          "output_type": "stream",
          "name": "stdout",
          "text": [
            "0.0\n",
            "0.0\n",
            "0.0\n",
            "0.0\n",
            "0.0\n",
            "0.0\n",
            "0.0\n",
            "0.0\n",
            "0.0\n",
            "0.0\n",
            "0.0\n",
            "0.0\n",
            "0.0\n",
            "0.0\n",
            "0.0\n",
            "0.0\n",
            "0.0\n",
            "0.0\n",
            "0.0\n",
            "0.0\n",
            "0.0\n",
            "0.0\n",
            "0.0\n",
            "0.0\n",
            "0.0\n",
            "0.0\n",
            "0.0\n",
            "0.0\n",
            "0.0\n",
            "0.0\n",
            "0.0\n",
            "0.0\n",
            "0.0\n",
            "0.0\n",
            "0.0\n",
            "0.0\n",
            "0.0\n",
            "0.0\n",
            "0.0\n",
            "0.0\n",
            "0.0\n",
            "0.0\n",
            "0.0\n",
            "0.0\n",
            "0.0\n",
            "0.0\n",
            "0.0\n",
            "0.0\n",
            "0.0\n",
            "0.0\n",
            "0.0\n",
            "0.0\n",
            "0.0\n",
            "0.0\n",
            "0.0\n",
            "0.0\n",
            "0.0\n",
            "0.0\n",
            "0.0\n",
            "0.0\n",
            "0.0\n",
            "0.0\n",
            "0.0\n",
            "0.0\n",
            "0.0\n",
            "0.0\n",
            "0.0\n",
            "0.0\n",
            "0.0\n",
            "0.0\n",
            "0.0\n",
            "0.0\n",
            "0.0\n",
            "0.0\n",
            "0.0\n",
            "0.0\n",
            "0.0\n",
            "0.0\n",
            "0.0\n",
            "0.0\n",
            "0.0\n",
            "0.0\n",
            "0.0\n",
            "0.0\n",
            "0.0\n",
            "0.0\n",
            "0.0\n",
            "0.0\n",
            "0.0\n",
            "0.0\n",
            "0.0\n",
            "0.0\n",
            "0.0\n",
            "0.0\n",
            "0.0\n",
            "0.0\n",
            "0.0\n",
            "0.0\n",
            "0.0\n",
            "0.0\n",
            "0.0\n",
            "0.0\n",
            "0.0\n",
            "0.0\n",
            "0.0\n",
            "0.0\n",
            "0.0\n",
            "0.0\n",
            "0.0\n",
            "0.0\n",
            "0.0\n",
            "0.0\n",
            "0.0\n",
            "0.0\n",
            "0.0\n",
            "0.0\n",
            "0.0\n",
            "0.0\n",
            "0.0\n",
            "0.0\n",
            "0.0\n",
            "0.0\n",
            "0.0\n",
            "0.0\n",
            "0.0\n",
            "0.0\n",
            "0.0\n",
            "0.0\n",
            "0.0\n",
            "0.0\n",
            "0.0\n",
            "0.0\n",
            "0.0\n",
            "0.0\n",
            "0.0\n",
            "0.0\n",
            "0.0\n",
            "0.0\n",
            "0.0\n",
            "0.0\n",
            "0.0\n",
            "0.0\n",
            "0.0\n",
            "0.0\n",
            "0.0\n",
            "0.0\n"
          ]
        }
      ]
    },
    {
      "cell_type": "code",
      "metadata": {
        "id": "cPLpozfQ-8E9"
      },
      "source": [
        "#confusion matrix, just use the one from sklearn?"
      ],
      "execution_count": null,
      "outputs": []
    },
    {
      "cell_type": "code",
      "metadata": {
        "id": "HtRm6PKqL-8u",
        "colab": {
          "base_uri": "https://localhost:8080/",
          "height": 249
        },
        "outputId": "31f5d640-7ec7-445b-b97c-2c9c8f111013"
      },
      "source": [
        "#create dataset for pixel image\n",
        "f1 = np.linspace(1, 40, num=40)\n",
        "f2 = np.linspace(1, 40, num=40)\n",
        "xx, yy = np.meshgrid(f1,f2)\n",
        "xx = xx.reshape(1,1600)\n",
        "yy = yy.reshape(1,1600)\n",
        "X_plot = np.dstack((xx,yy))\n",
        "y_plot = predicted_labels\n",
        "#y_plot = y_plot[:,0]\n",
        "y_plot = y_plot.reshape(40,40)\n",
        "\n",
        "#plot the pixel image dataset as decision boundary\n",
        "fig, ax = plt.subplots()\n",
        "color= ['red' if y == 1 else 'green' for y in y_test]\n",
        "ax.imshow(y_plot, alpha = 0.5)\n",
        "\n",
        "#add the test set data points\n",
        "ax.scatter(X_test[:,0], X_test[:,1], c=color, marker = \"+\")\n",
        "\n",
        "ax.set_xlabel(r'$Feature 1$', fontsize=15)\n",
        "ax.set_ylabel(r'$Feature 2$', fontsize=15)\n",
        "ax.set_title('Dataset of 1s and 7s in reduced feature space')\n",
        "\n",
        "fig.tight_layout()\n",
        "plt.show()"
      ],
      "execution_count": null,
      "outputs": [
        {
          "output_type": "error",
          "ename": "NameError",
          "evalue": "ignored",
          "traceback": [
            "\u001b[0;31m---------------------------------------------------------------------------\u001b[0m",
            "\u001b[0;31mNameError\u001b[0m                                 Traceback (most recent call last)",
            "\u001b[0;32m<ipython-input-17-99404d7b52af>\u001b[0m in \u001b[0;36m<module>\u001b[0;34m()\u001b[0m\n\u001b[1;32m      6\u001b[0m \u001b[0myy\u001b[0m \u001b[0;34m=\u001b[0m \u001b[0myy\u001b[0m\u001b[0;34m.\u001b[0m\u001b[0mreshape\u001b[0m\u001b[0;34m(\u001b[0m\u001b[0;36m1\u001b[0m\u001b[0;34m,\u001b[0m\u001b[0;36m1600\u001b[0m\u001b[0;34m)\u001b[0m\u001b[0;34m\u001b[0m\u001b[0;34m\u001b[0m\u001b[0m\n\u001b[1;32m      7\u001b[0m \u001b[0mX_plot\u001b[0m \u001b[0;34m=\u001b[0m \u001b[0mnp\u001b[0m\u001b[0;34m.\u001b[0m\u001b[0mdstack\u001b[0m\u001b[0;34m(\u001b[0m\u001b[0;34m(\u001b[0m\u001b[0mxx\u001b[0m\u001b[0;34m,\u001b[0m\u001b[0myy\u001b[0m\u001b[0;34m)\u001b[0m\u001b[0;34m)\u001b[0m\u001b[0;34m\u001b[0m\u001b[0;34m\u001b[0m\u001b[0m\n\u001b[0;32m----> 8\u001b[0;31m \u001b[0my_plot\u001b[0m\u001b[0;34m,\u001b[0m \u001b[0mmeans_plot\u001b[0m \u001b[0;34m=\u001b[0m \u001b[0mnearest_mean\u001b[0m\u001b[0;34m(\u001b[0m\u001b[0mX_train\u001b[0m\u001b[0;34m,\u001b[0m \u001b[0my_train\u001b[0m\u001b[0;34m,\u001b[0m \u001b[0mX_plot\u001b[0m\u001b[0;34m)\u001b[0m\u001b[0;34m\u001b[0m\u001b[0;34m\u001b[0m\u001b[0m\n\u001b[0m\u001b[1;32m      9\u001b[0m \u001b[0my_plot\u001b[0m \u001b[0;34m=\u001b[0m \u001b[0my_plot\u001b[0m\u001b[0;34m[\u001b[0m\u001b[0;34m:\u001b[0m\u001b[0;34m,\u001b[0m\u001b[0;36m0\u001b[0m\u001b[0;34m]\u001b[0m\u001b[0;34m\u001b[0m\u001b[0;34m\u001b[0m\u001b[0m\n\u001b[1;32m     10\u001b[0m \u001b[0my_plot\u001b[0m \u001b[0;34m=\u001b[0m \u001b[0my_plot\u001b[0m\u001b[0;34m.\u001b[0m\u001b[0mreshape\u001b[0m\u001b[0;34m(\u001b[0m\u001b[0;36m40\u001b[0m\u001b[0;34m,\u001b[0m\u001b[0;36m40\u001b[0m\u001b[0;34m)\u001b[0m\u001b[0;34m\u001b[0m\u001b[0;34m\u001b[0m\u001b[0m\n",
            "\u001b[0;31mNameError\u001b[0m: name 'nearest_mean' is not defined"
          ]
        }
      ]
    }
  ]
}