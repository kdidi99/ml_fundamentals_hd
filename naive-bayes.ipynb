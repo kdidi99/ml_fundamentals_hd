{
  "nbformat": 4,
  "nbformat_minor": 0,
  "metadata": {
    "colab": {
      "name": "qda-lda.ipynb",
      "provenance": [],
      "include_colab_link": true
    },
    "kernelspec": {
      "name": "python3",
      "display_name": "Python 3"
    },
    "language_info": {
      "name": "python"
    }
  },
  "cells": [
    {
      "cell_type": "markdown",
      "metadata": {
        "id": "view-in-github",
        "colab_type": "text"
      },
      "source": [
        "<a href=\"https://colab.research.google.com/github/kdidi99/ml_heidelberg/blob/main/naive-bayes.ipynb\" target=\"_parent\"><img src=\"https://colab.research.google.com/assets/colab-badge.svg\" alt=\"Open In Colab\"/></a>"
      ]
    },
    {
      "cell_type": "markdown",
      "metadata": {
        "id": "41k8KfEKMmjh"
      },
      "source": [
        "#**Exercise 2**"
      ]
    },
    {
      "cell_type": "markdown",
      "metadata": {
        "id": "4VZn-uSc63M9"
      },
      "source": [
        "Team members:\n",
        "\n",
        "*   Rudolf Braun\n",
        "*   Jannik Schacht\n",
        "*   Kieran Didi"
      ]
    },
    {
      "cell_type": "markdown",
      "metadata": {
        "id": "gwmAdJvY7ZCT"
      },
      "source": [
        "## 1. Data preparation"
      ]
    },
    {
      "cell_type": "code",
      "metadata": {
        "id": "_K33xV8t7iBS"
      },
      "source": [
        "from sklearn.datasets import load_digits\n",
        "import numpy as np\n",
        "import matplotlib.pyplot as plt\n",
        "from sklearn import model_selection\n",
        "from sklearn.model_selection import train_test_split\n",
        "from sklearn.base import BaseEstimator, ClassifierMixin\n",
        "from sklearn.utils.validation import check_X_y, check_array, check_is_fitted\n",
        "from sklearn.utils.multiclass import unique_labels\n",
        "from sklearn.model_selection import cross_validate"
      ],
      "execution_count": null,
      "outputs": []
    },
    {
      "cell_type": "code",
      "metadata": {
        "colab": {
          "base_uri": "https://localhost:8080/"
        },
        "id": "CY5IvBcpKKD9",
        "outputId": "48e2325c-0a87-45c7-b916-5481ec5f49fc"
      },
      "source": [
        "digits = load_digits() \n",
        "digits.keys()"
      ],
      "execution_count": null,
      "outputs": [
        {
          "output_type": "execute_result",
          "data": {
            "text/plain": [
              "dict_keys(['data', 'target', 'frame', 'feature_names', 'target_names', 'images', 'DESCR'])"
            ]
          },
          "metadata": {},
          "execution_count": 2
        }
      ]
    },
    {
      "cell_type": "code",
      "metadata": {
        "id": "DCmL2YN8KM5q"
      },
      "source": [
        "data = digits[\"data\"]\n",
        "images = digits[\"images\"]\n",
        "target = digits[\"target\"]\n",
        "target_names = digits[\"target_names\"]"
      ],
      "execution_count": null,
      "outputs": []
    },
    {
      "cell_type": "markdown",
      "metadata": {
        "id": "kT01kMWUKxXX"
      },
      "source": [
        "Data filtering (indeed we have 361 instances with a dimension of 8x8=64 each)\n",
        "\n"
      ]
    },
    {
      "cell_type": "code",
      "metadata": {
        "colab": {
          "base_uri": "https://localhost:8080/"
        },
        "id": "R33XWe-SKm56",
        "outputId": "712b672a-1024-4398-b188-7ce9aa0912a2"
      },
      "source": [
        "X_all = data\n",
        "y_all = target\n",
        "\n",
        "X_filter = X_all[np.logical_or(1 == y_all, 7 == y_all)]\n",
        "y_filter = y_all[np.logical_or(1 == y_all, 7 == y_all)]\n",
        "X_filter.shape"
      ],
      "execution_count": null,
      "outputs": [
        {
          "output_type": "execute_result",
          "data": {
            "text/plain": [
              "(361, 64)"
            ]
          },
          "metadata": {},
          "execution_count": 4
        }
      ]
    },
    {
      "cell_type": "markdown",
      "metadata": {
        "id": "qadZOpftL6XI"
      },
      "source": [
        "Split into training and test set (here just for demonstration, later done on the data with reduced dimensions)"
      ]
    },
    {
      "cell_type": "code",
      "metadata": {
        "id": "aHD0gBXfL6d_"
      },
      "source": [
        "X_train, X_test, y_train, y_test = model_selection.train_test_split(X_filter, y_filter,\n",
        "   test_size = 0.4, random_state = 0)"
      ],
      "execution_count": null,
      "outputs": []
    },
    {
      "cell_type": "markdown",
      "metadata": {
        "id": "QbZbN6PdNkvJ"
      },
      "source": [
        "Visualize a few numbers to make sure we have the correct images"
      ]
    },
    {
      "cell_type": "code",
      "metadata": {
        "colab": {
          "base_uri": "https://localhost:8080/",
          "height": 499
        },
        "id": "uWPsYMBpNoKg",
        "outputId": "e42a43d5-49f8-4781-c07f-558580cbf523"
      },
      "source": [
        "fig, axs = plt.subplots(2, 2)\n",
        "sel = np.random.randint(low=0, high=361, size=4)\n",
        "for r, x, y in zip(sel, [0, 0, 1, 1], [0, 1, 0, 1]):\n",
        "    img = X_filter[r, :].reshape((8,8))\n",
        "    assert 2 == len(img.shape)\n",
        "    axs[x, y].imshow(img, interpolation=\"nearest\", cmap=\"gray\")\n",
        "    axs[x, y].set_title(f\"Random Number {r} ({y_filter[r]})\")\n",
        "fig.set_size_inches(8, 8)"
      ],
      "execution_count": null,
      "outputs": [
        {
          "output_type": "display_data",
          "data": {
            "image/png": "[encoded data removed]",
            "text/plain": [
              "<Figure size 576x576 with 4 Axes>"
            ]
          },
          "metadata": {
            "needs_background": "light"
          }
        }
      ]
    },
    {
      "cell_type": "markdown",
      "metadata": {
        "id": "ybULRuWi7iyy"
      },
      "source": [
        "### 1.1 Dimension Reduction"
      ]
    },
    {
      "cell_type": "markdown",
      "metadata": {
        "id": "ys6lcJ-5O0kr"
      },
      "source": [
        "Look at the values of pixels in different instances, calculate mean of each pixel feature and look for the features where the means differ most between the two classes"
      ]
    },
    {
      "cell_type": "markdown",
      "metadata": {
        "id": "TCbGx8BdUqWI"
      },
      "source": [
        "The first two pixels in each case seem to make the biggest difference, so we choose a linear combination of those pixels ($p_{xx}$) as our features:      \n",
        "$f_1 = p_{10} + p_{29}$ <br>\n",
        "$f_2 = p_{19} + p_{60}$"
      ]
    },
    {
      "cell_type": "code",
      "metadata": {
        "id": "RUcfUyOt7m3S"
      },
      "source": [
        "def reduce_dim(x):\n",
        "    #define indices to be selected\n",
        "    idx_1 = np.array([19, 60])\n",
        "    idx_7 = np.array([10, 29])\n",
        "    #select entries via indices and calculate new features from them\n",
        "    x_1 = np.sum(x.take(idx_1, axis=1), axis=1)\n",
        "    x_7 = np.sum(x.take(idx_7, axis=1), axis=1)\n",
        "    #reduced_x = x.take(idx, axis=1)\n",
        "    #combine the two features into one array\n",
        "    reduced_x = np.column_stack((x_1, x_7))\n",
        "    return reduced_x\n"
      ],
      "execution_count": null,
      "outputs": []
    },
    {
      "cell_type": "code",
      "metadata": {
        "colab": {
          "base_uri": "https://localhost:8080/"
        },
        "id": "BxqwN-qwW--Q",
        "outputId": "9ad7c8ad-4770-439c-9f6d-1982b9d62c89"
      },
      "source": [
        "#make sure that the dimensions of the reduced data are correct \n",
        "reduced_x = reduce_dim(X_filter)\n",
        "reduced_x.shape"
      ],
      "execution_count": null,
      "outputs": [
        {
          "output_type": "execute_result",
          "data": {
            "text/plain": [
              "(361, 2)"
            ]
          },
          "metadata": {},
          "execution_count": 9
        }
      ]
    },
    {
      "cell_type": "markdown",
      "metadata": {
        "id": "4P9HMhs77rWq"
      },
      "source": [
        "### 1.2 Scatterplot"
      ]
    },
    {
      "cell_type": "code",
      "metadata": {
        "id": "uLq1jNbq7qZ6",
        "colab": {
          "base_uri": "https://localhost:8080/",
          "height": 297
        },
        "outputId": "7dc351b2-2799-4d12-b611-29d237d566e6"
      },
      "source": [
        "#plt.style.use('_mpl-gallery')\n",
        "fig, ax = plt.subplots()\n",
        "color= ['red' if y == 1 else 'green' for y in y_filter]\n",
        "ax.scatter(reduced_x[:,0], reduced_x[:,1], c=color)\n",
        "\n",
        "ax.set_xlabel(r'$Feature 1$', fontsize=15)\n",
        "ax.set_ylabel(r'$Feature 2$', fontsize=15)\n",
        "ax.set_title('Dataset of 1s and 7s in reduced feature space')\n",
        "\n",
        "fig.tight_layout()\n",
        "plt.show()"
      ],
      "execution_count": null,
      "outputs": [
        {
          "output_type": "display_data",
          "data": {
            "image/png": "[encoded data removed]",
            "text/plain": [
              "<Figure size 432x288 with 1 Axes>"
            ]
          },
          "metadata": {
            "needs_background": "light"
          }
        }
      ]
    },
    {
      "cell_type": "markdown",
      "metadata": {
        "id": "0qhx-DaYwqC5"
      },
      "source": [
        "The two classes don't overlap too much, but are present as two separate clusters as visualised in the plot above. From this we can conclude that the reduced features are informative enough to continue."
      ]
    },
    {
      "cell_type": "markdown",
      "metadata": {
        "id": "PRXZvsweADMx"
      },
      "source": [
        "## 2. Nearest Mean"
      ]
    },
    {
      "cell_type": "markdown",
      "metadata": {
        "id": "S--n_UpCAFuO"
      },
      "source": [
        "### 2.1 Implement the nearest mean classifier\n",
        "\n",
        "For this we calculate the mean of the two classes, store them in an array and use the approach for distance function computation suggested in the sample solution last week."
      ]
    },
    {
      "cell_type": "code",
      "metadata": {
        "id": "pxhv9iuYAWs8"
      },
      "source": [
        "#vectorized distance calculation\n",
        "def dist_vec(training, test):\n",
        "  AB = np.dot(test, np.transpose(training)) # shape is (n_test, n_train)\n",
        "  AA = np.sum(np.square(test), axis=1) # shape is (n_test,)\n",
        "  BB = np.sum(np.square(training), axis=1) # shape is (n_train,)\n",
        "  dist_matrix = np.sqrt(np.transpose(BB - 2 * AB) + AA) # shape is (n_train, n_test)\n",
        "  return dist_matrix"
      ],
      "execution_count": null,
      "outputs": []
    },
    {
      "cell_type": "markdown",
      "metadata": {
        "id": "Vwxc-O7MDR40"
      },
      "source": [
        "First, split the dataset with reduced dimensions intro train and test set"
      ]
    },
    {
      "cell_type": "code",
      "metadata": {
        "id": "S2kGmL3bDWIE"
      },
      "source": [
        "X_train, X_test, y_train, y_test = model_selection.train_test_split(reduced_x, y_filter,\n",
        "   test_size = 0.4, random_state = 0)"
      ],
      "execution_count": null,
      "outputs": []
    },
    {
      "cell_type": "code",
      "metadata": {
        "colab": {
          "base_uri": "https://localhost:8080/"
        },
        "id": "hlX5Lf0uD6fU",
        "outputId": "3cee134b-71fe-4302-d702-073b979fde9b"
      },
      "source": [
        "X_test.shape"
      ],
      "execution_count": null,
      "outputs": [
        {
          "output_type": "execute_result",
          "data": {
            "text/plain": [
              "(145, 2)"
            ]
          },
          "metadata": {},
          "execution_count": 13
        }
      ]
    },
    {
      "cell_type": "code",
      "metadata": {
        "id": "9m35_ev2Aozl"
      },
      "source": [
        "def nearest_mean(training_features, training_labels, test_features):\n",
        "\n",
        "  #calculate means for both classes\n",
        "  train_1 = training_features[1 == training_labels]\n",
        "  train_7 = training_features[7 == training_labels]\n",
        "  mean_1 = np.mean(train_1, axis=0)\n",
        "  mean_7 = np.mean(train_7, axis=0)\n",
        "  means = np.vstack((mean_1, mean_7))\n",
        "  #print(means)\n",
        "\n",
        "  #compute distance matrix between test data and means of training data\n",
        "  dist = dist_vec(means, test_features)\n",
        "  #print(dist.shape)\n",
        "\n",
        "  #predicts labels for test data based on closer mean\n",
        "  indices = np.argsort(dist, axis=0)\n",
        "  #print(indices.shape)\n",
        "  predicted_labels = indices[0]\n",
        "  predicted_labels[predicted_labels==1] = 7\n",
        "  predicted_labels[predicted_labels==0] = 1\n",
        "  #print(indices)\n",
        "  #print(dist)\n",
        "  return predicted_labels, means\n",
        "\n",
        "  #\n",
        "    #return predicted_labels"
      ],
      "execution_count": null,
      "outputs": []
    },
    {
      "cell_type": "code",
      "metadata": {
        "colab": {
          "base_uri": "https://localhost:8080/"
        },
        "id": "rhMgNhgCBCkt",
        "outputId": "21c87e51-cdf7-45d5-dd64-aac364253f2e"
      },
      "source": [
        "predicted_labels, means = nearest_mean(X_train, y_train, X_test)\n",
        "result = y_test - predicted_labels\n",
        "print(result)\n",
        "\n",
        "result = sum(y_test != predicted_labels)\n",
        "print(\"\\nMisclassifications:\\t\", result)\n",
        "print(f\"Error rate: \\t\\t {result / y_test.size * 100} %\")"
      ],
      "execution_count": null,
      "outputs": [
        {
          "output_type": "stream",
          "name": "stdout",
          "text": [
            "[0 0 0 0 0 0 0 0 0 0 0 0 0 0 0 6 0 0 0 0 0 0 0 0 0 0 0 0 0 0 0 0 0 0 0 0 0\n",
            " 0 0 0 0 0 0 0 0 0 0 0 0 0 0 0 0 0 0 0 0 0 0 0 0 0 0 0 0 0 0 0 0 0 0 0 0 0\n",
            " 0 0 0 0 0 0 0 0 0 0 0 0 0 0 0 0 0 0 0 0 0 0 0 0 0 0 0 0 0 0 0 0 0 0 0 0 0\n",
            " 0 0 0 0 0 0 0 0 0 0 0 0 0 0 0 0 0 0 0 0 0 0 0 0 0 0 0 0 0 0 0 0 0 0]\n",
            "\n",
            "Misclassifications:\t 1\n",
            "Error rate: \t\t 0.6896551724137931 %\n"
          ]
        }
      ]
    },
    {
      "cell_type": "markdown",
      "metadata": {
        "id": "k-hRuu_JLmkz"
      },
      "source": [
        "As can be seen in the result array above, there was only one misclassification in the test set (a 7 that the algorithm classified as 1, therefore the value of 6 in the array)"
      ]
    },
    {
      "cell_type": "markdown",
      "metadata": {
        "id": "ERV1l-zhL3XU"
      },
      "source": [
        "### 2.2 Visualize the decision region"
      ]
    },
    {
      "cell_type": "markdown",
      "metadata": {
        "id": "w6gk3jXhRMo0"
      },
      "source": [
        "We create a 40x40 image to visualise the decision region (not 200x200 since our features range just spans 0 to ~40). We then overlay this with the test set data points and the means of the two classes in a plot."
      ]
    },
    {
      "cell_type": "code",
      "metadata": {
        "colab": {
          "base_uri": "https://localhost:8080/",
          "height": 297
        },
        "id": "Vwqt4wUiL8xD",
        "outputId": "c1c0346f-fcbb-4df1-ee47-d473a1dc2636"
      },
      "source": [
        "#create dataset for pixel image (40x40 instead of 200x200 since it caused a big distortion in the graph in that case)\n",
        "f1 = np.linspace(1, 40, num=40)\n",
        "f2 = np.linspace(1, 40, num=40)\n",
        "xx, yy = np.meshgrid(f1,f2)\n",
        "xx = xx.reshape(1,1600)\n",
        "yy = yy.reshape(1,1600)\n",
        "X_plot = np.dstack((xx,yy))\n",
        "y_plot, means_plot = nearest_mean(X_train, y_train, X_plot)\n",
        "y_plot = y_plot[:,0]\n",
        "y_plot = y_plot.reshape(40,40)\n",
        "\n",
        "#plot the pixel image dataset\n",
        "fig, ax = plt.subplots()\n",
        "color= ['red' if y == 1 else 'green' for y in y_test]\n",
        "ax.imshow(y_plot, alpha = 0.5)\n",
        "\n",
        "#add the test set data points and the means\n",
        "ax.scatter(X_test[:,0], X_test[:,1], c=color, marker = \"+\")\n",
        "ax.scatter(means[:,0], means[:,1], marker = \"o\")\n",
        "\n",
        "ax.set_xlabel(r'$Feature 1$', fontsize=15)\n",
        "ax.set_ylabel(r'$Feature 2$', fontsize=15)\n",
        "ax.set_title('Dataset of 1s and 7s in reduced feature space')\n",
        "\n",
        "fig.tight_layout()\n",
        "plt.show()\n",
        "#f1.shape\n",
        "\n",
        "#print(xx)\n",
        "#print(yy)\n",
        "#print(y_plot)"
      ],
      "execution_count": null,
      "outputs": [
        {
          "output_type": "display_data",
          "data": {
            "image/png": "[encoded data removed]",
            "text/plain": [
              "<Figure size 432x288 with 1 Axes>"
            ]
          },
          "metadata": {
            "needs_background": "light"
          }
        }
      ]
    },
    {
      "cell_type": "markdown",
      "metadata": {
        "id": "OlCHlQqxoUtj"
      },
      "source": [
        "The blue points in the plot represent the respective class means, the scattered plus signs represent the test data, colored according to the class.\n",
        "As determined already by the inspection of the corresponding array in 2.1, we see one misclassification on the side of the boundary."
      ]
    },
    {
      "cell_type": "markdown",
      "metadata": {
        "id": "n5pucsozRshT"
      },
      "source": [
        "## 3. QDA"
      ]
    },
    {
      "cell_type": "markdown",
      "metadata": {
        "id": "wueciXwjR4C6"
      },
      "source": [
        "### 3.1 Implement QDA Training"
      ]
    },
    {
      "cell_type": "code",
      "metadata": {
        "id": "dVivFx_dUPMq"
      },
      "source": [
        "def fit_qda(training_features, training_labels): # fit the training data to a qda model\n",
        "    l = len(training_labels) \n",
        "    features_1 = [training_features[i] for i in range(l) if training_labels[i]==1] # features of all elements with label 1\n",
        "    features_7 = [training_features[i] for i in range(l) if training_labels[i]==7] # features of all elements with label 7\n",
        "    \n",
        "    l1 = len(features_1)\n",
        "    l7 = len(features_7)\n",
        "    mu_1 = sum(features_1)/l1 # list of means of features with label 1\n",
        "    mu_7 = sum(features_7)/l7 # list of means of features with label 7\n",
        "    mu = np.array([mu_1, mu_7]) \n",
        "\n",
        "    cov_1 = sum([np.outer(features_1[i]-mu_1, features_1[i]-mu_1) for i in range(l1)])/l1 # covaraint matrix of elements with label 1\n",
        "    cov_7 = sum([np.outer(features_7[i]-mu_7, features_7[i]-mu_7) for i in range(l7)])/l7 # covaraint matrix of elements with label 7\n",
        "    covmat = np.array([cov_1, cov_7])\n",
        "    \n",
        "    p = np.array([l1/l, l7/l]) # probabilities of the labels\n",
        "    \n",
        "    return mu, covmat, p\n",
        "    # mu = (2,D) rows are the two class means\n",
        "    # covmat = (2,D,D) two covariance matrices (D,D)\n",
        "    # p = two priors"
      ],
      "execution_count": null,
      "outputs": []
    },
    {
      "cell_type": "code",
      "metadata": {
        "id": "BEI3tNCSUgmm",
        "colab": {
          "base_uri": "https://localhost:8080/"
        },
        "outputId": "e69c9831-7b22-4546-8bce-414aa9ee70b6"
      },
      "source": [
        "print(fit_qda(X_train, y_train))"
      ],
      "execution_count": null,
      "outputs": [
        {
          "output_type": "stream",
          "name": "stdout",
          "text": [
            "(array([[27.69918699, 10.28455285],\n",
            "       [ 4.64516129, 22.65591398]]), array([[[21.20219446, -6.44285809],\n",
            "        [-6.44285809, 31.99220041]],\n",
            "\n",
            "       [[22.46548734, -3.10058966],\n",
            "        [-3.10058966, 24.91386287]]]), array([0.56944444, 0.43055556]))\n"
          ]
        }
      ]
    },
    {
      "cell_type": "markdown",
      "metadata": {
        "id": "iP3U5l6RSDxD"
      },
      "source": [
        "### 3.2 Implement QDA Prediction"
      ]
    },
    {
      "cell_type": "code",
      "metadata": {
        "id": "_di1uWEdU08I"
      },
      "source": [
        "def gaussian(mu, covmat, x): # gaussian, gives the probability of features x for given mu and covmat\n",
        "    return (np.linalg.det(2*np.pi*covmat))**(-0.5)*np.exp(-0.5* np.linalg.inv(covmat).dot(mu-x).dot(mu-x))\n",
        "\n",
        "def predict_qda(mu, covmat, p, test_features):\n",
        "    prob = [[gaussian(mu[i], covmat[i], f) for i in range(2)] for f in test_features] # calculates the probabilities for the two classes\n",
        "    predicted_labels = [1 if p[0]>p[1] else 7 for p in prob] # compares the probabilities and chooses the label with higher probability\n",
        "    return predicted_labels"
      ],
      "execution_count": null,
      "outputs": []
    },
    {
      "cell_type": "code",
      "metadata": {
        "id": "EEP8ilohU33I",
        "colab": {
          "base_uri": "https://localhost:8080/"
        },
        "outputId": "bdc2eeb4-d7e7-48b0-e343-c9d5baf51076"
      },
      "source": [
        "# fit the functions to the training data and test it on the training data and test data\n",
        "\n",
        "# predict labels with a classifier trained with X_train\n",
        "mu, covmat, p = fit_qda(X_train, y_train)\n",
        "predictions_train = predict_qda(mu, covmat, p, X_train)\n",
        "predictions_test = predict_qda(mu, covmat, p, X_test)\n",
        "\n",
        "# compare the classifier results with the true labels:\n",
        "error_train = sum([1 for i in range(len(y_train)) if predictions_train[i] != y_train[i]])/len(y_train)\n",
        "error_test = sum([1 for i in range(len(y_test)) if predictions_test[i] != y_test[i]])/len(y_test)\n",
        "\n",
        "print(\"error on the train data:\", error_train*100 , \"%\")\n",
        "print(\"error on the test data:\", error_test*100 , \"%\")"
      ],
      "execution_count": null,
      "outputs": [
        {
          "output_type": "stream",
          "name": "stdout",
          "text": [
            "error on the train data: 2.314814814814815 %\n",
            "error on the test data: 0.6896551724137931 %\n"
          ]
        }
      ]
    },
    {
      "cell_type": "markdown",
      "metadata": {
        "id": "vg5_Jhc66HQM"
      },
      "source": [
        "The error of the classifier on the training set is about 2.31% and on the test set about 0.690%."
      ]
    },
    {
      "cell_type": "markdown",
      "metadata": {
        "id": "UrH0s9pwSLD-"
      },
      "source": [
        "### 3.3 Visualization"
      ]
    },
    {
      "cell_type": "code",
      "metadata": {
        "id": "2Jjvhc2uU-g2",
        "colab": {
          "base_uri": "https://localhost:8080/",
          "height": 332
        },
        "outputId": "7a27a2b2-37e4-4816-f8ce-b7505fb88143"
      },
      "source": [
        "mu, covmat, p = fit_qda(X_train, y_train)\n",
        "eig_val_1 , eig_vec_1 = np.linalg.eig(covmat[0])\n",
        "eig_val_7 , eig_vec_7 = np.linalg.eig(covmat[1])\n",
        "\n",
        "fig, ax = plt.subplots()\n",
        "\n",
        "# area plot\n",
        "x = np.arange(0, 32, 1)\n",
        "y = np.arange(0, 32, 1)\n",
        "z1 = np.array([[gaussian(mu[0], covmat[0], [xx,yy]) for xx in x] for yy in y])\n",
        "z7 = np.array([[gaussian(mu[1], covmat[1], [xx,yy]) for xx in x] for yy in y])\n",
        "z = np.sign(z1-z7)\n",
        "\n",
        "ax.imshow(z, alpha = 1)\n",
        "\n",
        "# scatter plot\n",
        "color= ['red' if y == 1 else 'green' for y in y_filter]\n",
        "ax.scatter(reduced_x[:,0], reduced_x[:,1], c=color)\n",
        "\n",
        "# cluster shape plot\n",
        "plt.contour(z1)\n",
        "plt.contour(z7)\n",
        "\n",
        "# plot eigenvectors\n",
        "vec_1 = np.array([eig_vec_1[i]*np.sqrt(eig_val_1[i]) for i in range(2)])\n",
        "vec_7 = np.array([-eig_vec_7[i]*np.sqrt(eig_val_7[i]) for i in range(2)])\n",
        "origin_1 = np.transpose(np.array([mu[0], mu[0]]), [1,0])\n",
        "origin_7 = np.transpose(np.array([mu[1], mu[1]]), [1,0])\n",
        "plt.quiver(*origin_1, vec_1[:, 0], vec_1[:, 1], color=['green','green'], scale =32)\n",
        "plt.quiver(*origin_7, vec_7[:, 0], vec_7[:, 1], color=['red','red'], scale =32)\n",
        "\n",
        "fig.tight_layout()\n",
        "ax.set_xlabel(r'$Feature 1$', fontsize=15)\n",
        "ax.set_ylabel(r'$Feature 2$', fontsize=15)\n",
        "ax.set_title('Dataset of 1s and 7s in reduced feature space')\n",
        "plt.show()"
      ],
      "execution_count": null,
      "outputs": [
        {
          "output_type": "display_data",
          "data": {
            "image/png": "[encoded data removed]",
            "text/plain": [
              "<Figure size 432x288 with 1 Axes>"
            ]
          },
          "metadata": {
            "needs_background": "light"
          }
        }
      ]
    },
    {
      "cell_type": "markdown",
      "metadata": {
        "id": "zVn09zAm4vZ8"
      },
      "source": [
        "There are still some misclassifications (red points in the purple area and green points in  the yellow area). These error causing points are far away from the mean of the respective cluster and close to the other mean."
      ]
    },
    {
      "cell_type": "markdown",
      "metadata": {
        "id": "tHnd0qLGTd2e"
      },
      "source": [
        "### 3.4 Performance evaluation"
      ]
    },
    {
      "cell_type": "markdown",
      "metadata": {
        "id": "jtfFOLa_HxC3"
      },
      "source": [
        "For performance evaluation, 10-fold cross-validation is applied to the QDA classifier.\n",
        "\n",
        "For this, the *cross_validate* function by sklearn is used which requires the classifier to be an object offering a specific interface. In order to work with the *cross_validate* function, an adapter class is needed to use it with our own classifier:"
      ]
    },
    {
      "cell_type": "code",
      "metadata": {
        "id": "k-ES7eOe-8Rf"
      },
      "source": [
        "class QdaEstimator(BaseEstimator, ClassifierMixin):\n",
        "\n",
        "    def fit(self, X, y):\n",
        "        # check that X and y have correct shape\n",
        "        X, y = check_X_y(X, y)\n",
        "\n",
        "        # fit the classifier\n",
        "        mu, covmat, p = fit_qda(X, y)\n",
        "\n",
        "        # store the learned values\n",
        "        self.mu = mu\n",
        "        self.covmat = covmat\n",
        "        self.p = p\n",
        "\n",
        "        # store the classes seen during fit\n",
        "        self.classes_ = unique_labels(y)\n",
        "\n",
        "        return self\n",
        "\n",
        "    def predict(self, X):\n",
        "        # check if fit has been called\n",
        "        check_is_fitted(self)\n",
        "\n",
        "        # Input validation\n",
        "        X = check_array(X)\n",
        "\n",
        "        # apply classifier\n",
        "        prediction = predict_qda(self.mu, self.covmat, self.p, X)\n",
        "\n",
        "        return prediction"
      ],
      "execution_count": null,
      "outputs": []
    },
    {
      "cell_type": "markdown",
      "metadata": {
        "id": "EI-aJVw8IHHt"
      },
      "source": [
        "Now, cross-validation can be applied to our QDA classifier:"
      ]
    },
    {
      "cell_type": "code",
      "metadata": {
        "colab": {
          "base_uri": "https://localhost:8080/"
        },
        "id": "nNlfG_AI_tnE",
        "outputId": "3f15d5f3-d485-498a-bdb1-1b8b3c4518f1"
      },
      "source": [
        "# number of folds\n",
        "k = 10\n",
        "\n",
        "# cross-validate classifier\n",
        "est = QdaEstimator()\n",
        "result = cross_validate(est, reduced_x, y_filter, cv=k, scoring='accuracy')\n",
        "\n",
        "# calculate average times and error\n",
        "avg_fit_time = np.mean(result['fit_time'])*1000\n",
        "avg_score_time = np.mean(result['score_time'])*1000\n",
        "avg_error = (1-np.mean(result['test_score']))*100\n",
        "\n",
        "# output results\n",
        "print(f\"Running cross-validation with {k} Folds.\")\n",
        "print(f\"Average time for training the classifier: \\t{avg_fit_time} ms\")\n",
        "print(f\"Average time for predicting the labels: \\t{avg_score_time} ms\")\n",
        "print(f\"Average error: \\t\\t\\t\\t\\t{avg_error} %\")"
      ],
      "execution_count": null,
      "outputs": [
        {
          "output_type": "stream",
          "name": "stdout",
          "text": [
            "Running cross-validation with 10 Folds.\n",
            "Average time for training the classifier: \t5.597329139709473 ms\n",
            "Average time for predicting the labels: \t6.237173080444336 ms\n",
            "Average error: \t\t\t\t\t1.6591591591591515 %\n"
          ]
        }
      ]
    },
    {
      "cell_type": "markdown",
      "metadata": {
        "id": "g8LyWnF7A5cG"
      },
      "source": [
        "## 4. LDA"
      ]
    },
    {
      "cell_type": "markdown",
      "metadata": {
        "id": "jXfQuU53BATC"
      },
      "source": [
        "### 4.1 Implement LDA Training"
      ]
    },
    {
      "cell_type": "code",
      "metadata": {
        "id": "6a1emcrqMmxy"
      },
      "source": [
        "# This function can be used to train the LDA classifier.\n",
        "# A training set must be passed to the function:\n",
        "#   training_features (N x D)\n",
        "#   training_labels (N x 1)\n",
        "# Returns:\n",
        "#   mean for both classes mu (2 x D)\n",
        "#   within-class covariance matrix covmat (D x D)\n",
        "#   learned weight w (1 x D)\n",
        "#   learned offset b (1 x 1)\n",
        "def fit_lda(training_features, training_labels): # fit the training data to lda model\n",
        "\n",
        "    features_0 = training_features[training_labels == 0]    # training features for class 0\n",
        "    features_1 = training_features[training_labels == 1]    # training features for class 1\n",
        "\n",
        "    # calculate number of features in training set\n",
        "    N = len(training_labels)\n",
        "    N_0 = len(features_0)\n",
        "    N_1 = len(features_1)\n",
        "    \n",
        "    # calculate mean for both classes\n",
        "    mu_0 = sum(features_0)/N_0\n",
        "    mu_1 = sum(features_1)/N_1\n",
        "    mu = np.array([mu_0, mu_1])\n",
        "\n",
        "    # calculate covaraint matrix for both classes (without factor 1/N_k)\n",
        "    cov_0 = sum([np.outer(features_0[i]-mu_0, features_0[i]-mu_0) for i in range(N_0)])\n",
        "    cov_1 = sum([np.outer(features_1[i]-mu_1, features_1[i]-mu_1) for i in range(N_1)])\n",
        "    \n",
        "    # within-class covariance (Sigma_w)\n",
        "    covmat = (cov_0 + cov_1) / N\n",
        "    \n",
        "    # finish calculation of covariant matrices for both classes \n",
        "    cov_0 = cov_0 / N_0\n",
        "    cov_1 = cov_1 / N_1\n",
        "\n",
        "    # calculate w\n",
        "    w = np.linalg.inv(covmat).dot(mu_1 - mu_0)\n",
        "\n",
        "    # calculate b_k for both classes\n",
        "    b_0 = np.log(np.sqrt(np.linalg.det(2*np.pi*cov_0))) - np.log(N_0/N)\n",
        "    b_1 = np.log(np.sqrt(np.linalg.det(2*np.pi*cov_1))) - np.log(N_1/N)\n",
        "\n",
        "    # calculate b_k tilde for both classes\n",
        "    bt_0 = -0.5* np.linalg.inv(covmat).dot(mu_0).dot(mu_0) - b_0\n",
        "    bt_1 = -0.5* np.linalg.inv(covmat).dot(mu_1).dot(mu_1) - b_1\n",
        "\n",
        "    # calculate b\n",
        "    b = bt_1 - bt_0\n",
        "    \n",
        "    return mu, covmat, w, b"
      ],
      "execution_count": null,
      "outputs": []
    },
    {
      "cell_type": "markdown",
      "metadata": {
        "id": "nrLomaY4EE00"
      },
      "source": [
        "Now, the above function can be tested by applying it to the training data set:"
      ]
    },
    {
      "cell_type": "code",
      "metadata": {
        "colab": {
          "base_uri": "https://localhost:8080/"
        },
        "id": "ixwY0MmvEDiU",
        "outputId": "60ad3627-f271-4a0f-d15e-14964dd07cd7"
      },
      "source": [
        "# convert labels of the training set to 0 and 1 instead of 1 and 7\n",
        "y_train_c = np.copy(y_train)\n",
        "y_train_c[y_train == 1] = 0\n",
        "y_train_c[y_train == 7] = 1\n",
        "\n",
        "# fit the classifier to the training data\n",
        "mu, covmat, w, b = fit_lda(X_train, y_train_c)\n",
        "\n",
        "print(f\"w = {w}\\nb = {b}\")"
      ],
      "execution_count": null,
      "outputs": [
        {
          "output_type": "stream",
          "name": "stdout",
          "text": [
            "w = [-1.0016399   0.25425585]\n",
            "b = 11.804640801377086\n"
          ]
        }
      ]
    },
    {
      "cell_type": "markdown",
      "metadata": {
        "id": "nT2hQRtIBMK5"
      },
      "source": [
        "### 4.2 Implement LDA Prediction"
      ]
    },
    {
      "cell_type": "code",
      "metadata": {
        "id": "ZB48M2MdnnCU"
      },
      "source": [
        "# This function can be used to predict the corresponding labels for the given features \n",
        "# using the LDA classifier.\n",
        "# Input:\n",
        "#   w: learned weight returned by fit_lda() function (1 x D)\n",
        "#   b: learned offset b returned by fit_lda() function (1 x 1)\n",
        "#   test_features: features to predict the corresponding labels for (M x D)\n",
        "# Returns:\n",
        "#   predicted_labels (M x 1)\n",
        "def predict_lda(w, b, test_features):\n",
        "\n",
        "    # apply lda decision rule\n",
        "    predicted_labels = np.array([w.dot(f) + b for f in test_features])\n",
        "    \n",
        "    # apply threshold of 0\n",
        "    predicted_labels[predicted_labels >= 0] = 1\n",
        "    predicted_labels[predicted_labels < 0] = 0\n",
        "\n",
        "    return predicted_labels"
      ],
      "execution_count": null,
      "outputs": []
    },
    {
      "cell_type": "markdown",
      "metadata": {
        "id": "DxKrE6e6Dk0v"
      },
      "source": [
        "Now, the above function can be tested. \n",
        "\n",
        "The output parameters w and b of the *fit_lda* function are passed and predictions are calculated for the test features as well as the training features. "
      ]
    },
    {
      "cell_type": "code",
      "metadata": {
        "colab": {
          "base_uri": "https://localhost:8080/"
        },
        "id": "QVUWWvsmNb97",
        "outputId": "9da68e21-3b54-418d-d08d-1ba5d26d375a"
      },
      "source": [
        "# convert labels of the test set to 0 and 1 instead of 1 and 7\n",
        "y_test_c = np.copy(y_test)\n",
        "y_test_c[y_test == 1] = 0\n",
        "y_test_c[y_test == 7] = 1\n",
        "\n",
        "# test the classifier on the test and training data\n",
        "predictions_test = predict_lda(w, b, X_test)\n",
        "predictions_train = predict_lda(w, b, X_train)\n",
        "\n",
        "# calculate errors in percent\n",
        "error_test = sum(predictions_test != y_test_c) / len(predictions_test) * 100\n",
        "error_train = sum(predictions_train != y_train_c) / len(predictions_train) * 100\n",
        "\n",
        "# output errors\n",
        "print(f\"Error on test set: \\t{error_test} %\")\n",
        "print(f\"Error on training set: \\t{error_train} %\")"
      ],
      "execution_count": null,
      "outputs": [
        {
          "output_type": "stream",
          "name": "stdout",
          "text": [
            "Error on test set: \t0.6896551724137931 %\n",
            "Error on training set: \t2.314814814814815 %\n"
          ]
        }
      ]
    },
    {
      "cell_type": "markdown",
      "metadata": {
        "id": "OPEMqGYvBRHx"
      },
      "source": [
        "### 4.3 Visualization"
      ]
    },
    {
      "cell_type": "code",
      "metadata": {
        "colab": {
          "base_uri": "https://localhost:8080/",
          "height": 375
        },
        "id": "w6HfuvaD2Xqt",
        "outputId": "c362e726-1935-4f15-ff66-4a6d1f62fe23"
      },
      "source": [
        "# value of each pixel in the digits-dataset is between 0 and 16. \n",
        "# therefore, after our feature reduction, values can be between 0 and 32 for each of both dimensions.\n",
        "# We chose a grid size of 33x33, since scaling to a larger grid doesn't have any advantage\n",
        "maxval = 32\n",
        "f1 = np.linspace(0, maxval, num=maxval+1, dtype=np.int16)\n",
        "f2 = np.linspace(0, maxval, num=maxval+1, dtype=np.int16)\n",
        "\n",
        "# cartesian product of f1 and f2\n",
        "X_plot = np.transpose([np.tile(f1, f2.size), np.repeat(f2, f1.size)])\n",
        "\n",
        "# initalize image\n",
        "img = np.empty((maxval+1, maxval+1))\n",
        "\n",
        "# calculate predictions\n",
        "y_plot = predict_lda(w, b, X_plot)\n",
        "\n",
        "# fill image\n",
        "for i in range(33*33):\n",
        "    img[X_plot[i][1], X_plot[i][0]] = y_plot[i]\n",
        "\n",
        "# decision region image\n",
        "fig, ax = plt.subplots()\n",
        "ax.imshow(img, alpha=0.5)\n",
        "\n",
        "# scatter plot\n",
        "color= ['red' if y == 1 else 'green' for y in y_filter]\n",
        "ax.scatter(reduced_x[:,0], reduced_x[:,1], c=color, marker = \"+\")\n",
        "ax.scatter(mu[:,0], mu[:,1], c='black', marker = \"o\")\n",
        "\n",
        "# plot cluster shape\n",
        "x = np.arange(0, 32, 1)\n",
        "y = np.arange(0, 32, 1)\n",
        "xg, yg = np.meshgrid(x, y)\n",
        "z0 = [[gaussian(mu[0], covmat, [xx,yy]) for xx in x] for yy in y]\n",
        "z1 = [[gaussian(mu[1], covmat, [xx,yy]) for xx in x] for yy in y]\n",
        "plt.contour(z0)\n",
        "plt.contour(z1)\n",
        "\n",
        "# layout\n",
        "fig.tight_layout()\n",
        "ax.set_xlabel(r'$Feature 1$', fontsize=12)\n",
        "ax.set_ylabel(r'$Feature 2$', fontsize=12)\n",
        "ax.set_title('Visualization of the reduced feature space showing\\n the instances of the training set (red=1, green=7),\\nthe LDA decision regions and LDA cluster shapes:\\n')\n",
        "plt.show()"
      ],
      "execution_count": null,
      "outputs": [
        {
          "output_type": "display_data",
          "data": {
            "image/png": "[encoded data removed]",
            "text/plain": [
              "<Figure size 432x288 with 1 Axes>"
            ]
          },
          "metadata": {
            "needs_background": "light"
          }
        }
      ]
    },
    {
      "cell_type": "markdown",
      "metadata": {
        "id": "0RlQN6dlBXLm"
      },
      "source": [
        "### 4.4 Performance evaluation"
      ]
    },
    {
      "cell_type": "markdown",
      "metadata": {
        "id": "2pTbl-nCGORd"
      },
      "source": [
        "For performance evaluation, 10-fold cross-validation is applied to the LDA classifier.\n",
        "\n",
        "For this, the *cross_validate* function by sklearn is used which requires the classifier to be an object offering a specific interface. In order to work with the *cross_validate* function, an adapter class is needed to use it with our own classifier:"
      ]
    },
    {
      "cell_type": "code",
      "metadata": {
        "id": "FKRIpQNxyEUk"
      },
      "source": [
        "class LdaEstimator(BaseEstimator, ClassifierMixin):\n",
        "\n",
        "    def fit(self, X, y):\n",
        "        # check that X and y have correct shape\n",
        "        X, y = check_X_y(X, y)\n",
        "\n",
        "        # fit the classifier\n",
        "        mu, covmat, w, b = fit_lda(X, y)\n",
        "\n",
        "        # store the learned weight and offset\n",
        "        self.w = w\n",
        "        self.b = b\n",
        "\n",
        "        # store the classes seen during fit\n",
        "        self.classes_ = unique_labels(y)\n",
        "\n",
        "        return self\n",
        "\n",
        "    def predict(self, X):\n",
        "        # check if fit has been called\n",
        "        check_is_fitted(self)\n",
        "\n",
        "        # Input validation\n",
        "        X = check_array(X)\n",
        "\n",
        "        # apply classifier\n",
        "        prediction = predict_lda(self.w, self.b, X)\n",
        "\n",
        "        return prediction"
      ],
      "execution_count": null,
      "outputs": []
    },
    {
      "cell_type": "markdown",
      "metadata": {
        "id": "hUYQVhQpHf63"
      },
      "source": [
        "Now, cross-validation can be applied to our LDA classifier:"
      ]
    },
    {
      "cell_type": "code",
      "metadata": {
        "colab": {
          "base_uri": "https://localhost:8080/"
        },
        "id": "9OxfOnZa1pMp",
        "outputId": "12f9c66c-b0f4-4056-f707-44e75a4a08b2"
      },
      "source": [
        "# convert labels of the data set to 0 and 1 instead of 1 and 7\n",
        "y_filter_c = np.copy(y_filter)\n",
        "y_filter_c[y_filter == 1] = 0\n",
        "y_filter_c[y_filter == 7] = 1\n",
        "\n",
        "# number of folds\n",
        "k = 10\n",
        "\n",
        "# cross-validate classifier\n",
        "est = LdaEstimator()\n",
        "result = cross_validate(est, reduced_x, y_filter_c, cv=k, scoring='accuracy')\n",
        "\n",
        "# calculate average times and error\n",
        "avg_fit_time = np.mean(result['fit_time'])*1000\n",
        "avg_score_time = np.mean(result['score_time'])*1000\n",
        "avg_error = (1-np.mean(result['test_score']))*100\n",
        "\n",
        "# output results\n",
        "print(f\"Running cross-validation with {k} Folds.\")\n",
        "print(f\"Average time for training the classifier: \\t{avg_fit_time} ms\")\n",
        "print(f\"Average time for predicting the labels: \\t{avg_score_time} ms\")\n",
        "print(f\"Average error: \\t\\t\\t\\t\\t{avg_error} %\")"
      ],
      "execution_count": null,
      "outputs": [
        {
          "output_type": "stream",
          "name": "stdout",
          "text": [
            "Running cross-validation with 10 Folds.\n",
            "Average time for training the classifier: \t5.723786354064941 ms\n",
            "Average time for predicting the labels: \t0.5665302276611328 ms\n",
            "Average error: \t\t\t\t\t1.6591591591591515 %\n"
          ]
        }
      ]
    },
    {
      "cell_type": "markdown",
      "metadata": {
        "id": "Jy7CCuGfIR3k"
      },
      "source": [
        "All three classifiers show the same results for the single measurements.\n",
        "\n",
        "Cross-validation has only been applied to QDA and LDA. In this case, both classifiers show the same error rate as well.\n",
        "\n",
        "This might be due to the dimension reduction function working too well. The visualizations show, that the decision boundary differs for each classifier. But all three decision boundaries are very fortunate.\n",
        "\n",
        "Therefore, prediction quality seems to be equal for all classifiers in this case.\n",
        "\n",
        "Cross-validation shows a performance difference between QDA and LDA. Both are equally as fast when training the classifier. But LDA seems to be a bit faster when it comes to predicting (about 5 to 10 times).\n",
        "\n",
        "Since we distributed tasks in our team, the performance difference might simply be caused by different implementations though."
      ]
    }
  ]
}