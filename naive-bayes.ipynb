{
  "nbformat": 4,
  "nbformat_minor": 0,
  "metadata": {
    "colab": {
      "name": "qda-lda.ipynb",
      "provenance": [],
      "include_colab_link": true
    },
    "kernelspec": {
      "name": "python3",
      "display_name": "Python 3"
    },
    "language_info": {
      "name": "python"
    }
  },
  "cells": [
    {
      "cell_type": "markdown",
      "metadata": {
        "id": "view-in-github",
        "colab_type": "text"
      },
      "source": [
        "<a href=\"https://colab.research.google.com/github/kdidi99/ml_heidelberg/blob/main/naive-bayes.ipynb\" target=\"_parent\"><img src=\"https://colab.research.google.com/assets/colab-badge.svg\" alt=\"Open In Colab\"/></a>"
      ]
    },
    {
      "cell_type": "markdown",
      "metadata": {
        "id": "41k8KfEKMmjh"
      },
      "source": [
        "#**Exercise 3**"
      ]
    },
    {
      "cell_type": "markdown",
      "metadata": {
        "id": "4VZn-uSc63M9"
      },
      "source": [
        "Team members:\n",
        "\n",
        "*   Rudolf Braun\n",
        "*   Jannik Schacht\n",
        "*   Kieran Didi"
      ]
    },
    {
      "cell_type": "markdown",
      "metadata": {
        "id": "gwmAdJvY7ZCT"
      },
      "source": [
        "#Data preparation"
      ]
    },
    {
      "cell_type": "code",
      "metadata": {
        "id": "_K33xV8t7iBS"
      },
      "source": [
        "from sklearn.datasets import load_digits\n",
        "import numpy as np\n",
        "import matplotlib.pyplot as plt\n",
        "from sklearn import model_selection\n",
        "from sklearn.model_selection import train_test_split\n",
        "from sklearn.base import BaseEstimator, ClassifierMixin\n",
        "from sklearn.utils.validation import check_X_y, check_array, check_is_fitted\n",
        "from sklearn.utils.multiclass import unique_labels\n",
        "from sklearn.model_selection import cross_validate"
      ],
      "execution_count": 1,
      "outputs": []
    },
    {
      "cell_type": "code",
      "metadata": {
        "colab": {
          "base_uri": "https://localhost:8080/"
        },
        "id": "CY5IvBcpKKD9",
        "outputId": "9cfe3f5b-8fa7-4ecb-d184-85edee3bd057"
      },
      "source": [
        "digits = load_digits() \n",
        "digits.keys()"
      ],
      "execution_count": 2,
      "outputs": [
        {
          "output_type": "execute_result",
          "data": {
            "text/plain": [
              "dict_keys(['data', 'target', 'frame', 'feature_names', 'target_names', 'images', 'DESCR'])"
            ]
          },
          "metadata": {},
          "execution_count": 2
        }
      ]
    },
    {
      "cell_type": "code",
      "metadata": {
        "id": "DCmL2YN8KM5q"
      },
      "source": [
        "data = digits[\"data\"]\n",
        "images = digits[\"images\"]\n",
        "target = digits[\"target\"]\n",
        "target_names = digits[\"target_names\"]"
      ],
      "execution_count": 3,
      "outputs": []
    },
    {
      "cell_type": "markdown",
      "metadata": {
        "id": "kT01kMWUKxXX"
      },
      "source": [
        "Data filtering (indeed we have 361 instances with a dimension of 8x8=64 each)\n",
        "\n"
      ]
    },
    {
      "cell_type": "code",
      "metadata": {
        "colab": {
          "base_uri": "https://localhost:8080/"
        },
        "id": "R33XWe-SKm56",
        "outputId": "c00e7e42-c18e-4cb1-f6d1-53ea7a205e5c"
      },
      "source": [
        "X_all = data\n",
        "y_all = target\n",
        "\n",
        "X_filter = X_all[np.logical_or(3 == y_all, 9 == y_all)]\n",
        "y_filter = y_all[np.logical_or(3 == y_all, 9 == y_all)]\n",
        "X_filter.shape"
      ],
      "execution_count": 4,
      "outputs": [
        {
          "output_type": "execute_result",
          "data": {
            "text/plain": [
              "(363, 64)"
            ]
          },
          "metadata": {},
          "execution_count": 4
        }
      ]
    },
    {
      "cell_type": "markdown",
      "metadata": {
        "id": "QbZbN6PdNkvJ"
      },
      "source": [
        "Visualize a few numbers to make sure we have the correct images"
      ]
    },
    {
      "cell_type": "code",
      "metadata": {
        "colab": {
          "base_uri": "https://localhost:8080/",
          "height": 499
        },
        "id": "uWPsYMBpNoKg",
        "outputId": "7fc9cf45-9cc7-455e-8911-d345d276707c"
      },
      "source": [
        "fig, axs = plt.subplots(2, 2)\n",
        "sel = np.random.randint(low=0, high=361, size=4)\n",
        "for r, x, y in zip(sel, [0, 0, 1, 1], [0, 1, 0, 1]):\n",
        "    img = X_filter[r, :].reshape((8,8))\n",
        "    assert 2 == len(img.shape)\n",
        "    axs[x, y].imshow(img, interpolation=\"nearest\", cmap=\"gray\")\n",
        "    axs[x, y].set_title(f\"Random Number {r} ({y_filter[r]})\")\n",
        "fig.set_size_inches(8, 8)"
      ],
      "execution_count": 6,
      "outputs": [
        {
          "output_type": "display_data",
          "data": {
            "image/png": "[encoded data removed]",
            "text/plain": [
              "<Figure size 576x576 with 4 Axes>"
            ]
          },
          "metadata": {
            "needs_background": "light"
          }
        }
      ]
    },
    {
      "cell_type": "markdown",
      "metadata": {
        "id": "ybULRuWi7iyy"
      },
      "source": [
        "#Dimension Reduction"
      ]
    },
    {
      "cell_type": "code",
      "metadata": {
        "id": "7whApUoCNPY2",
        "colab": {
          "base_uri": "https://localhost:8080/"
        },
        "outputId": "371ce8b3-9c8f-4164-aa7e-d14286201e00"
      },
      "source": [
        "#separate 3's and 9's\n",
        "X_three = X_filter[3 == y_filter]\n",
        "X_nine = X_filter[9 == y_filter]\n",
        "\n",
        "#calculate the means of each pixel in the respective classes and take the difference \n",
        "mean_diff = X_three.mean(axis=0)-X_nine.mean(axis=0)\n",
        "\n",
        "#look for the top 5 pixels most bright for 1's and 7's respectively\n",
        "idx_three = (mean_diff).argsort()[:5]\n",
        "idx_nine = (-mean_diff).argsort()[:5]\n",
        "\n",
        "print(idx_three)\n",
        "print(mean_diff[idx_three])\n",
        "print(idx_nine)\n",
        "print(mean_diff[idx_nine])"
      ],
      "execution_count": 7,
      "outputs": [
        {
          "output_type": "stream",
          "name": "stdout",
          "text": [
            "[26 18 29 21 30]\n",
            "[-8.95765027 -8.79508197 -8.45455373 -4.78870674 -3.75692168]\n",
            "[36 20 58  4  2]\n",
            "[6.95473588 3.71065574 3.58916211 2.96848816 2.70464481]\n"
          ]
        }
      ]
    },
    {
      "cell_type": "code",
      "metadata": {
        "id": "RUcfUyOt7m3S"
      },
      "source": [
        "def reduce_dim(x):\n",
        "    #define indices to be selected\n",
        "    idx_3 = np.array([26, 18])\n",
        "    idx_9 = np.array([36, 20])\n",
        "    #select entries via indices and calculate new features from them\n",
        "    x_3 = np.sum(x.take(idx_3, axis=1), axis=1)\n",
        "    x_9 = np.sum(x.take(idx_9, axis=1), axis=1)\n",
        "    #reduced_x = x.take(idx, axis=1)\n",
        "    #combine the two features into one array\n",
        "    reduced_x = np.column_stack((x_3, x_9))\n",
        "    return reduced_x\n"
      ],
      "execution_count": 8,
      "outputs": []
    },
    {
      "cell_type": "code",
      "metadata": {
        "colab": {
          "base_uri": "https://localhost:8080/"
        },
        "id": "BxqwN-qwW--Q",
        "outputId": "374c4790-847c-4171-abdf-dc5898fa73a4"
      },
      "source": [
        "#make sure that the dimensions of the reduced data are correct \n",
        "reduced_x = reduce_dim(X_filter)\n",
        "reduced_x.shape"
      ],
      "execution_count": 9,
      "outputs": [
        {
          "output_type": "execute_result",
          "data": {
            "text/plain": [
              "(363, 2)"
            ]
          },
          "metadata": {},
          "execution_count": 9
        }
      ]
    },
    {
      "cell_type": "markdown",
      "metadata": {
        "id": "qadZOpftL6XI"
      },
      "source": [
        "Split into training and test set "
      ]
    },
    {
      "cell_type": "code",
      "metadata": {
        "id": "aHD0gBXfL6d_"
      },
      "source": [
        "X_train, X_test, y_train, y_test = model_selection.train_test_split(X_filter, y_filter,\n",
        "   test_size = 0.4, random_state = 0)"
      ],
      "execution_count": 11,
      "outputs": []
    },
    {
      "cell_type": "markdown",
      "metadata": {
        "id": "4P9HMhs77rWq"
      },
      "source": [
        "### 1.2 Scatterplot"
      ]
    },
    {
      "cell_type": "code",
      "metadata": {
        "id": "uLq1jNbq7qZ6",
        "colab": {
          "base_uri": "https://localhost:8080/",
          "height": 297
        },
        "outputId": "405dcf8a-bab8-4f74-d03b-3409a1a67a63"
      },
      "source": [
        "#plt.style.use('_mpl-gallery')\n",
        "fig, ax = plt.subplots()\n",
        "color= ['red' if y == 3 else 'green' for y in y_filter]\n",
        "ax.scatter(reduced_x[:,0], reduced_x[:,1], c=color)\n",
        "\n",
        "ax.set_xlabel(r'$Feature 1$', fontsize=15)\n",
        "ax.set_ylabel(r'$Feature 2$', fontsize=15)\n",
        "ax.set_title('Dataset of 3s and 9s in reduced feature space')\n",
        "\n",
        "fig.tight_layout()\n",
        "plt.show()"
      ],
      "execution_count": 10,
      "outputs": [
        {
          "output_type": "display_data",
          "data": {
            "image/png": "[encoded data removed]",
            "text/plain": [
              "<Figure size 432x288 with 1 Axes>"
            ]
          },
          "metadata": {
            "needs_background": "light"
          }
        }
      ]
    },
    {
      "cell_type": "markdown",
      "metadata": {
        "id": "0qhx-DaYwqC5"
      },
      "source": [
        "The two classes don't overlap too much, but are present as two separate clusters as visualised in the plot above. From this we can conclude that the reduced features are informative enough to continue."
      ]
    },
    {
      "cell_type": "markdown",
      "metadata": {
        "id": "V4ackHFNN6Lo"
      },
      "source": [
        "# 2. Naive Bayes classifier"
      ]
    },
    {
      "cell_type": "code",
      "metadata": {
        "id": "HZc4XJPHOoHE"
      },
      "source": [
        "def fit_naive_bayes(features, labels, bincount):\n",
        "  if bincount==0:\n",
        "      #determine bin width automatically with Freedman-Diaconis rule\n",
        "      #needs to be added: sort array and then determine IQR for each feature\n",
        "      iqr_val = np.quantile(features, q=[.25, .75])\n",
        "      iqr = np.diff(iqr_val)[0]\n",
        "      print(iqr_val)\n",
        "      print(features)\n",
        "      print(iqr)\n",
        "  else:\n",
        "    #determine bindwidth and initialize binnings array\n",
        "      x_max = np.max(features)\n",
        "      x_min = np.min(features)\n",
        "      binwidth = (x_max-x_min)/bincount\n",
        "      binnigns = np.zeros()\n",
        "  histograms = 0\n",
        "  binnings = 0\n",
        "  return histograms, binnings"
      ],
      "execution_count": 22,
      "outputs": []
    },
    {
      "cell_type": "code",
      "metadata": {
        "id": "tVCtFM9pOvEg"
      },
      "source": [
        "def predict_naive_bayes(test_features, histrograms, binnings):\n",
        "\n",
        "  return predicted_labels"
      ],
      "execution_count": null,
      "outputs": []
    },
    {
      "cell_type": "code",
      "metadata": {
        "id": "u1uya7KdN9fn",
        "outputId": "bc0be0c0-1c63-41c7-9ed2-b99ba996dfdf",
        "colab": {
          "base_uri": "https://localhost:8080/"
        }
      },
      "source": [
        "histograms, binning = fit_naive_bayes(X_train, y_train, 0)"
      ],
      "execution_count": 23,
      "outputs": [
        {
          "output_type": "stream",
          "name": "stdout",
          "text": [
            "[ 0. 10.]\n",
            "[[ 0.  0.  0. ... 12.  0.  0.]\n",
            " [ 0.  0.  9. ...  4.  0.  0.]\n",
            " [ 0.  0.  8. ...  8.  0.  0.]\n",
            " ...\n",
            " [ 0.  0.  0. ... 16.  9.  0.]\n",
            " [ 0.  0.  5. ...  2.  0.  0.]\n",
            " [ 0.  0.  6. ...  9.  1.  0.]]\n",
            "10.0\n"
          ]
        }
      ]
    },
    {
      "cell_type": "code",
      "metadata": {
        "id": "KWap1mgbOMfM"
      },
      "source": [
        "predicted_labels = predict_naive_bayes(test_features, histograms, binnings)"
      ],
      "execution_count": null,
      "outputs": []
    },
    {
      "cell_type": "code",
      "metadata": {
        "id": "cPLpozfQ-8E9"
      },
      "source": [
        "#confusion matrix, just use the one from sklearn?"
      ],
      "execution_count": null,
      "outputs": []
    },
    {
      "cell_type": "code",
      "metadata": {
        "id": "HtRm6PKqL-8u",
        "colab": {
          "base_uri": "https://localhost:8080/",
          "height": 249
        },
        "outputId": "31f5d640-7ec7-445b-b97c-2c9c8f111013"
      },
      "source": [
        "#create dataset for pixel image\n",
        "f1 = np.linspace(1, 40, num=40)\n",
        "f2 = np.linspace(1, 40, num=40)\n",
        "xx, yy = np.meshgrid(f1,f2)\n",
        "xx = xx.reshape(1,1600)\n",
        "yy = yy.reshape(1,1600)\n",
        "X_plot = np.dstack((xx,yy))\n",
        "y_plot = predicted_labels\n",
        "#y_plot = y_plot[:,0]\n",
        "y_plot = y_plot.reshape(40,40)\n",
        "\n",
        "#plot the pixel image dataset as decision boundary\n",
        "fig, ax = plt.subplots()\n",
        "color= ['red' if y == 1 else 'green' for y in y_test]\n",
        "ax.imshow(y_plot, alpha = 0.5)\n",
        "\n",
        "#add the test set data points\n",
        "ax.scatter(X_test[:,0], X_test[:,1], c=color, marker = \"+\")\n",
        "\n",
        "ax.set_xlabel(r'$Feature 1$', fontsize=15)\n",
        "ax.set_ylabel(r'$Feature 2$', fontsize=15)\n",
        "ax.set_title('Dataset of 1s and 7s in reduced feature space')\n",
        "\n",
        "fig.tight_layout()\n",
        "plt.show()"
      ],
      "execution_count": null,
      "outputs": [
        {
          "output_type": "error",
          "ename": "NameError",
          "evalue": "ignored",
          "traceback": [
            "\u001b[0;31m---------------------------------------------------------------------------\u001b[0m",
            "\u001b[0;31mNameError\u001b[0m                                 Traceback (most recent call last)",
            "\u001b[0;32m<ipython-input-17-99404d7b52af>\u001b[0m in \u001b[0;36m<module>\u001b[0;34m()\u001b[0m\n\u001b[1;32m      6\u001b[0m \u001b[0myy\u001b[0m \u001b[0;34m=\u001b[0m \u001b[0myy\u001b[0m\u001b[0;34m.\u001b[0m\u001b[0mreshape\u001b[0m\u001b[0;34m(\u001b[0m\u001b[0;36m1\u001b[0m\u001b[0;34m,\u001b[0m\u001b[0;36m1600\u001b[0m\u001b[0;34m)\u001b[0m\u001b[0;34m\u001b[0m\u001b[0;34m\u001b[0m\u001b[0m\n\u001b[1;32m      7\u001b[0m \u001b[0mX_plot\u001b[0m \u001b[0;34m=\u001b[0m \u001b[0mnp\u001b[0m\u001b[0;34m.\u001b[0m\u001b[0mdstack\u001b[0m\u001b[0;34m(\u001b[0m\u001b[0;34m(\u001b[0m\u001b[0mxx\u001b[0m\u001b[0;34m,\u001b[0m\u001b[0myy\u001b[0m\u001b[0;34m)\u001b[0m\u001b[0;34m)\u001b[0m\u001b[0;34m\u001b[0m\u001b[0;34m\u001b[0m\u001b[0m\n\u001b[0;32m----> 8\u001b[0;31m \u001b[0my_plot\u001b[0m\u001b[0;34m,\u001b[0m \u001b[0mmeans_plot\u001b[0m \u001b[0;34m=\u001b[0m \u001b[0mnearest_mean\u001b[0m\u001b[0;34m(\u001b[0m\u001b[0mX_train\u001b[0m\u001b[0;34m,\u001b[0m \u001b[0my_train\u001b[0m\u001b[0;34m,\u001b[0m \u001b[0mX_plot\u001b[0m\u001b[0;34m)\u001b[0m\u001b[0;34m\u001b[0m\u001b[0;34m\u001b[0m\u001b[0m\n\u001b[0m\u001b[1;32m      9\u001b[0m \u001b[0my_plot\u001b[0m \u001b[0;34m=\u001b[0m \u001b[0my_plot\u001b[0m\u001b[0;34m[\u001b[0m\u001b[0;34m:\u001b[0m\u001b[0;34m,\u001b[0m\u001b[0;36m0\u001b[0m\u001b[0;34m]\u001b[0m\u001b[0;34m\u001b[0m\u001b[0;34m\u001b[0m\u001b[0m\n\u001b[1;32m     10\u001b[0m \u001b[0my_plot\u001b[0m \u001b[0;34m=\u001b[0m \u001b[0my_plot\u001b[0m\u001b[0;34m.\u001b[0m\u001b[0mreshape\u001b[0m\u001b[0;34m(\u001b[0m\u001b[0;36m40\u001b[0m\u001b[0;34m,\u001b[0m\u001b[0;36m40\u001b[0m\u001b[0;34m)\u001b[0m\u001b[0;34m\u001b[0m\u001b[0;34m\u001b[0m\u001b[0m\n",
            "\u001b[0;31mNameError\u001b[0m: name 'nearest_mean' is not defined"
          ]
        }
      ]
    }
  ]
}