{
  "nbformat": 4,
  "nbformat_minor": 5,
  "metadata": {
    "kernelspec": {
      "display_name": "fml",
      "language": "python",
      "name": "fml"
    },
    "language_info": {
      "codemirror_mode": {
        "name": "ipython",
        "version": 3
      },
      "file_extension": ".py",
      "mimetype": "text/x-python",
      "name": "python",
      "nbconvert_exporter": "python",
      "pygments_lexer": "ipython3",
      "version": "3.9.7"
    },
    "colab": {
      "name": "nearest-neighbor-cross-feedback.ipynb",
      "provenance": [],
      "include_colab_link": true
    }
  },
  "cells": [
    {
      "cell_type": "markdown",
      "metadata": {
        "id": "view-in-github",
        "colab_type": "text"
      },
      "source": [
        "<a href=\"https://colab.research.google.com/github/kdidi99/ml_heidelberg/blob/main/nearest-neighbor-cross-feedback.ipynb\" target=\"_parent\"><img src=\"https://colab.research.google.com/assets/colab-badge.svg\" alt=\"Open In Colab\"/></a>"
      ]
    },
    {
      "cell_type": "markdown",
      "metadata": {
        "id": "57f873e3"
      },
      "source": [
        "# Exercise 1b: Nearest Neighbor Classification on Real Data"
      ],
      "id": "57f873e3"
    },
    {
      "cell_type": "markdown",
      "metadata": {
        "id": "6e64996a"
      },
      "source": [
        "## Exploring the Data"
      ],
      "id": "6e64996a"
    },
    {
      "cell_type": "code",
      "metadata": {
        "id": "632a8e8c"
      },
      "source": [
        "from sklearn.datasets import load_digits\n",
        "import numpy as np\n",
        "import matplotlib.pyplot as plt"
      ],
      "id": "632a8e8c",
      "execution_count": null,
      "outputs": []
    },
    {
      "cell_type": "markdown",
      "metadata": {
        "id": "f1476819"
      },
      "source": [
        "### Loading the data"
      ],
      "id": "f1476819"
    },
    {
      "cell_type": "code",
      "metadata": {
        "id": "378ba030",
        "colab": {
          "base_uri": "https://localhost:8080/"
        },
        "outputId": "0eab00fe-ba34-4c5b-f800-020571b4194e"
      },
      "source": [
        "digits = load_digits() \n",
        "digits.keys()"
      ],
      "id": "378ba030",
      "execution_count": null,
      "outputs": [
        {
          "output_type": "execute_result",
          "data": {
            "text/plain": [
              "dict_keys(['data', 'target', 'frame', 'feature_names', 'target_names', 'images', 'DESCR'])"
            ]
          },
          "metadata": {},
          "execution_count": 6
        }
      ]
    },
    {
      "cell_type": "markdown",
      "metadata": {
        "id": "3c46a642"
      },
      "source": [
        "### Structure and data types of the data"
      ],
      "id": "3c46a642"
    },
    {
      "cell_type": "code",
      "metadata": {
        "id": "2a83c10d"
      },
      "source": [
        "data = digits[\"data\"]\n",
        "images = digits[\"images\"]\n",
        "target = digits[\"target\"]\n",
        "target_names = digits[\"target_names\"]"
      ],
      "id": "2a83c10d",
      "execution_count": null,
      "outputs": []
    },
    {
      "cell_type": "code",
      "metadata": {
        "id": "a7148b4c",
        "colab": {
          "base_uri": "https://localhost:8080/"
        },
        "outputId": "7e324d37-18f9-4692-bb17-b947dca8fd24"
      },
      "source": [
        "print(data.dtype)"
      ],
      "id": "a7148b4c",
      "execution_count": null,
      "outputs": [
        {
          "output_type": "stream",
          "name": "stdout",
          "text": [
            "float64\n"
          ]
        }
      ]
    },
    {
      "cell_type": "markdown",
      "metadata": {
        "id": "377f7e1d"
      },
      "source": [
        "In total we have $1797$ images and each image is of size $8 \\times 8 = 64$"
      ],
      "id": "377f7e1d"
    },
    {
      "cell_type": "code",
      "metadata": {
        "id": "c2fdedaa",
        "colab": {
          "base_uri": "https://localhost:8080/"
        },
        "outputId": "a8c42397-1d0f-49c2-83b3-b8332e8dee9c"
      },
      "source": [
        "data.shape"
      ],
      "id": "c2fdedaa",
      "execution_count": null,
      "outputs": [
        {
          "output_type": "execute_result",
          "data": {
            "text/plain": [
              "(1797, 64)"
            ]
          },
          "metadata": {},
          "execution_count": 6
        }
      ]
    },
    {
      "cell_type": "code",
      "metadata": {
        "id": "887a2cbc",
        "colab": {
          "base_uri": "https://localhost:8080/"
        },
        "outputId": "1d0eafce-1995-42fe-ff3a-845a35a645bd"
      },
      "source": [
        "data[0, :].reshape((8,8))[0:5, 0:5]"
      ],
      "id": "887a2cbc",
      "execution_count": null,
      "outputs": [
        {
          "output_type": "execute_result",
          "data": {
            "text/plain": [
              "array([[ 0.,  0.,  5., 13.,  9.],\n",
              "       [ 0.,  0., 13., 15., 10.],\n",
              "       [ 0.,  3., 15.,  2.,  0.],\n",
              "       [ 0.,  4., 12.,  0.,  0.],\n",
              "       [ 0.,  5.,  8.,  0.,  0.]])"
            ]
          },
          "metadata": {},
          "execution_count": 7
        }
      ]
    },
    {
      "cell_type": "markdown",
      "metadata": {
        "id": "693ba8ff"
      },
      "source": [
        "### Visualization of some numbers"
      ],
      "id": "693ba8ff"
    },
    {
      "cell_type": "markdown",
      "metadata": {
        "id": "7d7a4d4a"
      },
      "source": [
        "First let's visualize some number randomly."
      ],
      "id": "7d7a4d4a"
    },
    {
      "cell_type": "code",
      "metadata": {
        "id": "dc6e9a60",
        "colab": {
          "base_uri": "https://localhost:8080/",
          "height": 499
        },
        "outputId": "7d614154-c6ef-4b2e-87bd-33e8af69ccfc"
      },
      "source": [
        "fig, axs = plt.subplots(2, 2)\n",
        "sel = np.random.randint(low=0, high=1797, size=4)\n",
        "for r, x, y in zip(sel, [0, 0, 1, 1], [0, 1, 0, 1]):\n",
        "    img = data[r, :].reshape((8,8))\n",
        "    assert 2 == len(img.shape)\n",
        "    axs[x, y].imshow(img, interpolation=\"bicubic\", cmap=\"gray\")\n",
        "    axs[x, y].set_title(f\"Random Number {r}\")\n",
        "fig.set_size_inches(8, 8)"
      ],
      "id": "dc6e9a60",
      "execution_count": null,
      "outputs": [
        {
          "output_type": "display_data",
          "data": {
            "image/png": "[encoded data removed]",
            "text/plain": [
              "<Figure size 576x576 with 4 Axes>"
            ]
          },
          "metadata": {
            "needs_background": "light"
          }
        }
      ]
    },
    {
      "cell_type": "markdown",
      "metadata": {
        "id": "80141334"
      },
      "source": [
        "Now let's visualize the first two threes in the dataset (both with \"nearest\" and \"bicubic\" interpolation)."
      ],
      "id": "80141334"
    },
    {
      "cell_type": "code",
      "metadata": {
        "id": "3aebde93",
        "colab": {
          "base_uri": "https://localhost:8080/",
          "height": 499
        },
        "outputId": "ffe47c6e-8888-474f-9450-356fd496703f"
      },
      "source": [
        "idx = np.argwhere(target == 3).flatten()[0:2].repeat(2)\n",
        "fig, axs = plt.subplots(2, 2)\n",
        "for r, x, y in zip(idx, [0, 0, 1, 1], [0, 1, 0, 1]):\n",
        "    img = data[r, :].reshape((8,8))\n",
        "    assert 2 == len(img.shape)\n",
        "    ip = \"nearest\" if y == 0 else \"bicubic\"\n",
        "    axs[x, y].imshow(img, interpolation=ip, cmap=\"gray\")\n",
        "    axs[x, y].set_title(f\"Index: {r}\")\n",
        "fig.set_size_inches(8, 8)"
      ],
      "id": "3aebde93",
      "execution_count": null,
      "outputs": [
        {
          "output_type": "display_data",
          "data": {
            "image/png": "[encoded data removed]",
            "text/plain": [
              "<Figure size 576x576 with 4 Axes>"
            ]
          },
          "metadata": {
            "needs_background": "light"
          }
        }
      ]
    },
    {
      "cell_type": "markdown",
      "metadata": {
        "id": "a812f0d8"
      },
      "source": [
        "Split test and train set."
      ],
      "id": "a812f0d8"
    },
    {
      "cell_type": "code",
      "metadata": {
        "id": "71cb3d16"
      },
      "source": [
        "from sklearn import model_selection\n",
        "X_all = data\n",
        "y_all = target\n",
        "X_train, X_test, y_train, y_test = model_selection.train_test_split(digits.data, digits.target,\n",
        "    test_size = 0.4, random_state = 0)"
      ],
      "id": "71cb3d16",
      "execution_count": null,
      "outputs": []
    },
    {
      "cell_type": "code",
      "metadata": {
        "id": "43319de6",
        "colab": {
          "base_uri": "https://localhost:8080/"
        },
        "outputId": "c6ded177-657c-4b80-c28a-81b79ccca5d8"
      },
      "source": [
        "[array.shape for array in [X_train, X_test, y_train, y_test]]"
      ],
      "id": "43319de6",
      "execution_count": null,
      "outputs": [
        {
          "output_type": "execute_result",
          "data": {
            "text/plain": [
              "[(1078, 64), (719, 64), (1078,), (719,)]"
            ]
          },
          "metadata": {},
          "execution_count": 11
        }
      ]
    },
    {
      "cell_type": "markdown",
      "metadata": {
        "id": "HLSHfM5Q586E"
      },
      "source": [
        "<font color='green'><b>\n",
        "The code is essentially equal to he sample solution, except some additional visualizations.\n",
        "</b></font>"
      ],
      "id": "HLSHfM5Q586E"
    },
    {
      "cell_type": "markdown",
      "metadata": {
        "id": "eabd8df7"
      },
      "source": [
        "## 1.2 Distance function computation using loops"
      ],
      "id": "eabd8df7"
    },
    {
      "cell_type": "code",
      "metadata": {
        "id": "8a163353"
      },
      "source": [
        "def dist_loop(training, test):\n",
        "    \"\"\"\n",
        "    Computing distance matrix (euclidean distance)\n",
        "     \n",
        "    Parameters\n",
        "    -------\n",
        "    training : ndarray\n",
        "        2D array (N x D) = N training instances with D features\n",
        "    test : ndarray\n",
        "        2D array (M x D) = M test instances with D features\n",
        "        \n",
        "    Returns\n",
        "    -------\n",
        "    ndarray\n",
        "        2D array (N x M) = matrix containing the distances between each training instance\n",
        "        and each test instance (element (i,j) is the distance between the ith training instance\n",
        "        and the jth test instance)\n",
        "    \"\"\"\n",
        "    N, M = training.shape[0], test.shape[0]\n",
        "    distances = np.zeros((N, M))\n",
        "    for i in range(N):\n",
        "        for j in range(M):\n",
        "            #distances[i,j] = np.sum((training[i,:] - test[j,:])**2)**0.5\n",
        "            distances[i,j] = np.sqrt(np.sum(np.square(training[i,:] - test[j,:])))\n",
        "    return distances"
      ],
      "id": "8a163353",
      "execution_count": null,
      "outputs": []
    },
    {
      "cell_type": "markdown",
      "metadata": {
        "id": "TWXOK9YQ721y"
      },
      "source": [
        "<font color='green'><b>\n",
        "The code is essentially equal to the sample solution.\n",
        "</b></font>"
      ],
      "id": "TWXOK9YQ721y"
    },
    {
      "cell_type": "code",
      "metadata": {
        "id": "3009b3f6",
        "colab": {
          "base_uri": "https://localhost:8080/"
        },
        "outputId": "8bb2a7b8-38d1-4b1c-ec22-ea25de4237e8"
      },
      "source": [
        "%timeit dist_loop(X_train, X_test)"
      ],
      "id": "3009b3f6",
      "execution_count": null,
      "outputs": [
        {
          "output_type": "stream",
          "name": "stdout",
          "text": [
            "1 loop, best of 5: 7.08 s per loop\n"
          ]
        }
      ]
    },
    {
      "cell_type": "code",
      "metadata": {
        "id": "c77240e5"
      },
      "source": [
        "distances = dist_loop(X_train, X_test)\n",
        "#distances = dist_loop_Kathi(X_train, X_test)"
      ],
      "id": "c77240e5",
      "execution_count": null,
      "outputs": []
    },
    {
      "cell_type": "code",
      "metadata": {
        "id": "17a52c84",
        "outputId": "e6e73903-90c6-47e7-cc80-f200708f54ee"
      },
      "source": [
        "distances.shape"
      ],
      "id": "17a52c84",
      "execution_count": null,
      "outputs": [
        {
          "data": {
            "text/plain": [
              "(1078, 719)"
            ]
          },
          "execution_count": 14,
          "metadata": {},
          "output_type": "execute_result"
        }
      ]
    },
    {
      "cell_type": "code",
      "metadata": {
        "id": "8c7b1cfe",
        "outputId": "d68610d4-9572-4e44-fcf5-191ae7536c79"
      },
      "source": [
        "distances[0:5, 0:5]"
      ],
      "id": "8c7b1cfe",
      "execution_count": null,
      "outputs": [
        {
          "data": {
            "text/plain": [
              "array([[55.67764363, 53.12249994, 56.56854249, 33.2565783 , 22.3383079 ],\n",
              "       [47.51841748, 45.65084884, 48.72371086, 50.83306011, 49.76946855],\n",
              "       [45.54119015, 53.72150407, 45.07771068, 56.32051136, 50.20956084],\n",
              "       [49.30517214, 54.4885309 , 57.45432969, 49.70915409, 44.98888752],\n",
              "       [44.95553359, 46.67976007, 25.03996805, 52.22068556, 49.13247399]])"
            ]
          },
          "execution_count": 15,
          "metadata": {},
          "output_type": "execute_result"
        }
      ]
    },
    {
      "cell_type": "markdown",
      "metadata": {
        "id": "91696e5a"
      },
      "source": [
        "Check by hand whether the first entry is correct (and indeed it is)"
      ],
      "id": "91696e5a"
    },
    {
      "cell_type": "code",
      "metadata": {
        "id": "a88dde03",
        "outputId": "210f17c6-f2ef-4990-a7a2-dad9aa095851"
      },
      "source": [
        "## check whether first entry is correct\n",
        "np.sum((X_train[0,:] - X_test[0,:])**2)**0.5"
      ],
      "id": "a88dde03",
      "execution_count": null,
      "outputs": [
        {
          "data": {
            "text/plain": [
              "55.67764362830022"
            ]
          },
          "execution_count": 16,
          "metadata": {},
          "output_type": "execute_result"
        }
      ]
    },
    {
      "cell_type": "markdown",
      "metadata": {
        "id": "Px-irZYN9_uG"
      },
      "source": [
        "<font color='green'><b>\n",
        "These calculations are not part of the function, but only verify that it works.\n",
        "</b></font>"
      ],
      "id": "Px-irZYN9_uG"
    },
    {
      "cell_type": "markdown",
      "metadata": {
        "id": "046d7fd6"
      },
      "source": [
        "## 1.3 Distance function computation using vectorization"
      ],
      "id": "046d7fd6"
    },
    {
      "cell_type": "markdown",
      "metadata": {
        "id": "ea3a29c3"
      },
      "source": [
        "### Defining the function"
      ],
      "id": "ea3a29c3"
    },
    {
      "cell_type": "code",
      "metadata": {
        "id": "99d0c601"
      },
      "source": [
        "def dist_vec(training, test):\n",
        "    \"\"\"\n",
        "    Computing distance matrix (euclidean distance)\n",
        "     \n",
        "    Parameters\n",
        "    -------\n",
        "    training : ndarray\n",
        "        2D array (N x D) = N training instances with D features\n",
        "    test : ndarray\n",
        "        2D array (M x D) = M test instances with D features\n",
        "        \n",
        "    Returns\n",
        "    -------\n",
        "    ndarray\n",
        "        2D array (N x M) = matrix containing the distances between each training instance\n",
        "        and each test instance (element (i,j) is the distance between the ith training instance\n",
        "        and the jth test instance)\n",
        "    \"\"\"\n",
        "    N, M = training.shape[0], test.shape[0]\n",
        "\n",
        "    # Repeating each instace of the training set M times\n",
        "    expanded_training = np.repeat(training, M, axis = 0)\n",
        "\n",
        "    \n",
        "    # Concatenating M copies of the training matrix vertically\n",
        "    expanded_test = np.tile(test, (N,1))\n",
        "    \n",
        "    # Computing the distance between the rowvectors of the expanded training and test matrix,\n",
        "    # reshaping the results such that element (i,j) is the distance between training \n",
        "    # instance i and test instance j\n",
        "    return (np.sum((expanded_training - expanded_test)**2, axis=1)**0.5).reshape((N,M))"
      ],
      "id": "99d0c601",
      "execution_count": null,
      "outputs": []
    },
    {
      "cell_type": "markdown",
      "metadata": {
        "id": "PMMSiJUo-URc"
      },
      "source": [
        "<font color='green'><b>\n",
        "The code very similar to the sample solution. It executes the same calculations just using different commands.\n",
        "</b></font>"
      ],
      "id": "PMMSiJUo-URc"
    },
    {
      "cell_type": "markdown",
      "metadata": {
        "id": "5f638249"
      },
      "source": [
        "The execution is faster by almost a factor of 10!"
      ],
      "id": "5f638249"
    },
    {
      "cell_type": "code",
      "metadata": {
        "id": "18d5ce6f",
        "colab": {
          "base_uri": "https://localhost:8080/"
        },
        "outputId": "6fe20f40-83e0-4c4c-e407-01ddc89184e5"
      },
      "source": [
        "%timeit dist_vec(X_train, X_test)"
      ],
      "id": "18d5ce6f",
      "execution_count": null,
      "outputs": [
        {
          "output_type": "stream",
          "name": "stdout",
          "text": [
            "1 loop, best of 5: 297 ms per loop\n"
          ]
        }
      ]
    },
    {
      "cell_type": "code",
      "metadata": {
        "id": "c3ae72f8"
      },
      "source": [
        "distances_2 = dist_vec(X_train, X_test)"
      ],
      "id": "c3ae72f8",
      "execution_count": null,
      "outputs": []
    },
    {
      "cell_type": "code",
      "metadata": {
        "id": "f2e8987f",
        "colab": {
          "base_uri": "https://localhost:8080/"
        },
        "outputId": "45e9e29d-640c-4bfc-c0bc-ec22bb3c39a3"
      },
      "source": [
        "distances_2.shape"
      ],
      "id": "f2e8987f",
      "execution_count": null,
      "outputs": [
        {
          "output_type": "execute_result",
          "data": {
            "text/plain": [
              "(1078, 719)"
            ]
          },
          "metadata": {},
          "execution_count": 18
        }
      ]
    },
    {
      "cell_type": "code",
      "metadata": {
        "id": "882871de",
        "colab": {
          "base_uri": "https://localhost:8080/"
        },
        "outputId": "391e0653-3693-44e0-be0a-397c740d8111"
      },
      "source": [
        "N, M = X_train.shape[0], X_test.shape[0]\n",
        "N * M"
      ],
      "id": "882871de",
      "execution_count": null,
      "outputs": [
        {
          "output_type": "execute_result",
          "data": {
            "text/plain": [
              "775082"
            ]
          },
          "metadata": {},
          "execution_count": 19
        }
      ]
    },
    {
      "cell_type": "markdown",
      "metadata": {
        "id": "8dc1a2e8"
      },
      "source": [
        "The results of both functions are the same."
      ],
      "id": "8dc1a2e8"
    },
    {
      "cell_type": "code",
      "metadata": {
        "id": "4d0ff551",
        "outputId": "517510c2-b04f-4600-bba2-d13ef7db4e25"
      },
      "source": [
        "N * M - np.sum((distances_2 == distances))\n",
        "#np.sum(distances_2 == distances)"
      ],
      "id": "4d0ff551",
      "execution_count": null,
      "outputs": [
        {
          "data": {
            "text/plain": [
              "0"
            ]
          },
          "execution_count": 22,
          "metadata": {},
          "output_type": "execute_result"
        }
      ]
    },
    {
      "cell_type": "markdown",
      "metadata": {
        "id": "913fc8b9"
      },
      "source": [
        "### Briefly explaining the function"
      ],
      "id": "913fc8b9"
    },
    {
      "cell_type": "markdown",
      "metadata": {
        "id": "f2df0837"
      },
      "source": [
        "We first of all repeat each row in the training matrix M times results in a matrix of $(N \\times M) \\times D$. And the first M rows of the matrix will be first training example (see the first rows below - always the same numbers)"
      ],
      "id": "f2df0837"
    },
    {
      "cell_type": "code",
      "metadata": {
        "id": "f2917d49",
        "colab": {
          "base_uri": "https://localhost:8080/"
        },
        "outputId": "c2b2c980-75ff-464d-b528-0fcba5548c54"
      },
      "source": [
        "expanded_training = np.repeat(X_train, M, axis = 0)\n",
        "expanded_training.shape"
      ],
      "id": "f2917d49",
      "execution_count": null,
      "outputs": [
        {
          "output_type": "execute_result",
          "data": {
            "text/plain": [
              "(775082, 64)"
            ]
          },
          "metadata": {},
          "execution_count": 20
        }
      ]
    },
    {
      "cell_type": "code",
      "metadata": {
        "id": "1a10caa8",
        "colab": {
          "base_uri": "https://localhost:8080/"
        },
        "outputId": "a46391b0-48d0-493b-b222-6b75bd03e4ac"
      },
      "source": [
        "expanded_training[0:9, 0:5]"
      ],
      "id": "1a10caa8",
      "execution_count": null,
      "outputs": [
        {
          "output_type": "execute_result",
          "data": {
            "text/plain": [
              "array([[ 0.,  0.,  0.,  8., 15.],\n",
              "       [ 0.,  0.,  0.,  8., 15.],\n",
              "       [ 0.,  0.,  0.,  8., 15.],\n",
              "       [ 0.,  0.,  0.,  8., 15.],\n",
              "       [ 0.,  0.,  0.,  8., 15.],\n",
              "       [ 0.,  0.,  0.,  8., 15.],\n",
              "       [ 0.,  0.,  0.,  8., 15.],\n",
              "       [ 0.,  0.,  0.,  8., 15.],\n",
              "       [ 0.,  0.,  0.,  8., 15.]])"
            ]
          },
          "metadata": {},
          "execution_count": 28
        }
      ]
    },
    {
      "cell_type": "markdown",
      "metadata": {
        "id": "3a45192e"
      },
      "source": [
        "Then, we stack the test matrix N times vertically resulting in a matrix of size $(M \\times N) \\times D$. So the first $M$ rows correspond to all M training examples (see the first 10 rows below - all different numbers)"
      ],
      "id": "3a45192e"
    },
    {
      "cell_type": "code",
      "metadata": {
        "id": "cb8584c2",
        "colab": {
          "base_uri": "https://localhost:8080/"
        },
        "outputId": "e97d68a2-6615-466e-c748-4349eab6e088"
      },
      "source": [
        "expanded_test = np.tile(X_test, (N,1))\n",
        "expanded_test.shape"
      ],
      "id": "cb8584c2",
      "execution_count": null,
      "outputs": [
        {
          "output_type": "execute_result",
          "data": {
            "text/plain": [
              "(775082, 64)"
            ]
          },
          "metadata": {},
          "execution_count": 29
        }
      ]
    },
    {
      "cell_type": "code",
      "metadata": {
        "id": "09c2a1f9",
        "colab": {
          "base_uri": "https://localhost:8080/"
        },
        "outputId": "21df9c9a-2a74-43a5-b3bd-ca53041ae6d8"
      },
      "source": [
        "expanded_test[0:9, 0:5]"
      ],
      "id": "09c2a1f9",
      "execution_count": null,
      "outputs": [
        {
          "output_type": "execute_result",
          "data": {
            "text/plain": [
              "array([[ 0.,  0., 11., 16., 15.],\n",
              "       [ 0.,  1., 15., 14.,  2.],\n",
              "       [ 0.,  2., 13., 16., 10.],\n",
              "       [ 0.,  0.,  9.,  7.,  0.],\n",
              "       [ 0.,  0.,  3., 13.,  6.],\n",
              "       [ 0.,  0.,  5., 16., 12.],\n",
              "       [ 0.,  0.,  0., 10., 13.],\n",
              "       [ 0.,  0.,  2., 10., 13.],\n",
              "       [ 0.,  0., 10., 14., 10.]])"
            ]
          },
          "metadata": {},
          "execution_count": 30
        }
      ]
    },
    {
      "cell_type": "markdown",
      "metadata": {
        "id": "3c6b3171"
      },
      "source": [
        "Next we substract the second matrix from the first one (element-wise) resulting in a matrix of the same size "
      ],
      "id": "3c6b3171"
    },
    {
      "cell_type": "code",
      "metadata": {
        "id": "4d8247d3",
        "colab": {
          "base_uri": "https://localhost:8080/"
        },
        "outputId": "6936a764-732b-4971-c25d-906ab862260c"
      },
      "source": [
        "expanded_training - expanded_test"
      ],
      "id": "4d8247d3",
      "execution_count": null,
      "outputs": [
        {
          "output_type": "execute_result",
          "data": {
            "text/plain": [
              "array([[  0.,   0., -11., ...,  -8., -16.,  -8.],\n",
              "       [  0.,  -1., -15., ...,   4.,   0.,   0.],\n",
              "       [  0.,  -2., -13., ..., -11., -16.,  -3.],\n",
              "       ...,\n",
              "       [  0.,  -2.,  -9., ...,  -1.,  -8.,  -1.],\n",
              "       [  0.,   0.,   5., ...,  11.,   0.,   0.],\n",
              "       [  0.,   0.,   4., ...,   9.,   0.,   0.]])"
            ]
          },
          "metadata": {},
          "execution_count": 31
        }
      ]
    },
    {
      "cell_type": "markdown",
      "metadata": {
        "id": "d8de25d7"
      },
      "source": [
        "Now we simply need to square each number, compute column sum, and then the square root. This results in a vector of length $N \\times M$"
      ],
      "id": "d8de25d7"
    },
    {
      "cell_type": "code",
      "metadata": {
        "id": "7847e900",
        "colab": {
          "base_uri": "https://localhost:8080/"
        },
        "outputId": "5285811c-ea3d-4791-d0da-405e12eae983"
      },
      "source": [
        "not_reshaped = np.sum((expanded_training - expanded_test)**2, axis=1)**0.5\n",
        "not_reshaped.shape"
      ],
      "id": "7847e900",
      "execution_count": null,
      "outputs": [
        {
          "output_type": "execute_result",
          "data": {
            "text/plain": [
              "(775082,)"
            ]
          },
          "metadata": {},
          "execution_count": 32
        }
      ]
    },
    {
      "cell_type": "markdown",
      "metadata": {
        "id": "81aa7da9"
      },
      "source": [
        "In the last step we need to reshape this vector into a matrix of size $N \\times M$"
      ],
      "id": "81aa7da9"
    },
    {
      "cell_type": "code",
      "metadata": {
        "id": "8c8bbf52",
        "colab": {
          "base_uri": "https://localhost:8080/"
        },
        "outputId": "1c76fa7b-f9dc-41bb-d221-0ec6fa3f327e"
      },
      "source": [
        "reshaped = not_reshaped.reshape((N, M))\n",
        "reshaped.shape"
      ],
      "id": "8c8bbf52",
      "execution_count": null,
      "outputs": [
        {
          "output_type": "execute_result",
          "data": {
            "text/plain": [
              "(1078, 719)"
            ]
          },
          "metadata": {},
          "execution_count": 33
        }
      ]
    },
    {
      "cell_type": "code",
      "metadata": {
        "id": "b0eb72f2",
        "colab": {
          "base_uri": "https://localhost:8080/"
        },
        "outputId": "9b055e3d-21ba-4786-f41a-554d9e0d6260"
      },
      "source": [
        "reshaped[0:5, 0:5]"
      ],
      "id": "b0eb72f2",
      "execution_count": null,
      "outputs": [
        {
          "output_type": "execute_result",
          "data": {
            "text/plain": [
              "array([[55.67764363, 53.12249994, 56.56854249, 33.2565783 , 22.3383079 ],\n",
              "       [47.51841748, 45.65084884, 48.72371086, 50.83306011, 49.76946855],\n",
              "       [45.54119015, 53.72150407, 45.07771068, 56.32051136, 50.20956084],\n",
              "       [49.30517214, 54.4885309 , 57.45432969, 49.70915409, 44.98888752],\n",
              "       [44.95553359, 46.67976007, 25.03996805, 52.22068556, 49.13247399]])"
            ]
          },
          "metadata": {},
          "execution_count": 34
        }
      ]
    },
    {
      "cell_type": "markdown",
      "metadata": {
        "id": "1a56d771"
      },
      "source": [
        "## 1.4 Implement the k-nearest neighbor classifier"
      ],
      "id": "1a56d771"
    },
    {
      "cell_type": "markdown",
      "metadata": {
        "id": "ca893e6e"
      },
      "source": [
        "### Preparing training and test set"
      ],
      "id": "ca893e6e"
    },
    {
      "cell_type": "code",
      "metadata": {
        "id": "f867372a",
        "colab": {
          "base_uri": "https://localhost:8080/"
        },
        "outputId": "2d824ce0-2fd5-4cf0-d904-1799650b78fe"
      },
      "source": [
        "train_ind = np.hstack([np.where(y_train == 3), np.where(y_train == 9)]).flatten()\n",
        "test_ind = np.hstack([np.where(y_test == 3), np.where(y_test == 9)]).flatten()\n",
        "(train_ind.shape, test_ind.shape)"
      ],
      "id": "f867372a",
      "execution_count": null,
      "outputs": [
        {
          "output_type": "execute_result",
          "data": {
            "text/plain": [
              "((219,), (144,))"
            ]
          },
          "metadata": {},
          "execution_count": 39
        }
      ]
    },
    {
      "cell_type": "markdown",
      "metadata": {
        "id": "VldHuLaHHsnv"
      },
      "source": [
        "<font color='green'><b>\n",
        "Comment: Logical indexing here ensures fast running times. Nice implementation.\n",
        "</b></font>"
      ],
      "id": "VldHuLaHHsnv"
    },
    {
      "cell_type": "code",
      "metadata": {
        "id": "eb820f61"
      },
      "source": [
        "X_train_new, X_test_new, y_train_new, y_test_new = \\\n",
        "X_train[train_ind,:], X_test[test_ind,:], y_train[train_ind], y_test[test_ind]"
      ],
      "id": "eb820f61",
      "execution_count": null,
      "outputs": []
    },
    {
      "cell_type": "code",
      "metadata": {
        "id": "3b6cbb8a",
        "colab": {
          "base_uri": "https://localhost:8080/"
        },
        "outputId": "f30ba16b-8a4b-474f-ba0c-7ffe94c14a11"
      },
      "source": [
        "X_test_new.shape"
      ],
      "id": "3b6cbb8a",
      "execution_count": null,
      "outputs": [
        {
          "output_type": "execute_result",
          "data": {
            "text/plain": [
              "(144, 64)"
            ]
          },
          "metadata": {},
          "execution_count": 41
        }
      ]
    },
    {
      "cell_type": "markdown",
      "metadata": {
        "id": "40a6bc9e"
      },
      "source": [
        "### Defining the function"
      ],
      "id": "40a6bc9e"
    },
    {
      "cell_type": "code",
      "metadata": {
        "id": "69ec72c0"
      },
      "source": [
        "def knn(X_training, X_test, y_training, k):\n",
        "    \"\"\"\n",
        "    K-nearest neigbor classifier via majority vote\n",
        "     \n",
        "    Parameters\n",
        "    -------\n",
        "    X_training : ndarray\n",
        "        2D array (N x D) = N training instances with D features\n",
        "    X_test : ndarray\n",
        "        2D array (M x D) = M test instances with D features\n",
        "    y_training : ndarray\n",
        "        1D array (N) = lables of the N training instances\n",
        "    k : int\n",
        "        Number of neighbors to consider to classification\n",
        "        \n",
        "    Returns\n",
        "    -------\n",
        "    predicted_labels = ndarray\n",
        "        1D array (M) = predicted labels of the M training instances\n",
        "    \"\"\"\n",
        "    M = X_test.shape[0]\n",
        "    distance_matrix = dist_vec(X_training, X_test)\n",
        "    \n",
        "    # Obtaining the k-nearest neighbors as column for each test instance,\n",
        "    # resulting in a matrix of size k x M\n",
        "    knn_index = np.argpartition(distance_matrix, kth=k, axis=0)[0:k,:]\n",
        "    \n",
        "    # get the labels for each training instance\n",
        "    knn_labels = y_training[knn_index]\n",
        "    \n",
        "    # For each training instance i, apply np.bincount to the labels of the k nearest neighbors \n",
        "    # and then argmax to obtain the majority vote\n",
        "    predicted_labels = np.array([np.bincount(knn_labels[:,i]).argmax() for i in range(M)])\n",
        "    return predicted_labels"
      ],
      "id": "69ec72c0",
      "execution_count": null,
      "outputs": []
    },
    {
      "cell_type": "markdown",
      "metadata": {
        "id": "dc996bdb"
      },
      "source": [
        "What does the function `np.bincount()` do? It creates bin for each integer from zero to the maximum value of the array. Using argmax we get the index with the highest count."
      ],
      "id": "dc996bdb"
    },
    {
      "cell_type": "code",
      "metadata": {
        "id": "6c8814fb",
        "colab": {
          "base_uri": "https://localhost:8080/"
        },
        "outputId": "0fcfdc47-c3c4-4600-babe-a74371cf30bd"
      },
      "source": [
        "x = np.array([3,3,3,9,9,9,9,18])\n",
        "print(x)\n",
        "print(np.bincount(x))\n",
        "print(np.bincount(x).argmax())"
      ],
      "id": "6c8814fb",
      "execution_count": null,
      "outputs": [
        {
          "output_type": "stream",
          "name": "stdout",
          "text": [
            "[ 3  3  3  9  9  9  9 18]\n",
            "[0 0 0 3 0 0 0 0 0 4 0 0 0 0 0 0 0 0 1]\n",
            "9\n"
          ]
        }
      ]
    },
    {
      "cell_type": "markdown",
      "metadata": {
        "id": "sSCWB2HXI6PK"
      },
      "source": [
        "<font color='green'><b>\n",
        "We used argpartition as well, nice choice over argsort for performance issues, same for the use of bincount and argmax.\n",
        "</b></font>"
      ],
      "id": "sSCWB2HXI6PK"
    },
    {
      "cell_type": "markdown",
      "metadata": {
        "id": "256afd6d"
      },
      "source": [
        "### Computing error rates"
      ],
      "id": "256afd6d"
    },
    {
      "cell_type": "code",
      "metadata": {
        "id": "374978a2"
      },
      "source": [
        "ks = np.array([1,3,5,9,17,33])\n",
        "k_errors = np.zeros(len(ks))\n",
        "for i in range(len(ks)):\n",
        "    y_hat = knn(X_train_new, X_test_new, y_train_new, k=ks[i])\n",
        "    k_errors[i] = np.mean(y_hat != y_test_new) * 100"
      ],
      "id": "374978a2",
      "execution_count": null,
      "outputs": []
    },
    {
      "cell_type": "markdown",
      "metadata": {
        "id": "59074232"
      },
      "source": [
        "And we basically get that same error rate for values of k between 3 and 17."
      ],
      "id": "59074232"
    },
    {
      "cell_type": "code",
      "metadata": {
        "id": "7e8d511c",
        "colab": {
          "base_uri": "https://localhost:8080/",
          "height": 279
        },
        "outputId": "e838fe57-16b0-45cd-f97f-0beb90db6c5e"
      },
      "source": [
        "plt.plot(ks, k_errors)\n",
        "plt.xlabel(\"Number of neighbors [k]\")\n",
        "plt.ylabel(\"Error rate [%]\")\n",
        "plt.show()"
      ],
      "id": "7e8d511c",
      "execution_count": null,
      "outputs": [
        {
          "output_type": "display_data",
          "data": {
            "image/png": "[encoded data removed]",
            "text/plain": [
              "<Figure size 432x288 with 1 Axes>"
            ]
          },
          "metadata": {
            "needs_background": "light"
          }
        }
      ]
    },
    {
      "cell_type": "markdown",
      "metadata": {
        "id": "a987c8fb"
      },
      "source": [
        "But what about values for k inbetween? With some k we can even reach an error rate of zero."
      ],
      "id": "a987c8fb"
    },
    {
      "cell_type": "code",
      "metadata": {
        "id": "b8fc1ebf",
        "colab": {
          "base_uri": "https://localhost:8080/",
          "height": 279
        },
        "outputId": "03dc089a-a107-4e17-ac21-7282e54e53e1"
      },
      "source": [
        "ks = np.arange(1,50)\n",
        "k_errors = np.zeros(len(ks))\n",
        "for i in range(len(ks)):\n",
        "    y_hat = knn(X_train_new, X_test_new, y_train_new, k=ks[i])\n",
        "    k_errors[i] = np.mean(y_hat != y_test_new) * 100\n",
        "\n",
        "plt.plot(ks, k_errors)\n",
        "plt.xlabel(\"Number of neighbors [k]\")\n",
        "plt.ylabel(\"Error rate [%]\")\n",
        "plt.show()"
      ],
      "id": "b8fc1ebf",
      "execution_count": null,
      "outputs": [
        {
          "output_type": "display_data",
          "data": {
            "image/png": "[encoded data removed]",
            "text/plain": [
              "<Figure size 432x288 with 1 Axes>"
            ]
          },
          "metadata": {
            "needs_background": "light"
          }
        }
      ]
    },
    {
      "cell_type": "markdown",
      "metadata": {
        "id": "HEHK8dJBJPIT"
      },
      "source": [
        "<font color='green'><b>\n",
        "The value for k=17 seems to differ between the two graphs; this might be due to shuffling of the training set in a different way, but it would have been nice to comment on this difference.\n",
        "</b></font>"
      ],
      "id": "HEHK8dJBJPIT"
    },
    {
      "cell_type": "markdown",
      "metadata": {
        "id": "55fa0ea9"
      },
      "source": [
        "## 2 Cross-validation"
      ],
      "id": "55fa0ea9"
    },
    {
      "cell_type": "markdown",
      "metadata": {
        "id": "86cda9cf"
      },
      "source": [
        "### Defining the function"
      ],
      "id": "86cda9cf"
    },
    {
      "cell_type": "code",
      "metadata": {
        "id": "2c0b001b"
      },
      "source": [
        "def split_folds(data, target, L):\n",
        "    \"\"\"\n",
        "    Generating L folds for k-fold cross-validation\n",
        "     \n",
        "    Parameters\n",
        "    -------\n",
        "    data : ndarray\n",
        "        2D array (N x D) = feature matrix\n",
        "    target : ndarray\n",
        "        1D array (N) = target vector\n",
        "    L : int\n",
        "        Number of folds\n",
        "        \n",
        "    Returns\n",
        "    -------\n",
        "    (X_folds, y_folds): tuple\n",
        "        Tuple containing the folds of the feature matrix and \n",
        "        target vector as list of length L\n",
        "    \"\"\"\n",
        "    N = data.shape[0]\n",
        "    \n",
        "    # Permuting the data\n",
        "    p = np.random.permutation(target.shape[0])\n",
        "    data_per, target_per = data[p], target[p]\n",
        "    \n",
        "    # Splitting the data into L folds\n",
        "    X_folds = np.array_split(data_per, L)\n",
        "    y_folds = np.array_split(target_per, L)\n",
        "    return (X_folds, y_folds)"
      ],
      "id": "2c0b001b",
      "execution_count": null,
      "outputs": []
    },
    {
      "cell_type": "markdown",
      "metadata": {
        "id": "v_JYw2VsBYAp"
      },
      "source": [
        "<font color='green'><b>\n",
        "Function *split_folds* is equal to the one in the sample solution."
      ],
      "id": "v_JYw2VsBYAp"
    },
    {
      "cell_type": "code",
      "metadata": {
        "id": "f6869d89"
      },
      "source": [
        "X_folds, y_folds = split_folds(data, target, L=10)"
      ],
      "id": "f6869d89",
      "execution_count": null,
      "outputs": []
    },
    {
      "cell_type": "code",
      "metadata": {
        "id": "0ec8e3e2"
      },
      "source": [
        "# Checking whether everything has the right shape\n",
        "#[[fold.shape for fold in X_folds], [fold.shape for fold in y_folds]]"
      ],
      "id": "0ec8e3e2",
      "execution_count": null,
      "outputs": []
    },
    {
      "cell_type": "code",
      "metadata": {
        "id": "b842bec3"
      },
      "source": [
        "from sklearn.neighbors import KNeighborsClassifier"
      ],
      "id": "b842bec3",
      "execution_count": null,
      "outputs": []
    },
    {
      "cell_type": "code",
      "metadata": {
        "id": "ee7e09d5"
      },
      "source": [
        "Ls = [2,5,10]\n",
        "ks = [1,3,5,9,17,33]"
      ],
      "id": "ee7e09d5",
      "execution_count": null,
      "outputs": []
    },
    {
      "cell_type": "markdown",
      "metadata": {
        "id": "O_fZ2luDCFpp"
      },
      "source": [
        "<font color='green'><b>\n",
        "You chose even more different k than the exercise asked for, which is good.\n",
        "<br>\n",
        "Unfortunately, the sample solution does not even show the results for two different k."
      ],
      "id": "O_fZ2luDCFpp"
    },
    {
      "cell_type": "code",
      "metadata": {
        "id": "b4bda1ca"
      },
      "source": [
        "k_errors = {}\n",
        "for k in ks:\n",
        "    own_errors = {}\n",
        "    scikit_errors = {}\n",
        "    for L in Ls:\n",
        "        own_error_folds = np.zeros(L)\n",
        "        scikit_error_folds = np.zeros(L)\n",
        "        X_folds, y_folds = split_folds(data, target, L=L)\n",
        "        inds = np.arange(0, L)\n",
        "        for i in range(L):\n",
        "            # Preparing training and test data for each fold\n",
        "            X_training = np.concatenate([X_folds[j] for j in inds[inds != i]], axis=0)\n",
        "            X_test = X_folds[i]\n",
        "            y_training = np.concatenate([y_folds[j] for j in inds[inds != i]], axis=0)\n",
        "\n",
        "            # Predictions with our knn implementation\n",
        "            own_y_hat = knn(X_training, X_test, y_training, k)\n",
        "            own_error_folds[i] = np.mean(own_y_hat != y_folds[i]) * 100\n",
        "\n",
        "            # Predictions with scikit knn implementation\n",
        "            scikit_knn = KNeighborsClassifier(n_neighbors=k)\n",
        "            scikit_knn.fit(X_training, y_training)\n",
        "            scikit_y_hat = scikit_knn.predict(X_test)\n",
        "            scikit_error_folds[i] = np.mean(scikit_y_hat != y_folds[i]) * 100\n",
        "\n",
        "        # Add the mean and var of the errors for a given L\n",
        "        own_errors[L] = {\"mean\": np.mean(own_error_folds), \"var\": np.var(own_error_folds)}\n",
        "        scikit_errors[L] = {\"mean\": np.mean(scikit_error_folds), \"var\": np.var(scikit_error_folds)}\n",
        "    \n",
        "    # Add those errors to the k dictionary\n",
        "    k_errors[k] = (own_errors, scikit_errors)"
      ],
      "id": "b4bda1ca",
      "execution_count": null,
      "outputs": []
    },
    {
      "cell_type": "markdown",
      "metadata": {
        "id": "i8fTViRSD5Ad"
      },
      "source": [
        "<font color='green'><b>\n",
        "This part of the code is cut off in the sample solution, which makes it hard to compare every detail. But I assume that your code is basically equal to the sample solution.\n",
        "<br>\n",
        "In the sample solution, another function *cross_validate* has been defined, which does improve readability of the code. But the way you do it is equal."
      ],
      "id": "i8fTViRSD5Ad"
    },
    {
      "cell_type": "markdown",
      "metadata": {
        "id": "e56baaf5"
      },
      "source": [
        "Plotting the results of our own implementation:"
      ],
      "id": "e56baaf5"
    },
    {
      "cell_type": "code",
      "metadata": {
        "id": "d21234e1",
        "outputId": "afd6315c-c2c0-41ad-8eb6-d0a2bd5a297d"
      },
      "source": [
        "fig, axs = plt.subplots(2,3)\n",
        "pos_dict = {1: (0,0), 3: (0,1), 5: (0,2), 9: (1,0), 17: (1,1), 33: (1,2)}\n",
        "for k, both_errors in k_errors.items():\n",
        "    own_error, scikit_error = both_errors\n",
        "    pos = pos_dict[k]\n",
        "    \n",
        "    x_own = [l for l in own_error.keys()]\n",
        "    x_scikit = [l for l in scikit_error.keys()]\n",
        "    y_own = [value[\"mean\"] for value in own_error.values()]\n",
        "    y_scikit = [value[\"mean\"] for value in scikit_error.values()]\n",
        "    err_own = [value[\"var\"] for value in own_error.values()]\n",
        "    err_scikit = [value[\"var\"] for value in own_error.values()]\n",
        "    axs[pos].errorbar(x=x_own, y=y_own, yerr=err_own, fmt='o', color=\"blue\")\n",
        "    #axs[pos].errorbar(x=x_scikit, y=y_scikit, yerr=err_scikit, fmt='o', color=\"orange\")\n",
        "    axs[pos].set_title(f\"k = {k}\")\n",
        "    axs[pos].set_ylim([0,7])\n",
        "fig.set_size_inches(10, 6)"
      ],
      "id": "d21234e1",
      "execution_count": null,
      "outputs": [
        {
          "data": {
            "image/png": "[encoded data removed]",
            "text/plain": [
              "<Figure size 720x432 with 6 Axes>"
            ]
          },
          "metadata": {
            "needs_background": "light"
          },
          "output_type": "display_data"
        }
      ]
    },
    {
      "cell_type": "markdown",
      "metadata": {
        "id": "1d49ca77"
      },
      "source": [
        "Plotting the results of the scikit implementation:"
      ],
      "id": "1d49ca77"
    },
    {
      "cell_type": "code",
      "metadata": {
        "id": "cf24b690",
        "outputId": "cef1b5a4-dbc3-4fc9-8ec9-e975e3c1b383"
      },
      "source": [
        "fig, axs = plt.subplots(2,3)\n",
        "pos_dict = {1: (0,0), 3: (0,1), 5: (0,2), 9: (1,0), 17: (1,1), 33: (1,2)}\n",
        "for k, both_errors in k_errors.items():\n",
        "    own_error, scikit_error = both_errors\n",
        "    pos = pos_dict[k]\n",
        "    \n",
        "    x_own = [l for l in own_error.keys()]\n",
        "    x_scikit = [l for l in scikit_error.keys()]\n",
        "    y_own = [value[\"mean\"] for value in own_error.values()]\n",
        "    y_scikit = [value[\"mean\"] for value in scikit_error.values()]\n",
        "    err_own = [value[\"var\"] for value in own_error.values()]\n",
        "    err_scikit = [value[\"var\"] for value in own_error.values()]\n",
        "    \n",
        "    #axs[pos].errorbar(x=x_own, y=y_own, yerr=err_own, fmt='o', color=\"blue\")\n",
        "    axs[pos].errorbar(x=x_scikit, y=y_scikit, yerr=err_scikit, fmt='o', color=\"orange\")\n",
        "    axs[pos].set_title(f\"k = {k}\")\n",
        "    axs[pos].set_ylim([0,7])\n",
        "fig.set_size_inches(10, 6)"
      ],
      "id": "cf24b690",
      "execution_count": null,
      "outputs": [
        {
          "data": {
            "image/png": "[encoded data removed]",
            "text/plain": [
              "<Figure size 720x432 with 6 Axes>"
            ]
          },
          "metadata": {
            "needs_background": "light"
          },
          "output_type": "display_data"
        }
      ]
    },
    {
      "cell_type": "markdown",
      "metadata": {
        "id": "2908cd6f"
      },
      "source": [
        "The results look exactly the same for both KNN implementations. For larger L (the number of folds used for cross-validation) the mean error gets smaller (which is true accross all values for k)."
      ],
      "id": "2908cd6f"
    },
    {
      "cell_type": "markdown",
      "metadata": {
        "id": "YSsfV4dVHr0F"
      },
      "source": [
        "<font color='green'><b>\n",
        "Plotting the results is great for visualization. \n",
        "<br>\n",
        "Outputting the values as text or in a table in addition to the plot would make it a bit easier to compare them (especially the standard deviation). This was not required by the task though.\n",
        "<br>\n",
        "Your results seem plausible.\n",
        "<br>\n",
        "Note that standard deviation tends to increase for larger L."
      ],
      "id": "YSsfV4dVHr0F"
    },
    {
      "cell_type": "markdown",
      "metadata": {
        "id": "ddb5cbf9"
      },
      "source": [
        "## Appendix"
      ],
      "id": "ddb5cbf9"
    },
    {
      "cell_type": "markdown",
      "metadata": {
        "id": "ea23342f"
      },
      "source": [
        "### Using Numba to speed up the functions (just-in-time compilation)"
      ],
      "id": "ea23342f"
    },
    {
      "cell_type": "markdown",
      "metadata": {
        "id": "ab340e0a"
      },
      "source": [
        "We think hard to vectorize a function, whereas we can simply use the for loop solution with Numba to get the same execution speed! (this is similar to Julia which is based on JIT)"
      ],
      "id": "ab340e0a"
    },
    {
      "cell_type": "code",
      "metadata": {
        "id": "643e773d"
      },
      "source": [
        "from numba import jit"
      ],
      "id": "643e773d",
      "execution_count": null,
      "outputs": []
    },
    {
      "cell_type": "code",
      "metadata": {
        "id": "d4403363"
      },
      "source": [
        "@jit(nopython=True)\n",
        "def dist_loop_numba(training, test):\n",
        "    N, M = training.shape[0], test.shape[0]\n",
        "    distances = np.zeros((N, M))\n",
        "    for i in range(N):\n",
        "        for j in range(M):\n",
        "            distances[i,j] = np.sum((training[i,:] - test[j,:])**2)**0.5\n",
        "    return distances"
      ],
      "id": "d4403363",
      "execution_count": null,
      "outputs": []
    },
    {
      "cell_type": "code",
      "metadata": {
        "id": "f04d6535",
        "outputId": "97d54b9e-1d74-46af-ef91-180be4e490ce"
      },
      "source": [
        "%timeit dist_loop_numba(X_train, X_test)"
      ],
      "id": "f04d6535",
      "execution_count": null,
      "outputs": [
        {
          "name": "stdout",
          "output_type": "stream",
          "text": [
            "39.6 ms ± 469 µs per loop (mean ± std. dev. of 7 runs, 1 loop each)\n"
          ]
        }
      ]
    },
    {
      "cell_type": "code",
      "metadata": {
        "id": "494fa041",
        "outputId": "9787390a-cbd1-461b-a2a6-340cac217574"
      },
      "source": [
        "%timeit dist_loop(X_train, X_test)"
      ],
      "id": "494fa041",
      "execution_count": null,
      "outputs": [
        {
          "name": "stdout",
          "output_type": "stream",
          "text": [
            "1.13 s ± 5.25 ms per loop (mean ± std. dev. of 7 runs, 1 loop each)\n"
          ]
        }
      ]
    },
    {
      "cell_type": "code",
      "metadata": {
        "id": "976348a8",
        "outputId": "a542991b-f9d2-486f-c4a0-b770c73ac71f"
      },
      "source": [
        "%timeit dist_vec(X_train, X_test)"
      ],
      "id": "976348a8",
      "execution_count": null,
      "outputs": [
        {
          "name": "stdout",
          "output_type": "stream",
          "text": [
            "24.7 ms ± 441 µs per loop (mean ± std. dev. of 7 runs, 10 loops each)\n"
          ]
        }
      ]
    },
    {
      "cell_type": "markdown",
      "metadata": {
        "id": "qK5Yl9u0Je6q"
      },
      "source": [
        "<font color='green'><b>\n",
        "Very interesting experiment.\n",
        "Thanks for this information :)"
      ],
      "id": "qK5Yl9u0Je6q"
    }
  ]
}