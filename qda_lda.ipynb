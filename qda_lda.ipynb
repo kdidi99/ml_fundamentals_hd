{
  "nbformat": 4,
  "nbformat_minor": 0,
  "metadata": {
    "colab": {
      "name": "qda-lda.ipynb",
      "provenance": [],
      "authorship_tag": "ABX9TyNphTmOlNR4UhpvDO1/eBP6",
      "include_colab_link": true
    },
    "kernelspec": {
      "name": "python3",
      "display_name": "Python 3"
    },
    "language_info": {
      "name": "python"
    }
  },
  "cells": [
    {
      "cell_type": "markdown",
      "metadata": {
        "id": "view-in-github",
        "colab_type": "text"
      },
      "source": [
        "<a href=\"https://colab.research.google.com/github/kdidi99/ml_heidelberg/blob/main/qda_lda.ipynb\" target=\"_parent\"><img src=\"https://colab.research.google.com/assets/colab-badge.svg\" alt=\"Open In Colab\"/></a>"
      ]
    },
    {
      "cell_type": "markdown",
      "metadata": {
        "id": "4VZn-uSc63M9"
      },
      "source": [
        "Team members:\n",
        "\n",
        "*   Rudolf Braun\n",
        "*   Jannik Schacht\n",
        "*   Kieran Didi"
      ]
    },
    {
      "cell_type": "markdown",
      "metadata": {
        "id": "gwmAdJvY7ZCT"
      },
      "source": [
        "# 1. Data preparation"
      ]
    },
    {
      "cell_type": "code",
      "metadata": {
        "id": "_K33xV8t7iBS"
      },
      "source": [
        "from sklearn.datasets import load_digits\n",
        "import numpy as np\n",
        "import matplotlib.pyplot as plt\n",
        "from sklearn import model_selection"
      ],
      "execution_count": 51,
      "outputs": []
    },
    {
      "cell_type": "code",
      "metadata": {
        "id": "CY5IvBcpKKD9",
        "outputId": "91351532-690e-4575-f9df-e6b59bc11411",
        "colab": {
          "base_uri": "https://localhost:8080/"
        }
      },
      "source": [
        "digits = load_digits() \n",
        "digits.keys()"
      ],
      "execution_count": 52,
      "outputs": [
        {
          "output_type": "execute_result",
          "data": {
            "text/plain": [
              "dict_keys(['data', 'target', 'frame', 'feature_names', 'target_names', 'images', 'DESCR'])"
            ]
          },
          "metadata": {},
          "execution_count": 52
        }
      ]
    },
    {
      "cell_type": "code",
      "metadata": {
        "id": "DCmL2YN8KM5q"
      },
      "source": [
        "data = digits[\"data\"]\n",
        "images = digits[\"images\"]\n",
        "target = digits[\"target\"]\n",
        "target_names = digits[\"target_names\"]"
      ],
      "execution_count": 53,
      "outputs": []
    },
    {
      "cell_type": "markdown",
      "metadata": {
        "id": "kT01kMWUKxXX"
      },
      "source": [
        "Data filtering (indeed we have 361 instances with a dimension of 8x8=64 each)\n",
        "\n"
      ]
    },
    {
      "cell_type": "code",
      "metadata": {
        "id": "R33XWe-SKm56",
        "outputId": "7184cb96-5055-42c2-e796-a9539d924b0d",
        "colab": {
          "base_uri": "https://localhost:8080/"
        }
      },
      "source": [
        "X_all = data\n",
        "y_all = target\n",
        "\n",
        "X_filter = X_all[np.logical_or(1 == y_all, 7 == y_all)]\n",
        "y_filter = y_all[np.logical_or(1 == y_all, 7 == y_all)]\n",
        "X_filter.shape"
      ],
      "execution_count": 54,
      "outputs": [
        {
          "output_type": "execute_result",
          "data": {
            "text/plain": [
              "(361, 64)"
            ]
          },
          "metadata": {},
          "execution_count": 54
        }
      ]
    },
    {
      "cell_type": "markdown",
      "metadata": {
        "id": "qadZOpftL6XI"
      },
      "source": [
        "Split into training and test set"
      ]
    },
    {
      "cell_type": "code",
      "metadata": {
        "id": "aHD0gBXfL6d_"
      },
      "source": [
        "X_train, X_test, y_train, y_test = model_selection.train_test_split(X_filter, y_filter,\n",
        "   test_size = 0.4, random_state = 0)"
      ],
      "execution_count": 55,
      "outputs": []
    },
    {
      "cell_type": "markdown",
      "metadata": {
        "id": "QbZbN6PdNkvJ"
      },
      "source": [
        "Visualize a few numbers to make sure we have the correct images"
      ]
    },
    {
      "cell_type": "code",
      "metadata": {
        "id": "uWPsYMBpNoKg",
        "outputId": "839d2cd1-9d78-4cac-b222-98537475e930",
        "colab": {
          "base_uri": "https://localhost:8080/",
          "height": 499
        }
      },
      "source": [
        "fig, axs = plt.subplots(2, 2)\n",
        "sel = np.random.randint(low=0, high=361, size=4)\n",
        "for r, x, y in zip(sel, [0, 0, 1, 1], [0, 1, 0, 1]):\n",
        "    img = X_filter[r, :].reshape((8,8))\n",
        "    assert 2 == len(img.shape)\n",
        "    axs[x, y].imshow(img, interpolation=\"nearest\", cmap=\"gray\")\n",
        "    axs[x, y].set_title(f\"Random Number {r}\")\n",
        "fig.set_size_inches(8, 8)"
      ],
      "execution_count": 56,
      "outputs": [
        {
          "output_type": "display_data",
          "data": {
            "image/png": "[encoded data removed]",
            "text/plain": [
              "<Figure size 576x576 with 4 Axes>"
            ]
          },
          "metadata": {
            "needs_background": "light"
          }
        }
      ]
    },
    {
      "cell_type": "markdown",
      "metadata": {
        "id": "ybULRuWi7iyy"
      },
      "source": [
        "# 1.1 Dimension Reduction"
      ]
    },
    {
      "cell_type": "markdown",
      "metadata": {
        "id": "ys6lcJ-5O0kr"
      },
      "source": [
        "Look at the values of pixels in different instances"
      ]
    },
    {
      "cell_type": "code",
      "metadata": {
        "id": "GWZJOQp6O0Cw",
        "outputId": "f673ac9c-c0b4-4f66-a896-65986c4e6ae9",
        "colab": {
          "base_uri": "https://localhost:8080/"
        }
      },
      "source": [
        "#separate 7's and 1's\n",
        "X_one = X_filter[1 == y_filter]\n",
        "X_seven = X_filter[7 == y_filter]\n",
        "\n",
        "#calculate the means of each pixel in the respective classes and take the difference \n",
        "mean_diff = X_one.mean(axis=0)-X_seven.mean(axis=0)\n",
        "\n",
        "#look for the top 5 pixels most bright for 1's and 7's respectively\n",
        "idx_one = (mean_diff).argsort()[:5]\n",
        "idx_seven = (-mean_diff).argsort()[:5]\n",
        "\n",
        "print(idx_one)\n",
        "print(mean_diff[idx_one])\n",
        "print(idx_seven)\n",
        "print(mean_diff[idx_seven])"
      ],
      "execution_count": 57,
      "outputs": [
        {
          "output_type": "stream",
          "name": "stdout",
          "text": [
            "[10 29 37  5 30]\n",
            "[-6.46479219 -6.08244828 -5.82485113 -4.95100988 -4.69332065]\n",
            "[19 60 61 27 52]\n",
            "[12.5387071  10.82076862  8.56574989  8.03431764  7.7054147 ]\n"
          ]
        }
      ]
    },
    {
      "cell_type": "markdown",
      "metadata": {
        "id": "TCbGx8BdUqWI"
      },
      "source": [
        "The first two pixels in each case seem to make the biggest difference, so we choose a linear combination of those pixels ($p_{xx}$) as our features:      \n",
        "$f_1 = p_{10} + p_{29}$ <br>\n",
        "$f_2 = p_{19} + p_{60}$"
      ]
    },
    {
      "cell_type": "code",
      "metadata": {
        "id": "RUcfUyOt7m3S"
      },
      "source": [
        "def reduce_dim(x):\n",
        "    #define indices to be selected\n",
        "    idx_1 = np.array([19, 60])\n",
        "    idx_7 = np.array([10, 29])\n",
        "\n",
        "    #select entries via indices and calculate new features from them\n",
        "    x_1 = np.sum(x.take(idx_1, axis=1), axis=1)\n",
        "    x_7 = np.sum(x.take(idx_7, axis=1), axis=1)\n",
        "    #reduced_x = x.take(idx, axis=1)\n",
        "    #combine the two features into one array\n",
        "    reduced_x = np.column_stack((x_1, x_7))\n",
        "    return reduced_x\n"
      ],
      "execution_count": 103,
      "outputs": []
    },
    {
      "cell_type": "code",
      "metadata": {
        "id": "BxqwN-qwW--Q",
        "outputId": "910411ef-d482-418e-f7d9-cf0314f46ab0",
        "colab": {
          "base_uri": "https://localhost:8080/"
        }
      },
      "source": [
        "reduced_x = reduce_dim(X_filter)\n",
        "reduced_x.shape"
      ],
      "execution_count": 116,
      "outputs": [
        {
          "output_type": "execute_result",
          "data": {
            "text/plain": [
              "(361, 2)"
            ]
          },
          "metadata": {},
          "execution_count": 116
        }
      ]
    },
    {
      "cell_type": "markdown",
      "metadata": {
        "id": "4P9HMhs77rWq"
      },
      "source": [
        "# 1.2 Scatterplot"
      ]
    },
    {
      "cell_type": "code",
      "metadata": {
        "id": "uLq1jNbq7qZ6",
        "outputId": "ad3ef2b3-7609-4866-d01d-5170a9931033",
        "colab": {
          "base_uri": "https://localhost:8080/",
          "height": 265
        }
      },
      "source": [
        "#plt.style.use('_mpl-gallery')\n",
        "fig, ax = plt.subplots()\n",
        "color= ['red' if y == 1 else 'green' for y in y_filter]\n",
        "ax.scatter(reduced_x[:,0], reduced_x[:,1], c=color)\n",
        "plt.show()"
      ],
      "execution_count": 118,
      "outputs": [
        {
          "output_type": "display_data",
          "data": {
            "image/png": "[encoded data removed]",
            "text/plain": [
              "<Figure size 432x288 with 1 Axes>"
            ]
          },
          "metadata": {
            "needs_background": "light"
          }
        }
      ]
    }
  ]
}