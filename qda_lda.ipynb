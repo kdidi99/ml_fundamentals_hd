{
  "nbformat": 4,
  "nbformat_minor": 0,
  "metadata": {
    "colab": {
      "name": "qda-lda.ipynb",
      "provenance": [],
      "authorship_tag": "ABX9TyOz1S3sm5iC5xFiD1Fm2ePn",
      "include_colab_link": true
    },
    "kernelspec": {
      "name": "python3",
      "display_name": "Python 3"
    },
    "language_info": {
      "name": "python"
    }
  },
  "cells": [
    {
      "cell_type": "markdown",
      "metadata": {
        "id": "view-in-github",
        "colab_type": "text"
      },
      "source": [
        "<a href=\"https://colab.research.google.com/github/kdidi99/ml_heidelberg/blob/main/qda_lda.ipynb\" target=\"_parent\"><img src=\"https://colab.research.google.com/assets/colab-badge.svg\" alt=\"Open In Colab\"/></a>"
      ]
    },
    {
      "cell_type": "markdown",
      "metadata": {
        "id": "4VZn-uSc63M9"
      },
      "source": [
        "Team members:\n",
        "\n",
        "*   Rudolf Braun\n",
        "*   Jannik Schacht\n",
        "*   Kieran Didi"
      ]
    },
    {
      "cell_type": "markdown",
      "metadata": {
        "id": "gwmAdJvY7ZCT"
      },
      "source": [
        "# 1. Data preparation"
      ]
    },
    {
      "cell_type": "code",
      "metadata": {
        "id": "_K33xV8t7iBS"
      },
      "source": [
        "from sklearn.datasets import load_digits\n",
        "import numpy as np\n",
        "import matplotlib.pyplot as plt\n",
        "from sklearn import model_selection"
      ],
      "execution_count": 1,
      "outputs": []
    },
    {
      "cell_type": "code",
      "metadata": {
        "colab": {
          "base_uri": "https://localhost:8080/"
        },
        "id": "CY5IvBcpKKD9",
        "outputId": "255f137e-6e9a-4954-eadf-fad656becd1a"
      },
      "source": [
        "digits = load_digits() \n",
        "digits.keys()"
      ],
      "execution_count": 2,
      "outputs": [
        {
          "output_type": "execute_result",
          "data": {
            "text/plain": [
              "dict_keys(['data', 'target', 'frame', 'feature_names', 'target_names', 'images', 'DESCR'])"
            ]
          },
          "metadata": {},
          "execution_count": 2
        }
      ]
    },
    {
      "cell_type": "code",
      "metadata": {
        "id": "DCmL2YN8KM5q"
      },
      "source": [
        "data = digits[\"data\"]\n",
        "images = digits[\"images\"]\n",
        "target = digits[\"target\"]\n",
        "target_names = digits[\"target_names\"]"
      ],
      "execution_count": 3,
      "outputs": []
    },
    {
      "cell_type": "markdown",
      "metadata": {
        "id": "kT01kMWUKxXX"
      },
      "source": [
        "Data filtering (indeed we have 361 instances with a dimension of 8x8=64 each)\n",
        "\n"
      ]
    },
    {
      "cell_type": "code",
      "metadata": {
        "colab": {
          "base_uri": "https://localhost:8080/"
        },
        "id": "R33XWe-SKm56",
        "outputId": "019dd9f8-a6ab-4f35-b896-34e00e9a3eab"
      },
      "source": [
        "X_all = data\n",
        "y_all = target\n",
        "\n",
        "X_filter = X_all[np.logical_or(1 == y_all, 7 == y_all)]\n",
        "y_filter = y_all[np.logical_or(1 == y_all, 7 == y_all)]\n",
        "X_filter.shape"
      ],
      "execution_count": 4,
      "outputs": [
        {
          "output_type": "execute_result",
          "data": {
            "text/plain": [
              "(361, 64)"
            ]
          },
          "metadata": {},
          "execution_count": 4
        }
      ]
    },
    {
      "cell_type": "markdown",
      "metadata": {
        "id": "qadZOpftL6XI"
      },
      "source": [
        "Split into training and test set (here just for demonstration, later done on the data with reduced dimensions)"
      ]
    },
    {
      "cell_type": "code",
      "metadata": {
        "id": "aHD0gBXfL6d_"
      },
      "source": [
        "X_train, X_test, y_train, y_test = model_selection.train_test_split(X_filter, y_filter,\n",
        "   test_size = 0.4, random_state = 0)"
      ],
      "execution_count": 5,
      "outputs": []
    },
    {
      "cell_type": "markdown",
      "metadata": {
        "id": "QbZbN6PdNkvJ"
      },
      "source": [
        "Visualize a few numbers to make sure we have the correct images"
      ]
    },
    {
      "cell_type": "code",
      "metadata": {
        "colab": {
          "base_uri": "https://localhost:8080/",
          "height": 499
        },
        "id": "uWPsYMBpNoKg",
        "outputId": "eaded52b-fa85-48b7-c13a-4234354fae0f"
      },
      "source": [
        "fig, axs = plt.subplots(2, 2)\n",
        "sel = np.random.randint(low=0, high=361, size=4)\n",
        "for r, x, y in zip(sel, [0, 0, 1, 1], [0, 1, 0, 1]):\n",
        "    img = X_filter[r, :].reshape((8,8))\n",
        "    assert 2 == len(img.shape)\n",
        "    axs[x, y].imshow(img, interpolation=\"nearest\", cmap=\"gray\")\n",
        "    axs[x, y].set_title(f\"Random Number {r}\")\n",
        "fig.set_size_inches(8, 8)"
      ],
      "execution_count": 6,
      "outputs": [
        {
          "output_type": "display_data",
          "data": {
            "image/png": "[encoded data removed]",
            "text/plain": [
              "<Figure size 576x576 with 4 Axes>"
            ]
          },
          "metadata": {
            "needs_background": "light"
          }
        }
      ]
    },
    {
      "cell_type": "markdown",
      "metadata": {
        "id": "ybULRuWi7iyy"
      },
      "source": [
        "# 1.1 Dimension Reduction"
      ]
    },
    {
      "cell_type": "markdown",
      "metadata": {
        "id": "ys6lcJ-5O0kr"
      },
      "source": [
        "Look at the values of pixels in different instances"
      ]
    },
    {
      "cell_type": "code",
      "metadata": {
        "colab": {
          "base_uri": "https://localhost:8080/"
        },
        "id": "GWZJOQp6O0Cw",
        "outputId": "21120351-d91e-430a-b807-ab76d22ffc78"
      },
      "source": [
        "#separate 7's and 1's\n",
        "X_one = X_filter[1 == y_filter]\n",
        "X_seven = X_filter[7 == y_filter]\n",
        "\n",
        "#calculate the means of each pixel in the respective classes and take the difference \n",
        "mean_diff = X_one.mean(axis=0)-X_seven.mean(axis=0)\n",
        "\n",
        "#look for the top 5 pixels most bright for 1's and 7's respectively\n",
        "idx_one = (mean_diff).argsort()[:5]\n",
        "idx_seven = (-mean_diff).argsort()[:5]\n",
        "\n",
        "print(idx_one)\n",
        "print(mean_diff[idx_one])\n",
        "print(idx_seven)\n",
        "print(mean_diff[idx_seven])"
      ],
      "execution_count": 7,
      "outputs": [
        {
          "output_type": "stream",
          "name": "stdout",
          "text": [
            "[10 29 37  5 30]\n",
            "[-6.46479219 -6.08244828 -5.82485113 -4.95100988 -4.69332065]\n",
            "[19 60 61 27 52]\n",
            "[12.5387071  10.82076862  8.56574989  8.03431764  7.7054147 ]\n"
          ]
        }
      ]
    },
    {
      "cell_type": "markdown",
      "metadata": {
        "id": "TCbGx8BdUqWI"
      },
      "source": [
        "The first two pixels in each case seem to make the biggest difference, so we choose a linear combination of those pixels ($p_{xx}$) as our features:      \n",
        "$f_1 = p_{10} + p_{29}$ <br>\n",
        "$f_2 = p_{19} + p_{60}$"
      ]
    },
    {
      "cell_type": "code",
      "metadata": {
        "id": "RUcfUyOt7m3S"
      },
      "source": [
        "def reduce_dim(x):\n",
        "    #define indices to be selected\n",
        "    idx_1 = np.array([19, 60])\n",
        "    idx_7 = np.array([10, 29])\n",
        "\n",
        "    #select entries via indices and calculate new features from them\n",
        "    x_1 = np.sum(x.take(idx_1, axis=1), axis=1)\n",
        "    x_7 = np.sum(x.take(idx_7, axis=1), axis=1)\n",
        "    #reduced_x = x.take(idx, axis=1)\n",
        "    #combine the two features into one array\n",
        "    reduced_x = np.column_stack((x_1, x_7))\n",
        "    return reduced_x\n"
      ],
      "execution_count": 14,
      "outputs": []
    },
    {
      "cell_type": "code",
      "metadata": {
        "colab": {
          "base_uri": "https://localhost:8080/"
        },
        "id": "BxqwN-qwW--Q",
        "outputId": "1ba4345e-8593-4944-91ef-97b08d3daded"
      },
      "source": [
        "reduced_x = reduce_dim(X_filter)\n",
        "reduced_x.shape"
      ],
      "execution_count": 9,
      "outputs": [
        {
          "output_type": "execute_result",
          "data": {
            "text/plain": [
              "(361, 2)"
            ]
          },
          "metadata": {},
          "execution_count": 9
        }
      ]
    },
    {
      "cell_type": "markdown",
      "metadata": {
        "id": "4P9HMhs77rWq"
      },
      "source": [
        "# 1.2 Scatterplot"
      ]
    },
    {
      "cell_type": "code",
      "metadata": {
        "id": "uLq1jNbq7qZ6",
        "colab": {
          "base_uri": "https://localhost:8080/",
          "height": 297
        },
        "outputId": "bcd4543a-7ccb-4043-e7fd-350c1152a569"
      },
      "source": [
        "#plt.style.use('_mpl-gallery')\n",
        "fig, ax = plt.subplots()\n",
        "color= ['red' if y == 1 else 'green' for y in y_filter]\n",
        "ax.scatter(reduced_x[:,0], reduced_x[:,1], c=color)\n",
        "\n",
        "ax.set_xlabel(r'$Feature 1$', fontsize=15)\n",
        "ax.set_ylabel(r'$Feature 2$', fontsize=15)\n",
        "ax.set_title('Dataset of 1s and 7s in reduced feature space')\n",
        "\n",
        "fig.tight_layout()\n",
        "plt.show()"
      ],
      "execution_count": 10,
      "outputs": [
        {
          "output_type": "display_data",
          "data": {
            "image/png": "[encoded data removed]",
            "text/plain": [
              "<Figure size 432x288 with 1 Axes>"
            ]
          },
          "metadata": {
            "needs_background": "light"
          }
        }
      ]
    },
    {
      "cell_type": "markdown",
      "metadata": {
        "id": "0qhx-DaYwqC5"
      },
      "source": [
        "The two classes don't overlap too much, but are present as two separate clusters as visualised in the plot above. From this we can conclude that the reduced features are informative enough to continue."
      ]
    },
    {
      "cell_type": "markdown",
      "metadata": {
        "id": "PRXZvsweADMx"
      },
      "source": [
        "# 2 Nearest Mean"
      ]
    },
    {
      "cell_type": "markdown",
      "metadata": {
        "id": "S--n_UpCAFuO"
      },
      "source": [
        "# 2.1 Implement the nearest mean classifier\n",
        "\n",
        "For this we use calculate the mean of the two classes, store them in an array and use the approach for distance function computation suggested in the sample solution last week."
      ]
    },
    {
      "cell_type": "code",
      "metadata": {
        "id": "pxhv9iuYAWs8"
      },
      "source": [
        "def dist_vec(training, test):\n",
        "  AB = np.dot(test, np.transpose(training)) # shape is (n_test, n_train)\n",
        "  AA = np.sum(np.square(test), axis=1) # shape is (n_test,)\n",
        "  BB = np.sum(np.square(training), axis=1) # shape is (n_train,)\n",
        "  dist_matrix = np.sqrt(np.transpose(BB - 2 * AB) + AA) # shape is (n_train, n_test)\n",
        "  return dist_matrix"
      ],
      "execution_count": 38,
      "outputs": []
    },
    {
      "cell_type": "markdown",
      "metadata": {
        "id": "Vwxc-O7MDR40"
      },
      "source": [
        "First, split the dataset with reduced dimensions intro train and test set"
      ]
    },
    {
      "cell_type": "code",
      "metadata": {
        "id": "S2kGmL3bDWIE"
      },
      "source": [
        "X_train, X_test, y_train, y_test = model_selection.train_test_split(reduced_x, y_filter,\n",
        "   test_size = 0.4, random_state = 0)"
      ],
      "execution_count": 29,
      "outputs": []
    },
    {
      "cell_type": "code",
      "metadata": {
        "id": "hlX5Lf0uD6fU",
        "outputId": "77643374-6343-4169-96be-df23e31c1c29",
        "colab": {
          "base_uri": "https://localhost:8080/"
        }
      },
      "source": [
        "X_test.shape"
      ],
      "execution_count": 65,
      "outputs": [
        {
          "output_type": "execute_result",
          "data": {
            "text/plain": [
              "(145, 2)"
            ]
          },
          "metadata": {},
          "execution_count": 65
        }
      ]
    },
    {
      "cell_type": "code",
      "metadata": {
        "id": "9m35_ev2Aozl"
      },
      "source": [
        "def nearest_mean(training_features, training_labels, test_features):\n",
        "\n",
        "  #calculate means for both classes\n",
        "  train_1 = training_features[1 == training_labels]\n",
        "  train_7 = training_features[7 == training_labels]\n",
        "  mean_1 = np.mean(train_1, axis=0)\n",
        "  mean_7 = np.mean(train_7, axis=0)\n",
        "  means = np.vstack((mean_1, mean_7))\n",
        "  #print(means)\n",
        "\n",
        "  #compute distance matrix between test data and means of training data\n",
        "  dist = dist_vec(means, test_features)\n",
        "  #print(dist.shape)\n",
        "\n",
        "  #predicts labels for test data based on closer mean\n",
        "  indices = np.argsort(dist, axis=0)\n",
        "  #print(indices.shape)\n",
        "  predicted_labels = indices[0]\n",
        "  predicted_labels[predicted_labels==1] = 7\n",
        "  predicted_labels[predicted_labels==0] = 1\n",
        "  #print(indices)\n",
        "  #print(dist)\n",
        "  return predicted_labels\n",
        "\n",
        "  #\n",
        "    #return predicted_labels"
      ],
      "execution_count": 99,
      "outputs": []
    },
    {
      "cell_type": "code",
      "metadata": {
        "id": "rhMgNhgCBCkt",
        "outputId": "05f57a40-4ed0-4322-f084-44f99e713c26",
        "colab": {
          "base_uri": "https://localhost:8080/"
        }
      },
      "source": [
        "predicted_labels = nearest_mean(X_train, y_train, X_test)\n",
        "result = y_test - predicted_labels\n",
        "print(result)"
      ],
      "execution_count": 100,
      "outputs": [
        {
          "output_type": "stream",
          "name": "stdout",
          "text": [
            "[0 0 0 0 0 0 0 0 0 0 0 0 0 0 0 6 0 0 0 0 0 0 0 0 0 0 0 0 0 0 0 0 0 0 0 0 0\n",
            " 0 0 0 0 0 0 0 0 0 0 0 0 0 0 0 0 0 0 0 0 0 0 0 0 0 0 0 0 0 0 0 0 0 0 0 0 0\n",
            " 0 0 0 0 0 0 0 0 0 0 0 0 0 0 0 0 0 0 0 0 0 0 0 0 0 0 0 0 0 0 0 0 0 0 0 0 0\n",
            " 0 0 0 0 0 0 0 0 0 0 0 0 0 0 0 0 0 0 0 0 0 0 0 0 0 0 0 0 0 0 0 0 0 0]\n"
          ]
        }
      ]
    },
    {
      "cell_type": "markdown",
      "metadata": {
        "id": "k-hRuu_JLmkz"
      },
      "source": [
        "As can be seen in the result array above, there was only one misclassification in the test set (a 7 that the algorithm classified as 1, therefore the value of 6 in the array)"
      ]
    },
    {
      "cell_type": "markdown",
      "metadata": {
        "id": "ERV1l-zhL3XU"
      },
      "source": [
        "# 2.2 Visualize the decision region"
      ]
    },
    {
      "cell_type": "markdown",
      "metadata": {
        "id": "TLLw2Y4uL7Zj"
      },
      "source": [
        "To"
      ]
    },
    {
      "cell_type": "code",
      "metadata": {
        "id": "Vwqt4wUiL8xD"
      },
      "source": [
        ""
      ],
      "execution_count": null,
      "outputs": []
    }
  ]
}