{
  "nbformat": 4,
  "nbformat_minor": 0,
  "metadata": {
    "colab": {
      "name": "qda-lda.ipynb",
      "provenance": [],
      "include_colab_link": true
    },
    "kernelspec": {
      "name": "python3",
      "display_name": "Python 3"
    },
    "language_info": {
      "name": "python"
    }
  },
  "cells": [
    {
      "cell_type": "markdown",
      "metadata": {
        "id": "view-in-github",
        "colab_type": "text"
      },
      "source": [
        "<a href=\"https://colab.research.google.com/github/kdidi99/ml_heidelberg/blob/main/qda_lda.ipynb\" target=\"_parent\"><img src=\"https://colab.research.google.com/assets/colab-badge.svg\" alt=\"Open In Colab\"/></a>"
      ]
    },
    {
      "cell_type": "markdown",
      "metadata": {
        "id": "4VZn-uSc63M9"
      },
      "source": [
        "Team members:\n",
        "\n",
        "*   Rudolf Braun\n",
        "*   Jannik Schacht\n",
        "*   Kieran Didi"
      ]
    },
    {
      "cell_type": "markdown",
      "metadata": {
        "id": "gwmAdJvY7ZCT"
      },
      "source": [
        "# 1. Data preparation"
      ]
    },
    {
      "cell_type": "code",
      "metadata": {
        "id": "_K33xV8t7iBS"
      },
      "source": [
        "from sklearn.datasets import load_digits\n",
        "import numpy as np\n",
        "import matplotlib.pyplot as plt\n",
        "from sklearn import model_selection"
      ],
      "execution_count": 1,
      "outputs": []
    },
    {
      "cell_type": "code",
      "metadata": {
        "colab": {
          "base_uri": "https://localhost:8080/"
        },
        "id": "CY5IvBcpKKD9",
        "outputId": "7ba8f92b-3319-4720-980b-b8d512e19840"
      },
      "source": [
        "digits = load_digits() \n",
        "digits.keys()"
      ],
      "execution_count": 2,
      "outputs": [
        {
          "output_type": "execute_result",
          "data": {
            "text/plain": [
              "dict_keys(['data', 'target', 'frame', 'feature_names', 'target_names', 'images', 'DESCR'])"
            ]
          },
          "metadata": {},
          "execution_count": 2
        }
      ]
    },
    {
      "cell_type": "code",
      "metadata": {
        "id": "DCmL2YN8KM5q"
      },
      "source": [
        "data = digits[\"data\"]\n",
        "images = digits[\"images\"]\n",
        "target = digits[\"target\"]\n",
        "target_names = digits[\"target_names\"]"
      ],
      "execution_count": 3,
      "outputs": []
    },
    {
      "cell_type": "markdown",
      "metadata": {
        "id": "kT01kMWUKxXX"
      },
      "source": [
        "Data filtering (indeed we have 361 instances with a dimension of 8x8=64 each)\n",
        "\n"
      ]
    },
    {
      "cell_type": "code",
      "metadata": {
        "colab": {
          "base_uri": "https://localhost:8080/"
        },
        "id": "R33XWe-SKm56",
        "outputId": "267c2d4b-6ca5-4c3a-e2df-fd17dc365efe"
      },
      "source": [
        "X_all = data\n",
        "y_all = target\n",
        "\n",
        "X_filter = X_all[np.logical_or(1 == y_all, 7 == y_all)]\n",
        "y_filter = y_all[np.logical_or(1 == y_all, 7 == y_all)]\n",
        "X_filter.shape"
      ],
      "execution_count": 4,
      "outputs": [
        {
          "output_type": "execute_result",
          "data": {
            "text/plain": [
              "(361, 64)"
            ]
          },
          "metadata": {},
          "execution_count": 4
        }
      ]
    },
    {
      "cell_type": "markdown",
      "metadata": {
        "id": "qadZOpftL6XI"
      },
      "source": [
        "Split into training and test set (here just for demonstration, later done on the data with reduced dimensions)"
      ]
    },
    {
      "cell_type": "code",
      "metadata": {
        "id": "aHD0gBXfL6d_"
      },
      "source": [
        "X_train, X_test, y_train, y_test = model_selection.train_test_split(X_filter, y_filter,\n",
        "   test_size = 0.4, random_state = 0)"
      ],
      "execution_count": 5,
      "outputs": []
    },
    {
      "cell_type": "markdown",
      "metadata": {
        "id": "QbZbN6PdNkvJ"
      },
      "source": [
        "Visualize a few numbers to make sure we have the correct images"
      ]
    },
    {
      "cell_type": "code",
      "metadata": {
        "colab": {
          "base_uri": "https://localhost:8080/",
          "height": 499
        },
        "id": "uWPsYMBpNoKg",
        "outputId": "fca0ec90-01f2-410c-e38e-a4963771a937"
      },
      "source": [
        "fig, axs = plt.subplots(2, 2)\n",
        "sel = np.random.randint(low=0, high=361, size=4)\n",
        "for r, x, y in zip(sel, [0, 0, 1, 1], [0, 1, 0, 1]):\n",
        "    img = X_filter[r, :].reshape((8,8))\n",
        "    assert 2 == len(img.shape)\n",
        "    axs[x, y].imshow(img, interpolation=\"nearest\", cmap=\"gray\")\n",
        "    axs[x, y].set_title(f\"Random Number {r}\")\n",
        "fig.set_size_inches(8, 8)"
      ],
      "execution_count": 6,
      "outputs": [
        {
          "output_type": "display_data",
          "data": {
            "image/png": "[encoded data removed]",
            "text/plain": [
              "<Figure size 576x576 with 4 Axes>"
            ]
          },
          "metadata": {
            "needs_background": "light"
          }
        }
      ]
    },
    {
      "cell_type": "markdown",
      "metadata": {
        "id": "ybULRuWi7iyy"
      },
      "source": [
        "# 1.1 Dimension Reduction"
      ]
    },
    {
      "cell_type": "markdown",
      "metadata": {
        "id": "ys6lcJ-5O0kr"
      },
      "source": [
        "Look at the values of pixels in different instances"
      ]
    },
    {
      "cell_type": "code",
      "metadata": {
        "id": "GWZJOQp6O0Cw",
        "outputId": "8b15e1bf-c519-4f98-e32e-68de578914a8",
        "colab": {
          "base_uri": "https://localhost:8080/"
        }
      },
      "source": [
        "#separate 7's and 1's\n",
        "X_one = X_filter[1 == y_filter]\n",
        "X_seven = X_filter[7 == y_filter]\n",
        "\n",
        "#calculate the means of each pixel in the respective classes and take the difference \n",
        "mean_diff = X_one.mean(axis=0)-X_seven.mean(axis=0)\n",
        "\n",
        "#look for the top 5 pixels most bright for 1's and 7's respectively\n",
        "idx_one = (mean_diff).argsort()[:5]\n",
        "idx_seven = (-mean_diff).argsort()[:5]\n",
        "\n",
        "print(idx_one)\n",
        "print(mean_diff[idx_one])\n",
        "print(idx_seven)\n",
        "print(mean_diff[idx_seven])"
      ],
      "execution_count": 7,
      "outputs": [
        {
          "output_type": "stream",
          "name": "stdout",
          "text": [
            "[10 29 37  5 30]\n",
            "[-6.46479219 -6.08244828 -5.82485113 -4.95100988 -4.69332065]\n",
            "[19 60 61 27 52]\n",
            "[12.5387071  10.82076862  8.56574989  8.03431764  7.7054147 ]\n"
          ]
        }
      ]
    },
    {
      "cell_type": "markdown",
      "metadata": {
        "id": "TCbGx8BdUqWI"
      },
      "source": [
        "The first two pixels in each case seem to make the biggest difference, so we choose a linear combination of those pixels ($p_{xx}$) as our features:      \n",
        "$f_1 = p_{10} + p_{29}$ <br>\n",
        "$f_2 = p_{19} + p_{60}$"
      ]
    },
    {
      "cell_type": "code",
      "metadata": {
        "id": "RUcfUyOt7m3S"
      },
      "source": [
        "def reduce_dim(x):\n",
        "    #define indices to be selected\n",
        "    idx_1 = np.array([19, 60])\n",
        "    idx_7 = np.array([10, 29])\n",
        "\n",
        "    #select entries via indices and calculate new features from them\n",
        "    x_1 = np.sum(x.take(idx_1, axis=1), axis=1)\n",
        "    x_7 = np.sum(x.take(idx_7, axis=1), axis=1)\n",
        "    #reduced_x = x.take(idx, axis=1)\n",
        "    #combine the two features into one array\n",
        "    reduced_x = np.column_stack((x_1, x_7))\n",
        "    return reduced_x\n"
      ],
      "execution_count": 8,
      "outputs": []
    },
    {
      "cell_type": "code",
      "metadata": {
        "colab": {
          "base_uri": "https://localhost:8080/"
        },
        "id": "BxqwN-qwW--Q",
        "outputId": "1e3c6503-a350-4908-9eff-df53e541f6fb"
      },
      "source": [
        "reduced_x = reduce_dim(X_filter)\n",
        "reduced_x.shape"
      ],
      "execution_count": 9,
      "outputs": [
        {
          "output_type": "execute_result",
          "data": {
            "text/plain": [
              "(361, 2)"
            ]
          },
          "metadata": {},
          "execution_count": 9
        }
      ]
    },
    {
      "cell_type": "markdown",
      "metadata": {
        "id": "4P9HMhs77rWq"
      },
      "source": [
        "# 1.2 Scatterplot"
      ]
    },
    {
      "cell_type": "code",
      "metadata": {
        "id": "uLq1jNbq7qZ6",
        "colab": {
          "base_uri": "https://localhost:8080/",
          "height": 297
        },
        "outputId": "c83629b8-cc73-490e-ed2a-abfeda728702"
      },
      "source": [
        "#plt.style.use('_mpl-gallery')\n",
        "fig, ax = plt.subplots()\n",
        "color= ['red' if y == 1 else 'green' for y in y_filter]\n",
        "ax.scatter(reduced_x[:,0], reduced_x[:,1], c=color)\n",
        "\n",
        "ax.set_xlabel(r'$Feature 1$', fontsize=15)\n",
        "ax.set_ylabel(r'$Feature 2$', fontsize=15)\n",
        "ax.set_title('Dataset of 1s and 7s in reduced feature space')\n",
        "\n",
        "fig.tight_layout()\n",
        "plt.show()"
      ],
      "execution_count": 10,
      "outputs": [
        {
          "output_type": "display_data",
          "data": {
            "image/png": "[encoded data removed]",
            "text/plain": [
              "<Figure size 432x288 with 1 Axes>"
            ]
          },
          "metadata": {
            "needs_background": "light"
          }
        }
      ]
    },
    {
      "cell_type": "markdown",
      "metadata": {
        "id": "0qhx-DaYwqC5"
      },
      "source": [
        "The two classes don't overlap too much, but are present as two separate clusters as visualised in the plot above. From this we can conclude that the reduced features are informative enough to continue."
      ]
    },
    {
      "cell_type": "markdown",
      "metadata": {
        "id": "PRXZvsweADMx"
      },
      "source": [
        "# 2 Nearest Mean"
      ]
    },
    {
      "cell_type": "markdown",
      "metadata": {
        "id": "S--n_UpCAFuO"
      },
      "source": [
        "# 2.1 Implement the nearest mean classifier\n",
        "\n",
        "For this we use calculate the mean of the two classes, store them in an array and use the approach for distance function computation suggested in the sample solution last week."
      ]
    },
    {
      "cell_type": "code",
      "metadata": {
        "id": "pxhv9iuYAWs8"
      },
      "source": [
        "def dist_vec(training, test):\n",
        "  AB = np.dot(test, np.transpose(training)) # shape is (n_test, n_train)\n",
        "  AA = np.sum(np.square(test), axis=1) # shape is (n_test,)\n",
        "  BB = np.sum(np.square(training), axis=1) # shape is (n_train,)\n",
        "  dist_matrix = np.sqrt(np.transpose(BB - 2 * AB) + AA) # shape is (n_train, n_test)\n",
        "  return dist_matrix"
      ],
      "execution_count": 11,
      "outputs": []
    },
    {
      "cell_type": "markdown",
      "metadata": {
        "id": "Vwxc-O7MDR40"
      },
      "source": [
        "First, split the dataset with reduced dimensions intro train and test set"
      ]
    },
    {
      "cell_type": "code",
      "metadata": {
        "id": "S2kGmL3bDWIE"
      },
      "source": [
        "X_train, X_test, y_train, y_test = model_selection.train_test_split(reduced_x, y_filter,\n",
        "   test_size = 0.4, random_state = 0)"
      ],
      "execution_count": 12,
      "outputs": []
    },
    {
      "cell_type": "code",
      "metadata": {
        "colab": {
          "base_uri": "https://localhost:8080/"
        },
        "id": "hlX5Lf0uD6fU",
        "outputId": "743f7102-e9a4-4665-c944-8493ebeffbe2"
      },
      "source": [
        "X_test.shape"
      ],
      "execution_count": 13,
      "outputs": [
        {
          "output_type": "execute_result",
          "data": {
            "text/plain": [
              "(145, 2)"
            ]
          },
          "metadata": {},
          "execution_count": 13
        }
      ]
    },
    {
      "cell_type": "code",
      "metadata": {
        "id": "9m35_ev2Aozl"
      },
      "source": [
        "def nearest_mean(training_features, training_labels, test_features):\n",
        "\n",
        "  #calculate means for both classes\n",
        "  train_1 = training_features[1 == training_labels]\n",
        "  train_7 = training_features[7 == training_labels]\n",
        "  mean_1 = np.mean(train_1, axis=0)\n",
        "  mean_7 = np.mean(train_7, axis=0)\n",
        "  means = np.vstack((mean_1, mean_7))\n",
        "  #print(means)\n",
        "\n",
        "  #compute distance matrix between test data and means of training data\n",
        "  dist = dist_vec(means, test_features)\n",
        "  #print(dist.shape)\n",
        "\n",
        "  #predicts labels for test data based on closer mean\n",
        "  indices = np.argsort(dist, axis=0)\n",
        "  #print(indices.shape)\n",
        "  predicted_labels = indices[0]\n",
        "  predicted_labels[predicted_labels==1] = 7\n",
        "  predicted_labels[predicted_labels==0] = 1\n",
        "  #print(indices)\n",
        "  #print(dist)\n",
        "  return predicted_labels, means\n",
        "\n",
        "  #\n",
        "    #return predicted_labels"
      ],
      "execution_count": 14,
      "outputs": []
    },
    {
      "cell_type": "code",
      "metadata": {
        "colab": {
          "base_uri": "https://localhost:8080/"
        },
        "id": "rhMgNhgCBCkt",
        "outputId": "908f1c42-f8c0-49ac-da85-847cbdf08f58"
      },
      "source": [
        "predicted_labels, means = nearest_mean(X_train, y_train, X_test)\n",
        "result = y_test - predicted_labels\n",
        "print(result)"
      ],
      "execution_count": 15,
      "outputs": [
        {
          "output_type": "stream",
          "name": "stdout",
          "text": [
            "[0 0 0 0 0 0 0 0 0 0 0 0 0 0 0 6 0 0 0 0 0 0 0 0 0 0 0 0 0 0 0 0 0 0 0 0 0\n",
            " 0 0 0 0 0 0 0 0 0 0 0 0 0 0 0 0 0 0 0 0 0 0 0 0 0 0 0 0 0 0 0 0 0 0 0 0 0\n",
            " 0 0 0 0 0 0 0 0 0 0 0 0 0 0 0 0 0 0 0 0 0 0 0 0 0 0 0 0 0 0 0 0 0 0 0 0 0\n",
            " 0 0 0 0 0 0 0 0 0 0 0 0 0 0 0 0 0 0 0 0 0 0 0 0 0 0 0 0 0 0 0 0 0 0]\n"
          ]
        }
      ]
    },
    {
      "cell_type": "markdown",
      "metadata": {
        "id": "k-hRuu_JLmkz"
      },
      "source": [
        "As can be seen in the result array above, there was only one misclassification in the test set (a 7 that the algorithm classified as 1, therefore the value of 6 in the array)"
      ]
    },
    {
      "cell_type": "markdown",
      "metadata": {
        "id": "ERV1l-zhL3XU"
      },
      "source": [
        "# 2.2 Visualize the decision region"
      ]
    },
    {
      "cell_type": "markdown",
      "metadata": {
        "id": "TLLw2Y4uL7Zj"
      },
      "source": [
        "To"
      ]
    },
    {
      "cell_type": "code",
      "metadata": {
        "colab": {
          "base_uri": "https://localhost:8080/",
          "height": 462
        },
        "id": "Vwqt4wUiL8xD",
        "outputId": "162521fb-0292-4207-bab8-e5a65fffb8c2"
      },
      "source": [
        "#create dataset for pixel image (40x40 instead of 200x200 since it caused a big distortion in the graph in that case)\n",
        "f1 = np.linspace(1, 40, num=40)\n",
        "f2 = np.linspace(1, 40, num=40)\n",
        "xx, yy = np.meshgrid(f1,f2)\n",
        "xx = xx.reshape(1,1600)\n",
        "yy = yy.reshape(1,1600)\n",
        "X_plot = np.dstack((xx,yy))\n",
        "y_plot, means_plot = nearest_mean(X_train, y_train, X_plot)#?\n",
        "y_plot = y_plot[:,0]\n",
        "y_plot = y_plot.reshape(40,40)\n",
        "#y_plot = y_plot.reshape(25,25)\n",
        "\n",
        "#plot the pixel image dataset\n",
        "fig, ax = plt.subplots()\n",
        "color= ['red' if y == 1 else 'green' for y in y_test]\n",
        "#color2= ['red' if y == 1 else 'green' for y in y_plot]#?\n",
        "\n",
        "\n",
        "\n",
        "ax.imshow(y_plot, alpha = 0.5)#?\n",
        "#ax.pcolor(x, y, z, cmap='RdBu')?\n",
        "#ax.plot(xx, yy, ls=\"None\", marker=\".\")\n",
        "ax.scatter(X_test[:,0], X_test[:,1], c=color, marker = \"+\")\n",
        "ax.scatter(means[:,0], means[:,1], marker = \"o\")\n",
        "\n",
        "ax.set_xlabel(r'$Feature 1$', fontsize=15)\n",
        "ax.set_ylabel(r'$Feature 2$', fontsize=15)\n",
        "ax.set_title('Dataset of 1s and 7s in reduced feature space')\n",
        "\n",
        "fig.tight_layout()\n",
        "plt.show()\n",
        "f1.shape\n",
        "print(xx)\n",
        "print(yy)\n",
        "print(y_plot)"
      ],
      "execution_count": 16,
      "outputs": [
        {
          "output_type": "display_data",
          "data": {
            "image/png": "[encoded data removed]",
            "text/plain": [
              "<Figure size 432x288 with 1 Axes>"
            ]
          },
          "metadata": {
            "needs_background": "light"
          }
        },
        {
          "output_type": "stream",
          "name": "stdout",
          "text": [
            "[[ 1.  2.  3. ... 38. 39. 40.]]\n",
            "[[ 1.  1.  1. ... 40. 40. 40.]]\n",
            "[[7 7 7 ... 1 1 1]\n",
            " [7 7 7 ... 1 1 1]\n",
            " [7 7 7 ... 1 1 1]\n",
            " ...\n",
            " [7 7 7 ... 1 1 1]\n",
            " [7 7 7 ... 1 1 1]\n",
            " [7 7 7 ... 1 1 1]]\n"
          ]
        }
      ]
    },
    {
      "cell_type": "markdown",
      "metadata": {
        "id": "OlCHlQqxoUtj"
      },
      "source": [
        "The blue points in the plot represent the respective class means, the scattered plus signs represent the test data, colored according to the class.\n",
        "As determined already by the inspection of the corresponding array in 2.1, we see one misclassification on the side of the boundary."
      ]
    },
    {
      "cell_type": "markdown",
      "metadata": {
        "id": "n5pucsozRshT"
      },
      "source": [
        "# 3 QDA"
      ]
    },
    {
      "cell_type": "markdown",
      "metadata": {
        "id": "wueciXwjR4C6"
      },
      "source": [
        "# 3.1 Implement QDA Training"
      ]
    },
    {
      "cell_type": "code",
      "metadata": {
        "id": "dVivFx_dUPMq"
      },
      "source": [
        "def fit_qda(training_features, training_labels): # fit the training data to a qda model\n",
        "    l = len(training_labels)\n",
        "    features_1 = [training_features[i] for i in range(l) if training_labels[i]==1] # features of all elements with label 1\n",
        "    features_7 = [training_features[i] for i in range(l) if training_labels[i]==7] # features of all elements with label 7\n",
        "    l1 = len(features_1)\n",
        "    l7 = len(features_7)\n",
        "    \n",
        "    mu_1 = sum(features_1)/l1 # mu is a list of means of features\n",
        "    mu_7 = sum(features_7)/l7\n",
        "    mu = np.array([mu_1, mu_7])\n",
        "\n",
        "    cov_1 = sum([np.outer(features_1[i]-mu_1, features_1[i]-mu_1) for i in range(l1)])/l1 # covaraint matrix of elements with label 1\n",
        "    cov_7 = sum([np.outer(features_7[i]-mu_7, features_7[i]-mu_7) for i in range(l7)])/l7 # covaraint matrix of elements with label 7\n",
        "    covmat = np.array([cov_1, cov_7])\n",
        "    \n",
        "    p = np.array([l1/l, l7/l]) # probabilities of the labels\n",
        "    \n",
        "    return mu, covmat, p\n",
        "    # mu = (2,D) rows are the two class means\n",
        "    # covmat = (2,D,D) two covariance matrices (D,D)\n",
        "    # p = two priors"
      ],
      "execution_count": 17,
      "outputs": []
    },
    {
      "cell_type": "code",
      "metadata": {
        "id": "BEI3tNCSUgmm",
        "outputId": "9fc3a5a9-a0c6-429f-8cb1-bd4c8d40790b",
        "colab": {
          "base_uri": "https://localhost:8080/",
          "height": 319
        }
      },
      "source": [
        "reduced_x_train = reduce_dim(X_train)\n",
        "print(fit_qda(reduced_x_train, y_train)) # has issues after I copied it :/ I will try to fix it"
      ],
      "execution_count": 18,
      "outputs": [
        {
          "output_type": "error",
          "ename": "IndexError",
          "evalue": "ignored",
          "traceback": [
            "\u001b[0;31m---------------------------------------------------------------------------\u001b[0m",
            "\u001b[0;31mIndexError\u001b[0m                                Traceback (most recent call last)",
            "\u001b[0;32m<ipython-input-18-e95bb6a022c5>\u001b[0m in \u001b[0;36m<module>\u001b[0;34m()\u001b[0m\n\u001b[0;32m----> 1\u001b[0;31m \u001b[0mreduced_x_train\u001b[0m \u001b[0;34m=\u001b[0m \u001b[0mreduce_dim\u001b[0m\u001b[0;34m(\u001b[0m\u001b[0mX_train\u001b[0m\u001b[0;34m)\u001b[0m\u001b[0;34m\u001b[0m\u001b[0;34m\u001b[0m\u001b[0m\n\u001b[0m\u001b[1;32m      2\u001b[0m \u001b[0mprint\u001b[0m\u001b[0;34m(\u001b[0m\u001b[0mfit_qda\u001b[0m\u001b[0;34m(\u001b[0m\u001b[0mreduced_x_train\u001b[0m\u001b[0;34m,\u001b[0m \u001b[0my_train\u001b[0m\u001b[0;34m)\u001b[0m\u001b[0;34m)\u001b[0m\u001b[0;34m\u001b[0m\u001b[0;34m\u001b[0m\u001b[0m\n",
            "\u001b[0;32m<ipython-input-8-1d4c10c7a20a>\u001b[0m in \u001b[0;36mreduce_dim\u001b[0;34m(x)\u001b[0m\n\u001b[1;32m      5\u001b[0m \u001b[0;34m\u001b[0m\u001b[0m\n\u001b[1;32m      6\u001b[0m     \u001b[0;31m#select entries via indices and calculate new features from them\u001b[0m\u001b[0;34m\u001b[0m\u001b[0;34m\u001b[0m\u001b[0;34m\u001b[0m\u001b[0m\n\u001b[0;32m----> 7\u001b[0;31m     \u001b[0mx_1\u001b[0m \u001b[0;34m=\u001b[0m \u001b[0mnp\u001b[0m\u001b[0;34m.\u001b[0m\u001b[0msum\u001b[0m\u001b[0;34m(\u001b[0m\u001b[0mx\u001b[0m\u001b[0;34m.\u001b[0m\u001b[0mtake\u001b[0m\u001b[0;34m(\u001b[0m\u001b[0midx_1\u001b[0m\u001b[0;34m,\u001b[0m \u001b[0maxis\u001b[0m\u001b[0;34m=\u001b[0m\u001b[0;36m1\u001b[0m\u001b[0;34m)\u001b[0m\u001b[0;34m,\u001b[0m \u001b[0maxis\u001b[0m\u001b[0;34m=\u001b[0m\u001b[0;36m1\u001b[0m\u001b[0;34m)\u001b[0m\u001b[0;34m\u001b[0m\u001b[0;34m\u001b[0m\u001b[0m\n\u001b[0m\u001b[1;32m      8\u001b[0m     \u001b[0mx_7\u001b[0m \u001b[0;34m=\u001b[0m \u001b[0mnp\u001b[0m\u001b[0;34m.\u001b[0m\u001b[0msum\u001b[0m\u001b[0;34m(\u001b[0m\u001b[0mx\u001b[0m\u001b[0;34m.\u001b[0m\u001b[0mtake\u001b[0m\u001b[0;34m(\u001b[0m\u001b[0midx_7\u001b[0m\u001b[0;34m,\u001b[0m \u001b[0maxis\u001b[0m\u001b[0;34m=\u001b[0m\u001b[0;36m1\u001b[0m\u001b[0;34m)\u001b[0m\u001b[0;34m,\u001b[0m \u001b[0maxis\u001b[0m\u001b[0;34m=\u001b[0m\u001b[0;36m1\u001b[0m\u001b[0;34m)\u001b[0m\u001b[0;34m\u001b[0m\u001b[0;34m\u001b[0m\u001b[0m\n\u001b[1;32m      9\u001b[0m     \u001b[0;31m#reduced_x = x.take(idx, axis=1)\u001b[0m\u001b[0;34m\u001b[0m\u001b[0;34m\u001b[0m\u001b[0;34m\u001b[0m\u001b[0m\n",
            "\u001b[0;31mIndexError\u001b[0m: index 19 is out of bounds for axis 1 with size 2"
          ]
        }
      ]
    },
    {
      "cell_type": "markdown",
      "metadata": {
        "id": "iP3U5l6RSDxD"
      },
      "source": [
        "# 3.2 Implement QDA Prediction"
      ]
    },
    {
      "cell_type": "code",
      "metadata": {
        "id": "_di1uWEdU08I"
      },
      "source": [
        "def gaussian(mu, covmat, x): # gaussian, gives the probability of features x for given mu and covmat\n",
        "    return (np.linalg.det(2*np.pi*covmat))**(-0.5)*np.exp(-0.5* np.linalg.inv(covmat).dot(mu-x).dot(mu-x))\n",
        "\n",
        "def predict_qda(mu, covmat, p, test_features):\n",
        "    prob = [[gaussian(mu[i], covmat[i], f) for i in range(2)] for f in test_features] # calculates the probabilities for the two classes\n",
        "    predicted_labels = [1 if p[0]>p[1] else 7 for p in prob] # compares the probabilities and chooses the label with higher probability\n",
        "    return predicted_labels"
      ],
      "execution_count": 19,
      "outputs": []
    },
    {
      "cell_type": "code",
      "metadata": {
        "id": "EEP8ilohU33I",
        "outputId": "2f5ebbce-a277-4db9-f9c8-8ddbe77efd07",
        "colab": {
          "base_uri": "https://localhost:8080/",
          "height": 374
        }
      },
      "source": [
        "# fit the functions to the training data and test it on the training data and test data\n",
        "reduced_x_train = reduce_dim(X_train)\n",
        "reduced_x_test = reduce_dim(X_test)\n",
        "\n",
        "mu, covmat, p = fit_qda(reduced_x_train, y_train)\n",
        "predictions_train = predict_qda(mu, covmat, p, reduced_x_train)\n",
        "predictions_test = predict_qda(mu, covmat, p, reduced_x_test)\n",
        "\n",
        "error_train = sum([1 for i in range(len(y_train)) if predictions_train[i] != y_train[i]])/len(y_train)\n",
        "error_test = sum([1 for i in range(len(y_test)) if predictions_test[i] != y_test[i]])/len(y_test)\n",
        "\n",
        "print(\"error on the train data:\", error_train*100 , \"%\")\n",
        "print(\"error on the test data:\", error_test*100 , \"%\")"
      ],
      "execution_count": 20,
      "outputs": [
        {
          "output_type": "error",
          "ename": "IndexError",
          "evalue": "ignored",
          "traceback": [
            "\u001b[0;31m---------------------------------------------------------------------------\u001b[0m",
            "\u001b[0;31mIndexError\u001b[0m                                Traceback (most recent call last)",
            "\u001b[0;32m<ipython-input-20-3bc85329a9f2>\u001b[0m in \u001b[0;36m<module>\u001b[0;34m()\u001b[0m\n\u001b[0;32m----> 1\u001b[0;31m \u001b[0mreduced_x_train\u001b[0m \u001b[0;34m=\u001b[0m \u001b[0mreduce_dim\u001b[0m\u001b[0;34m(\u001b[0m\u001b[0mX_train\u001b[0m\u001b[0;34m)\u001b[0m\u001b[0;34m\u001b[0m\u001b[0;34m\u001b[0m\u001b[0m\n\u001b[0m\u001b[1;32m      2\u001b[0m \u001b[0mreduced_x_test\u001b[0m \u001b[0;34m=\u001b[0m \u001b[0mreduce_dim\u001b[0m\u001b[0;34m(\u001b[0m\u001b[0mX_test\u001b[0m\u001b[0;34m)\u001b[0m\u001b[0;34m\u001b[0m\u001b[0;34m\u001b[0m\u001b[0m\n\u001b[1;32m      3\u001b[0m \u001b[0;34m\u001b[0m\u001b[0m\n\u001b[1;32m      4\u001b[0m \u001b[0mmu\u001b[0m\u001b[0;34m,\u001b[0m \u001b[0mcovmat\u001b[0m\u001b[0;34m,\u001b[0m \u001b[0mp\u001b[0m \u001b[0;34m=\u001b[0m \u001b[0mfit_qda\u001b[0m\u001b[0;34m(\u001b[0m\u001b[0mreduced_x_train\u001b[0m\u001b[0;34m,\u001b[0m \u001b[0my_train\u001b[0m\u001b[0;34m)\u001b[0m\u001b[0;34m\u001b[0m\u001b[0;34m\u001b[0m\u001b[0m\n\u001b[1;32m      5\u001b[0m \u001b[0mpredictions_train\u001b[0m \u001b[0;34m=\u001b[0m \u001b[0mpredict_qda\u001b[0m\u001b[0;34m(\u001b[0m\u001b[0mmu\u001b[0m\u001b[0;34m,\u001b[0m \u001b[0mcovmat\u001b[0m\u001b[0;34m,\u001b[0m \u001b[0mp\u001b[0m\u001b[0;34m,\u001b[0m \u001b[0mreduced_x_train\u001b[0m\u001b[0;34m)\u001b[0m\u001b[0;34m\u001b[0m\u001b[0;34m\u001b[0m\u001b[0m\n",
            "\u001b[0;32m<ipython-input-8-1d4c10c7a20a>\u001b[0m in \u001b[0;36mreduce_dim\u001b[0;34m(x)\u001b[0m\n\u001b[1;32m      5\u001b[0m \u001b[0;34m\u001b[0m\u001b[0m\n\u001b[1;32m      6\u001b[0m     \u001b[0;31m#select entries via indices and calculate new features from them\u001b[0m\u001b[0;34m\u001b[0m\u001b[0;34m\u001b[0m\u001b[0;34m\u001b[0m\u001b[0m\n\u001b[0;32m----> 7\u001b[0;31m     \u001b[0mx_1\u001b[0m \u001b[0;34m=\u001b[0m \u001b[0mnp\u001b[0m\u001b[0;34m.\u001b[0m\u001b[0msum\u001b[0m\u001b[0;34m(\u001b[0m\u001b[0mx\u001b[0m\u001b[0;34m.\u001b[0m\u001b[0mtake\u001b[0m\u001b[0;34m(\u001b[0m\u001b[0midx_1\u001b[0m\u001b[0;34m,\u001b[0m \u001b[0maxis\u001b[0m\u001b[0;34m=\u001b[0m\u001b[0;36m1\u001b[0m\u001b[0;34m)\u001b[0m\u001b[0;34m,\u001b[0m \u001b[0maxis\u001b[0m\u001b[0;34m=\u001b[0m\u001b[0;36m1\u001b[0m\u001b[0;34m)\u001b[0m\u001b[0;34m\u001b[0m\u001b[0;34m\u001b[0m\u001b[0m\n\u001b[0m\u001b[1;32m      8\u001b[0m     \u001b[0mx_7\u001b[0m \u001b[0;34m=\u001b[0m \u001b[0mnp\u001b[0m\u001b[0;34m.\u001b[0m\u001b[0msum\u001b[0m\u001b[0;34m(\u001b[0m\u001b[0mx\u001b[0m\u001b[0;34m.\u001b[0m\u001b[0mtake\u001b[0m\u001b[0;34m(\u001b[0m\u001b[0midx_7\u001b[0m\u001b[0;34m,\u001b[0m \u001b[0maxis\u001b[0m\u001b[0;34m=\u001b[0m\u001b[0;36m1\u001b[0m\u001b[0;34m)\u001b[0m\u001b[0;34m,\u001b[0m \u001b[0maxis\u001b[0m\u001b[0;34m=\u001b[0m\u001b[0;36m1\u001b[0m\u001b[0;34m)\u001b[0m\u001b[0;34m\u001b[0m\u001b[0;34m\u001b[0m\u001b[0m\n\u001b[1;32m      9\u001b[0m     \u001b[0;31m#reduced_x = x.take(idx, axis=1)\u001b[0m\u001b[0;34m\u001b[0m\u001b[0;34m\u001b[0m\u001b[0;34m\u001b[0m\u001b[0m\n",
            "\u001b[0;31mIndexError\u001b[0m: index 19 is out of bounds for axis 1 with size 2"
          ]
        }
      ]
    },
    {
      "cell_type": "markdown",
      "metadata": {
        "id": "UrH0s9pwSLD-"
      },
      "source": [
        "# 3.3 Visualization"
      ]
    },
    {
      "cell_type": "code",
      "metadata": {
        "id": "2Jjvhc2uU-g2"
      },
      "source": [
        "mu, covmat, p = fit_qda(reduced_x_train, y_train)\n",
        "eig_val_1 , eig_vec_1 = np.linalg.eig(covmat[0])\n",
        "eig_val_7 , eig_vec_7 = np.linalg.eig(covmat[1])\n",
        "\n",
        "fig, ax = plt.subplots()\n",
        "\n",
        "color= ['red' if y == 1 else 'green' for y in y_filter]\n",
        "ax.scatter(reduced_x[:,0], reduced_x[:,1], c=color)\n",
        "\n",
        "ax.set_xlabel(r'$Feature 1$', fontsize=15)\n",
        "ax.set_ylabel(r'$Feature 2$', fontsize=15)\n",
        "ax.set_title('Dataset of 1s and 7s in reduced feature space')\n",
        "\n",
        "x = np.arange(0, 32, 1)\n",
        "y = np.arange(0, 32, 1)\n",
        "xg, yg = np.meshgrid(x, y)\n",
        "z1 = [[gaussian(mu[0], covmat[0], [xx,yy]) for xx in x] for yy in y]\n",
        "z7 = [[gaussian(mu[1], covmat[1], [xx,yy]) for xx in x] for yy in y]\n",
        "plt.contour(z1)\n",
        "plt.contour(z7)\n",
        "\n",
        "vec_1 = np.array([eig_vec_1[i]*np.sqrt(eig_val_1[i]) for i in range(2)])\n",
        "vec_7 = np.array([-eig_vec_7[i]*np.sqrt(eig_val_7[i]) for i in range(2)])\n",
        "origin_1 = np.transpose(np.array([mu[0], mu[0]]), [1,0])\n",
        "origin_7 = np.transpose(np.array([mu[1], mu[1]]), [1,0])\n",
        "plt.quiver(*origin_1, vec_1[:, 0], vec_1[:, 1], color=['green','green'], scale =32)\n",
        "plt.quiver(*origin_7, vec_7[:, 0], vec_7[:, 1], color=['red','red'], scale =32)\n",
        "\n",
        "fig.tight_layout()\n",
        "plt.show()"
      ],
      "execution_count": null,
      "outputs": []
    },
    {
      "cell_type": "markdown",
      "metadata": {
        "id": "tHnd0qLGTd2e"
      },
      "source": [
        "# 3.4 Performance evaluation"
      ]
    }
  ]
}