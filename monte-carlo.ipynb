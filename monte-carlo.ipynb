{
  "nbformat": 4,
  "nbformat_minor": 5,
  "metadata": {
    "kernelspec": {
      "display_name": "Python 3 (ipykernel)",
      "language": "python",
      "name": "python3"
    },
    "language_info": {
      "codemirror_mode": {
        "name": "ipython",
        "version": 3
      },
      "file_extension": ".py",
      "mimetype": "text/x-python",
      "name": "python",
      "nbconvert_exporter": "python",
      "pygments_lexer": "ipython3",
      "version": "3.9.7"
    },
    "colab": {
      "name": "monte-carlo.ipynb",
      "provenance": []
    }
  },
  "cells": [
    {
      "cell_type": "markdown",
      "metadata": {
        "id": "6Fgccpyff_0r"
      },
      "source": [
        "# Hint"
      ],
      "id": "6Fgccpyff_0r"
    },
    {
      "cell_type": "markdown",
      "metadata": {
        "id": "DFqU6ATlgG3K"
      },
      "source": [
        "I found out: Mathematical symbols can be written using markdown language.\n",
        "\n",
        "Example:\n",
        "\n",
        "$\\int_{5}^{10} f(x)dx$\n",
        "\n",
        "Formulas can also be constructed by using this (not very fancy looking) graphical editor:\n",
        "\n",
        "https://www.codecogs.com/eqnedit.php"
      ],
      "id": "DFqU6ATlgG3K"
    },
    {
      "cell_type": "markdown",
      "metadata": {
        "id": "0e07769a"
      },
      "source": [
        "# Exercise 1\n"
      ],
      "id": "0e07769a"
    },
    {
      "cell_type": "code",
      "metadata": {
        "id": "8c708dd0"
      },
      "source": [
        "import numpy as np\n",
        "import numpy.random as ra\n",
        "from matplotlib import pyplot as plt\n",
        "from matplotlib import colors\n",
        "from matplotlib.ticker import PercentFormatter\n",
        "import sklearn\n",
        "import math"
      ],
      "id": "8c708dd0",
      "execution_count": 3,
      "outputs": []
    },
    {
      "cell_type": "markdown",
      "metadata": {
        "id": "eb96da26"
      },
      "source": [
        "For inverse transform sampling we need to work out the CDFs for both likelihoods:\n",
        "\n",
        "-> for Y=0: P(X=x|Y=0) = 2-2x\n",
        "\n",
        "CDF (c) is integral of this wrt x: c = 2x - x²\n",
        "\n",
        "Inverse-CDF: x = -sqrt(-c+1) + 1 (other solution ignored since we want this part)\n",
        "\n",
        "-> for Y=1: P(X=x|Y=1) = 2x\n",
        "\n",
        "CDF is integral of this wrt x: c = x² *(don't forget that this equation also has two solutions)*\n",
        "\n",
        "Inverse-CDF: x = sqrt(c)\n",
        "\n",
        "---\n",
        "\n",
        "Regarding your question: I would justify it like this:\n",
        "\n",
        "Given: $X \\in [0,1] \\; \\wedge \\;  c \\in [0,1]$\n",
        "\n",
        "Solutions: \n",
        "\n",
        "$x_{1} = 1 + \\sqrt{1-c}$,\n",
        "\n",
        "$x_{2} = 1 - \\sqrt{1-c}$\n",
        "\n",
        "$x_{1}$ is ignored because $x_{1} \\notin [0,1]$ for all $c \\neq 1$.\n",
        "\n",
        "And for the second equation:\n",
        "\n",
        "$x_{1} = \\sqrt{c}$,\n",
        "\n",
        "$x_{2} = - \\sqrt{c}$\n",
        "\n",
        "$x_{2}$ is ignored because $x_{2} \\notin [0,1]$ for all $c \\neq 0$.\n",
        "\n"
      ],
      "id": "eb96da26"
    },
    {
      "cell_type": "code",
      "metadata": {
        "id": "2883b5e9"
      },
      "source": [
        "#this function does what the exercises requires\n",
        "def create_data(N): #N is number of data instances\n",
        "    labels = ra.uniform(0,1,N) #sample from uniform distribution to get a label\n",
        "    labels[labels >= 0.5] = 1 #assign labels based on random sampling\n",
        "    labels[labels < 0.5] = 0\n",
        "    features = []\n",
        "    \n",
        "    for i in labels:\n",
        "        rand = float(ra.uniform(0,1,1))#sample from uniform distribution to get a random number as input for CDF\n",
        "        if i==1:\n",
        "            features.append(math.sqrt(rand))\n",
        "        elif i==0:\n",
        "            features.append(-math.sqrt(-rand+1)+1)\n",
        "        else:\n",
        "            print(\"Error; label assignement did not work\")\n",
        "        \n",
        "    return labels, features"
      ],
      "id": "2883b5e9",
      "execution_count": 12,
      "outputs": []
    },
    {
      "cell_type": "code",
      "metadata": {
        "id": "6c3536f5"
      },
      "source": [
        "y,x = create_data(100000)\n",
        "#print(y)\n",
        "#print(x)\n",
        "\n",
        "counter = 0\n",
        "x0 = []\n",
        "x1 = []\n",
        "\n",
        "#split datasets via label for better visualisation\n",
        "for i in x:\n",
        "    if y[counter]==1:\n",
        "        x1.append(i)\n",
        "    elif y[counter]==0:\n",
        "        x0.append(i)\n",
        "    counter+=1\n",
        "    \n",
        "print(x0)\n",
        "print(x1)"
      ],
      "id": "6c3536f5",
      "execution_count": null,
      "outputs": []
    },
    {
      "cell_type": "code",
      "metadata": {
        "colab": {
          "base_uri": "https://localhost:8080/",
          "height": 603
        },
        "id": "08932b98",
        "outputId": "5d49b544-b513-4dba-b54f-974196cba921"
      },
      "source": [
        "#histogram plotting\n",
        "n_bins = 50\n",
        "\n",
        "fig, axs = plt.subplots(1, 2, sharey=True, tight_layout=True)\n",
        "\n",
        "#color= ['red' if l == 0 else 'green' for l in y]\n",
        "# We can set the number of bins with the `bins` kwarg\n",
        "axs[0].hist(x0, bins=n_bins)\n",
        "axs[1].hist(x1, bins=n_bins)"
      ],
      "id": "08932b98",
      "execution_count": 16,
      "outputs": [
        {
          "output_type": "execute_result",
          "data": {
            "text/plain": [
              "(array([  24.,   70.,  104.,  156.,  164.,  225.,  279.,  305.,  337.,\n",
              "         394.,  431.,  482.,  516.,  564.,  596.,  652.,  675.,  702.,\n",
              "         779.,  773.,  832.,  841.,  892.,  922.,  959., 1083., 1043.,\n",
              "        1129., 1174., 1155., 1219., 1219., 1368., 1355., 1395., 1322.,\n",
              "        1365., 1416., 1528., 1577., 1641., 1666., 1742., 1736., 1853.,\n",
              "        1815., 1817., 1906., 1940., 1936.]),\n",
              " array([0.0016928 , 0.02165857, 0.04162435, 0.06159012, 0.08155589,\n",
              "        0.10152166, 0.12148744, 0.14145321, 0.16141898, 0.18138475,\n",
              "        0.20135052, 0.2213163 , 0.24128207, 0.26124784, 0.28121361,\n",
              "        0.30117939, 0.32114516, 0.34111093, 0.3610767 , 0.38104247,\n",
              "        0.40100825, 0.42097402, 0.44093979, 0.46090556, 0.48087134,\n",
              "        0.50083711, 0.52080288, 0.54076865, 0.56073442, 0.5807002 ,\n",
              "        0.60066597, 0.62063174, 0.64059751, 0.66056329, 0.68052906,\n",
              "        0.70049483, 0.7204606 , 0.74042637, 0.76039215, 0.78035792,\n",
              "        0.80032369, 0.82028946, 0.84025524, 0.86022101, 0.88018678,\n",
              "        0.90015255, 0.92011833, 0.9400841 , 0.96004987, 0.98001564,\n",
              "        0.99998141]),\n",
              " <a list of 50 Patch objects>)"
            ]
          },
          "metadata": {},
          "execution_count": 16
        },
        {
          "output_type": "display_data",
          "data": {
            "image/png": "[encoded data removed]",
            "text/plain": [
              "<Figure size 432x288 with 2 Axes>"
            ]
          },
          "metadata": {
            "needs_background": "light"
          }
        }
      ]
    }
  ]
}