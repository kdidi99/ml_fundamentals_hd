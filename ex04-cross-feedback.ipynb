{
 "cells": [
  {
   "cell_type": "markdown",
   "metadata": {},
   "source": [
    "# Exercise 4 - Tree based machine learning\n",
    "\n",
    "\n",
    "### By Dominik Geng and Joshua Zielinski "
   ]
  },
  {
   "cell_type": "markdown",
   "metadata": {},
   "source": [
    "## Preliminaries"
   ]
  },
  {
   "cell_type": "code",
   "execution_count": 1,
   "metadata": {},
   "outputs": [],
   "source": [
    "# import modules\n",
    "import numpy as np\n",
    "\n",
    "import matplotlib.pyplot as plt"
   ]
  },
  {
   "cell_type": "code",
   "execution_count": 2,
   "metadata": {},
   "outputs": [],
   "source": [
    "# base classes\n",
    "\n",
    "class Node:\n",
    "    pass\n",
    "\n",
    "class Tree:\n",
    "    def __init__(self):\n",
    "        self.root = Node()\n",
    "    \n",
    "    def find_leaf(self, x):\n",
    "        node = self.root\n",
    "        while hasattr(node, \"feature\"):\n",
    "            j = node.feature\n",
    "            if x[j] <= node.threshold:\n",
    "                node = node.left\n",
    "            else:\n",
    "                node = node.right\n",
    "        return node"
   ]
  },
  {
   "cell_type": "markdown",
   "metadata": {},
   "source": [
    "## Density Tree"
   ]
  },
  {
   "cell_type": "code",
   "execution_count": 3,
   "metadata": {},
   "outputs": [],
   "source": [
    "class DensityTree(Tree):\n",
    "    def __init__(self):\n",
    "        super(DensityTree, self).__init__()\n",
    "        \n",
    "    def train(self, data, prior, n_min=20):\n",
    "        '''\n",
    "        data: the feature matrix for the digit under consideration\n",
    "        prior: the prior probability of this digit\n",
    "        n_min: termination criterion (don't split if a node contains fewer instances)\n",
    "        '''\n",
    "        self.prior = prior\n",
    "        N, D = data.shape\n",
    "        D_try = int(np.sqrt(D)) # number of features to consider for each split decision\n",
    "\n",
    "        # find and remember the tree's bounding box, \n",
    "        # i.e. the lower and upper limits of the training feature set\n",
    "        m, M = np.min(data, axis=0), np.max(data, axis=0)\n",
    "        self.box = m.copy(), M.copy()\n",
    "        \n",
    "        # identify invalid features and adjust the bounding box\n",
    "        # (If m[j] == M[j] for some j, the bounding box has zero volume, \n",
    "        #  causing divide-by-zero errors later on. We must exclude these\n",
    "        #  features from splitting and adjust the bounding box limits \n",
    "        #  such that invalid features have no effect on the volume.)\n",
    "        valid_features   = np.where(m != M)[0]\n",
    "        invalid_features = np.where(m == M)[0]\n",
    "        M[invalid_features] = m[invalid_features] + 1\n",
    "\n",
    "        # initialize the root node\n",
    "        self.root.data = data\n",
    "        self.root.box = m.copy(), M.copy()\n",
    "\n",
    "        # build the tree\n",
    "        stack = [self.root]\n",
    "        while len(stack):\n",
    "            node = stack.pop()\n",
    "            n = node.data.shape[0] # number of instances in present node\n",
    "            if n >= n_min:\n",
    "                # Call 'make_density_split_node()' with 'D_try' randomly selected \n",
    "                # indices from 'valid_features'. This turns 'node' into a split node\n",
    "                # and returns the two children, which must be placed on the 'stack'.\n",
    "                 # your code here\n",
    "                feature_indices = np.random.permutation(valid_features)[0:D_try]\n",
    "                left,right = make_density_split_node(node,N,feature_indices)\n",
    "                stack.append(left)\n",
    "                stack.append(right)\n",
    "            else:\n",
    "                # Call 'make_density_leaf_node()' to turn 'node' into a leaf node.\n",
    "                make_density_leaf_node(node, N)\n",
    "\n",
    "    def predict(self, x):\n",
    "        leaf = self.find_leaf(x)\n",
    "        # return p(x | y) * p(y) if x is within the tree's bounding box \n",
    "        # and return 0 otherwise\n",
    "        m,M = self.box\n",
    "        p_x_given_y = leaf.response\n",
    "        indicator = np.where(((M-x) >= 0) * ((x-m) >= 0),1,0).prod()\n",
    "        return indicator * p_x_given_y * self.prior"
   ]
  },
  {
   "cell_type": "code",
   "execution_count": 4,
   "metadata": {},
   "outputs": [],
   "source": [
    "def get_new_boxes(m,M,t,j):\n",
    "    m_l = m.copy()\n",
    "    M_l = np.where(np.arange(len(m)) == j, t,M.copy())\n",
    "    m_r = np.where(np.arange(len(m)) == j, t,m.copy())\n",
    "    M_r = M.copy()\n",
    "    \n",
    "    return (m_l,M_l),(m_r,M_r)\n",
    "    \n",
    "def make_density_split_node(node, N, feature_indices):\n",
    "    '''\n",
    "    node: the node to be split\n",
    "    N:    the total number of training instances for the current class\n",
    "    feature_indices: a numpy array of length 'D_try', containing the feature \n",
    "                     indices to be considered in the present split\n",
    "    '''\n",
    "    n, D = node.data.shape\n",
    "    m, M = node.box\n",
    "\n",
    "    # find best feature j (among 'feature_indices') and best threshold t for the split\n",
    "    e_min = float(\"inf\")\n",
    "    j_min, t_min = None, None\n",
    "    V = np.prod(M-m)\n",
    "    \n",
    "    for j in feature_indices:\n",
    "        # Hint: For each feature considered, first remove duplicate feature values using \n",
    "        # 'np.unique()'. Describe here why this is necessary.\n",
    "        data_unique = np.unique((node.data[:, j]))\n",
    "    #this was necessary to sort the data in order to place a candidate threshold in the midde of all gaps.\n",
    "    #\n",
    "        # Compute candidate thresholds\n",
    "        tj = (data_unique[:-1]+data_unique[1:]) / 2\n",
    "                                \n",
    "        \n",
    "        # Illustration: for loop - hint: vectorized version is possible\n",
    "        for t in tj:\n",
    "            # Compute the error\n",
    "                                \n",
    "            N_l = len(np.where(data_unique < t))                     \n",
    "            \n",
    "                                \n",
    "           \n",
    "            \n",
    "                                   \n",
    "            V_l = V * (tj-m[j])/(M[j]-m[j])\n",
    "            V_r = V * (M[j]-tj)/(M[j]-m[j])\n",
    "        \n",
    "            N_l = np.less(node.data[:,j],tj.reshape(-1,1)).sum(axis = 1)\n",
    "            N_r = n - N_l\n",
    "        \n",
    "            loo_error = N_l / (N*V_l) *(N_l / N - 2*(N_l-1)/(N-1)) + N_r / (N*V_r) *(N_r / N - 2*(N_r-1)/(N-1))\n",
    "            # choose the best threshold that\n",
    "                                \n",
    "            if len(loo_error) == 0: continue\n",
    "            i= np.argmin(loo_error)\n",
    "            loo_error = min(loo_error)                   \n",
    "                                   \n",
    "            if loo_error < e_min:\n",
    "                e_min = loo_error\n",
    "                j_min = j\n",
    "                t_min = tj[i]\n",
    "\n",
    "    # create children\n",
    "    left = Node()\n",
    "    right = Node()\n",
    "    \n",
    "    # initialize 'left' and 'right' with the data subsets and bounding boxes\n",
    "    # according to the optimal split found above\n",
    "    left.data = node.data[node.data[:,j_min] < t_min].copy()\n",
    "    right.data = node.data[node.data[:,j_min] > t_min].copy()\n",
    "    left.box,right.box = get_new_boxes(m,M,t_min,j_min)\n",
    "\n",
    "                                   \n",
    "                      \n",
    "                                   \n",
    "                                   \n",
    "    # turn the current 'node' into a split node\n",
    "    # (store children and split condition)\n",
    "    node.left = left\n",
    "    node.right = right\n",
    "    node.feature = j_min\n",
    "    node.threshold = t_min\n",
    "\n",
    "    # return the children (to be placed on the stack)\n",
    "    return left, right"
   ]
  },
  {
   "cell_type": "code",
   "execution_count": 5,
   "metadata": {},
   "outputs": [],
   "source": [
    "def make_density_leaf_node(node, N):\n",
    "    '''\n",
    "    node: the node to become a leaf\n",
    "    N:    the total number of training instances for the current class\n",
    "    '''\n",
    "    # compute and store leaf response\n",
    "    n = node.data.shape[0]\n",
    "    v = np.prod(node.box[1]-node.box[0])\n",
    "    node.response = n / (N*v)"
   ]
  },
  {
   "cell_type": "markdown",
   "metadata": {},
   "source": [
    "## Decision Tree"
   ]
  },
  {
   "cell_type": "code",
   "execution_count": 6,
   "metadata": {
    "jupyter": {
     "outputs_hidden": true
    }
   },
   "outputs": [],
   "source": [
    "class DecisionTree(Tree):\n",
    "    def __init__(self):\n",
    "        super(DecisionTree, self).__init__()\n",
    "        \n",
    "    def train(self, data, labels, n_min=20):\n",
    "        '''\n",
    "        data: the feature matrix for all digits\n",
    "        labels: the corresponding ground-truth responses\n",
    "        n_min: termination criterion (don't split if a node contains fewer instances)\n",
    "        '''\n",
    "        N, D = data.shape\n",
    "        D_try = int(np.sqrt(D)) # how many features to consider for each split decision\n",
    "\n",
    "        # initialize the root node\n",
    "        self.root.data = data\n",
    "        self.root.labels = labels\n",
    "        \n",
    "        stack = [self.root]\n",
    "        while len(stack):\n",
    "            node = stack.pop()\n",
    "            n = node.data.shape[0] # number of instances in present node\n",
    "            if n >= n_min and not node_is_pure(node):\n",
    "                # Call 'make_decision_split_node()' with 'D_try' randomly selected \n",
    "                # feature indices. This turns 'node' into a split node\n",
    "                # and returns the two children, which must be placed on the 'stack'.\n",
    "                \n",
    "                \n",
    "                #we do this, to avoid, the case that there are only instances with the same value in each of the selected features\n",
    "                mask = np.array([len(np.unique(node.data[:,c])) != 1 for c in range(node.data.shape[1])])\n",
    "                good_features = np.arange(node.data.shape[1])[mask]\n",
    "                feature_indices = np.random.permutation(good_features)[0:D_try]\n",
    "                    \n",
    "                left,right = make_decision_split_node(node,feature_indices)\n",
    "                stack.append(left)\n",
    "                stack.append(right)\n",
    "            else:\n",
    "                # Call 'make_decision_leaf_node()' to turn 'node' into a leaf node.\n",
    "                make_decision_leaf_node(node)\n",
    "                \n",
    "    def predict(self, x):\n",
    "        leaf = self.find_leaf(x)\n",
    "        # compute p(y | x)\n",
    "        return leaf.response"
   ]
  },
  {
   "cell_type": "code",
   "execution_count": 7,
   "metadata": {
    "jupyter": {
     "outputs_hidden": true
    }
   },
   "outputs": [],
   "source": [
    "def make_decision_split_node(node, feature_indices):\n",
    "    '''\n",
    "    node: the node to be split\n",
    "    feature_indices: a numpy array of length 'D_try', containing the feature \n",
    "                     indices to be considered in the present split\n",
    "    '''\n",
    "    n, D = node.data.shape\n",
    "\n",
    "    # find best feature j (among 'feature_indices') and best threshold t for the split\n",
    "    e_min = float(\"inf\")\n",
    "    j_min, t_min = None, None\n",
    "        \n",
    "    for j in feature_indices:\n",
    "        data_unique = np.unique(node.data[:, j])\n",
    "\n",
    "        # Compute candidate thresholds\n",
    "        tj = (data_unique[:-1]+data_unique[1:]) / 2\n",
    "        \n",
    "        N_l = np.less(node.data[:,j],tj.reshape(-1,1)).sum(axis = 1)\n",
    "        N_r = n - N_l\n",
    "    \n",
    "    for t in tj:\n",
    "            N_l = np.where(node.data[:, j] < t,True,False).sum() \n",
    "            N_r = np.where(node.data[:, j] > t,True,False).sum()\n",
    "         \n",
    "            gini_left = N_l* (1-((np.unique(node.labels[node.data[:,j] < t], return_counts=True)[1])**2 / N_l**2).sum())\n",
    "            gini_right  = N_r * (1-((np.unique(node.labels[node.data[:,j] > t], return_counts=True)[1])**2 / N_r**2).sum())\n",
    "            gini = gini_left+gini_right\n",
    "\n",
    "            # choose the best threshold that\n",
    "            if gini < e_min:\n",
    "                    e_min = gini\n",
    "                    j_min = j\n",
    "                    t_min = t\n",
    "\n",
    "    # create children\n",
    "    left = Node()\n",
    "    right = Node()\n",
    "    \n",
    "    # initialize 'left' and 'right' with the data subsets and labels\n",
    "    # according to the optimal split found above\n",
    "    left.data = node.data[node.data[:,j_min] < t_min] # data in left node\n",
    "    left.labels = node.labels[node.data[:,j_min] < t_min] # corresponding labels\n",
    "    right.data = node.data[node.data[:,j_min] > t_min]\n",
    "    right.labels = node.labels[node.data[:,j_min] > t_min]\n",
    "\n",
    "    # turn the current 'node' into a split node\n",
    "    # (store children and split condition)\n",
    "    node.left = left\n",
    "    node.right = right\n",
    "    node.feature = j_min\n",
    "    node.threshold = t_min\n",
    "\n",
    "    # return the children (to be placed on the stack)\n",
    "    return left, right    "
   ]
  },
  {
   "cell_type": "code",
   "execution_count": 8,
   "metadata": {
    "jupyter": {
     "outputs_hidden": true
    }
   },
   "outputs": [],
   "source": [
    "def make_decision_leaf_node(node):\n",
    "    '''\n",
    "    node: the node to become a leaf\n",
    "    '''\n",
    "    # compute and store leaf response\n",
    "    node.N = len(node.labels)\n",
    "    dist = np.zeros(10)\n",
    "    uniques,counts = np.unique(node.labels, return_counts=True)\n",
    "    dist[uniques] = counts\n",
    "    dist /= node.N\n",
    "    node.response = dist"
   ]
  },
  {
   "cell_type": "code",
   "execution_count": 9,
   "metadata": {
    "jupyter": {
     "outputs_hidden": true
    }
   },
   "outputs": [],
   "source": [
    "def node_is_pure(node):\n",
    "    '''\n",
    "    check if 'node' ontains only instances of the same digit\n",
    "    '''\n",
    "    return len(np.unique(node.labels)) == 1"
   ]
  },
  {
   "cell_type": "markdown",
   "metadata": {},
   "source": [
    "## Evaluation of Density and Decision Tree"
   ]
  },
  {
   "cell_type": "code",
   "execution_count": 10,
   "metadata": {
    "jupyter": {
     "outputs_hidden": true
    }
   },
   "outputs": [],
   "source": [
    "# read and prepare the digits data\n",
    "from sklearn.datasets import load_digits\n",
    "\n",
    "loader = load_digits()\n",
    "\n",
    "data= loader[\"data\"]\n",
    "targets = loader[\"target\"]\n",
    "target_names = loader[\"target_names\"]"
   ]
  },
  {
   "cell_type": "code",
   "execution_count": 11,
   "metadata": {
    "jupyter": {
     "outputs_hidden": true
    }
   },
   "outputs": [],
   "source": [
    "# train trees, plot training error confusion matrices, and comment on your results\n",
    "decision_tree = DecisionTree()\n",
    "decision_tree.train(data, targets,n_min = 10)"
   ]
  },
  {
   "cell_type": "code",
   "execution_count": 12,
   "metadata": {},
   "outputs": [],
   "source": [
    "#Trainig of the Density trees\n",
    "C = len(target_names)\n",
    "density_trees = []\n",
    "for K in range(C):\n",
    "    tree = DensityTree()\n",
    "    prior = (targets == K).sum() / len(targets)\n",
    "    tree.train(data[targets == K], prior, n_min=10)\n",
    "    density_trees.append(tree)"
   ]
  },
  {
   "cell_type": "code",
   "execution_count": 13,
   "metadata": {},
   "outputs": [],
   "source": [
    "def get_prediction(data,decision_tree,density_trees):\n",
    "    posterior_decision = np.zeros([len(data),10])\n",
    "    posterior_density = np.zeros([len(data),10])\n",
    "\n",
    "    for i in range(len(data)):\n",
    "        posterior_decision[i] = decision_tree.predict(data[i])\n",
    "        posterior_density[i] = np.array([t.predict(data[i]) for t in density_trees])\n",
    "    \n",
    "    prediction_density = np.argmax(posterior_density,axis = 1)\n",
    "    prediction_decision = np.argmax(posterior_decision,axis = 1)\n",
    "    return prediction_density,prediction_decision"
   ]
  },
  {
   "cell_type": "code",
   "execution_count": 14,
   "metadata": {},
   "outputs": [],
   "source": [
    "def draw_conv_mat(predictions,target = targets,titles = [\"density\",\"decision\"]):\n",
    "    plt.figure(figsize = (10,30))\n",
    "    n = len(predictions)\n",
    "    \n",
    "    for i in range(0,len(predictions)):\n",
    "        plt.subplot(1,2,i+1)\n",
    "        plt.title(\"confusion matrix for \"+titles[i]+\" tree\",fontsize = 15)\n",
    "        decision_conv = np.zeros((10,10))\n",
    "        points = np.concatenate((predictions[i].reshape(-1,1),targets.reshape(-1,1)),axis = 1)\n",
    "        points,counts = np.unique(points,return_counts = True,axis = 0)\n",
    "        decision_conv[points[:,0],points[:,1]] = counts\n",
    "\n",
    "        plt.xlabel(\"target\",fontsize = 15)\n",
    "        plt.ylabel(\"prediction\",fontsize = 15)\n",
    "\n",
    "        plt.xticks([0,1,2,3,4,5,6,7,8,9],fontsize = 15)\n",
    "        plt.yticks([0,1,2,3,4,5,6,7,8,9],fontsize = 15)\n",
    "        plt.imshow(decision_conv)"
   ]
  },
  {
   "cell_type": "code",
   "execution_count": 15,
   "metadata": {},
   "outputs": [],
   "source": [
    "#evaluate the trees\n",
    "prediction_density_tree,prediction_decision_tree = get_prediction(data,decision_tree,density_trees)\n",
    "\n",
    "#get the rates of correct predictions\n",
    "rate_decision = (prediction_decision_tree == targets).sum() / len(targets)\n",
    "rate_density = (prediction_density_tree == targets).sum() / len(targets)"
   ]
  },
  {
   "cell_type": "code",
   "execution_count": 17,
   "metadata": {},
   "outputs": [
    {
     "name": "stdout",
     "output_type": "stream",
     "text": [
      "rate of correct predictions of the decision tree: 81.58%\n",
      "rate of correct predictions of the density tree: 78.69%\n"
     ]
    }
   ],
   "source": [
    "print(f\"rate of correct predictions of the decision tree: {round(rate_decision,4)*100}%\")\n",
    "print(f\"rate of correct predictions of the density tree: {round(rate_density,4)*100}%\")"
   ]
  },
  {
   "cell_type": "code",
   "execution_count": 18,
   "metadata": {},
   "outputs": [
    {
     "data": {
      "image/png": "[encoded data removed]",
      "text/plain": [
       "<Figure size 720x2160 with 2 Axes>"
      ]
     },
     "metadata": {
      "needs_background": "light"
     },
     "output_type": "display_data"
    }
   ],
   "source": [
    "#visualize the confusion matrix\n",
    "draw_conv_mat([prediction_density_tree,prediction_decision_tree])"
   ]
  },
  {
   "cell_type": "markdown",
   "metadata": {},
   "source": [
    "We see, that the two different trees have a different performance. The density tree has some problems to correctly classify the 2s and 9s, whereas the decision tree has almost no problem to predict any label correct. We observe, that for both trees, there is a relativelyy high propability to predict the 1,2, and 3 as an 8, but this behaviour is much more visible for the decision tree. <br> Why do we observe such a behaviour? Lets first look at the density trees. The density trees try to determine, how probable a set of features is given a certain digit. Therefore it can happen, that that the two trees trained in different digits can give high densities for the other digit in case the two digits look very similar (e.g. if we have a 3 and almost close it on the left side, it looks similar to a 8, so it can reach a high density in the tree trained on the 8. This can be one explanation for the high rate of 3 falsely classified as 8). This behaviour is supported by the fact, that the prediction using a density tree uses 10 different trees, which predict their density independently from each other. The decision tree is a single tree, handling all different classes. Therefore it can more easily seperate (at least on the training data) the classes until it has a pure leaf. This helps to avoid high posteriors for two differnt classes as observed with the density tree."
   ]
  },
  {
   "cell_type": "markdown",
   "metadata": {},
   "source": [
    "## Density and Decision Forest"
   ]
  },
  {
   "cell_type": "code",
   "execution_count": 19,
   "metadata": {},
   "outputs": [],
   "source": [
    "class DensityForest():\n",
    "    def __init__(self, n_trees):\n",
    "        # create ensemble\n",
    "        self.trees = [DensityTree() for i in range(n_trees)]\n",
    "    \n",
    "    def train(self, data, prior, n_min=20):\n",
    "        for tree in self.trees:\n",
    "            # train each tree, using a bootstrap sample of the data\n",
    "            indices = np.random.choice(np.arange(len(data)),len(data),replace = True)\n",
    "            tree.train(data[indices],prior,n_min)\n",
    "\n",
    "    def predict(self, x):\n",
    "        # compute the ensemble prediction\n",
    "        return np.array([tree.predict(x) for tree in self.trees]).mean()\n",
    "\n"
   ]
  },
  {
   "cell_type": "code",
   "execution_count": 20,
   "metadata": {},
   "outputs": [],
   "source": [
    "class DecisionForest():\n",
    "    def __init__(self, n_trees):\n",
    "        # create ensemble\n",
    "        self.trees = [DecisionTree() for i in range(n_trees)]\n",
    "    \n",
    "    def train(self, data, labels, n_min=20):\n",
    "        for tree in self.trees:\n",
    "            # train each tree, using a bootstrap sample of the data\n",
    "            indices = np.random.choice(np.arange(len(data)),len(data),replace = True)\n",
    "            tree.train(data[indices],labels[indices],n_min)\n",
    "            \n",
    "\n",
    "    def predict(self, x):\n",
    "        # compute the ensemble prediction\n",
    "        posteriors = np.zeros(10)\n",
    "        for tree in self.trees:\n",
    "            posteriors += tree.predict(x)\n",
    "        return posteriors / len(self.trees)"
   ]
  },
  {
   "cell_type": "markdown",
   "metadata": {},
   "source": [
    "## Evaluation of Density and Decision Forest"
   ]
  },
  {
   "cell_type": "code",
   "execution_count": 21,
   "metadata": {
    "jupyter": {
     "outputs_hidden": true
    }
   },
   "outputs": [],
   "source": [
    "# train forests (with 20 trees per forest), plot training error confusion matrices, and comment on your results\n",
    "n_trees = 20\n",
    "\n",
    "#Trainig of the density forests\n",
    "C = len(target_names)\n",
    "density_forrests = []\n",
    "for K in range(C):\n",
    "    forrest = DensityForest(n_trees = 20)\n",
    "    prior = (targets == K).sum() / len(targets)\n",
    "    forrest.train(data[targets == K], prior, n_min=15)\n",
    "    density_forrests.append(forrest)"
   ]
  },
  {
   "cell_type": "code",
   "execution_count": 22,
   "metadata": {},
   "outputs": [],
   "source": [
    "#Training of decision forest\n",
    "decision_forest = DecisionForest(n_trees = 20)\n",
    "decision_forest.train(data, targets,n_min = 0)"
   ]
  },
  {
   "cell_type": "code",
   "execution_count": 23,
   "metadata": {},
   "outputs": [
    {
     "name": "stdout",
     "output_type": "stream",
     "text": [
      "10\n"
     ]
    }
   ],
   "source": [
    "#evaluate the forests\n",
    "print(len(density_forrests))\n",
    "prediction_density,prediction_decision = get_prediction(data,decision_forest,density_forrests)\n",
    "\n",
    "#get the rates of correct predictions\n",
    "rate_decision = (prediction_decision == targets).sum() / len(targets)\n",
    "rate_density = (prediction_density == targets).sum() / len(targets)"
   ]
  },
  {
   "cell_type": "code",
   "execution_count": 24,
   "metadata": {},
   "outputs": [
    {
     "name": "stdout",
     "output_type": "stream",
     "text": [
      "rate of correct predictions of the decision forrest: 100.0%\n",
      "rate of correct predictions of the density forrests: 89.71000000000001%\n"
     ]
    }
   ],
   "source": [
    "print(f\"rate of correct predictions of the decision forrest: {round(rate_decision,4)*100}%\")\n",
    "print(f\"rate of correct predictions of the density forrests: {round(rate_density,4)*100}%\")"
   ]
  },
  {
   "cell_type": "code",
   "execution_count": 25,
   "metadata": {},
   "outputs": [
    {
     "data": {
      "image/png": "[encoded data removed]",
      "text/plain": [
       "<Figure size 720x2160 with 2 Axes>"
      ]
     },
     "metadata": {
      "needs_background": "light"
     },
     "output_type": "display_data"
    }
   ],
   "source": [
    "#visualize the confusion matrix\n",
    "draw_conv_mat([prediction_density,prediction_decision])"
   ]
  },
  {
   "cell_type": "code",
   "execution_count": 26,
   "metadata": {},
   "outputs": [],
   "source": [
    "from sklearn.ensemble import RandomForestClassifier as skl_clf\n"
   ]
  },
  {
   "cell_type": "code",
   "execution_count": 27,
   "metadata": {},
   "outputs": [
    {
     "data": {
      "text/plain": [
       "RandomForestClassifier(bootstrap=True, class_weight=None, criterion='gini',\n",
       "                       max_depth=None, max_features='auto', max_leaf_nodes=None,\n",
       "                       min_impurity_decrease=0.0, min_impurity_split=None,\n",
       "                       min_samples_leaf=1, min_samples_split=2,\n",
       "                       min_weight_fraction_leaf=0.0, n_estimators=20,\n",
       "                       n_jobs=None, oob_score=False, random_state=None,\n",
       "                       verbose=0, warm_start=False)"
      ]
     },
     "execution_count": 27,
     "metadata": {},
     "output_type": "execute_result"
    }
   ],
   "source": [
    "clf = skl_clf(n_estimators = n_trees)\n",
    "clf.fit(data,targets)"
   ]
  },
  {
   "cell_type": "code",
   "execution_count": 28,
   "metadata": {},
   "outputs": [],
   "source": [
    "pred = clf.predict(data)\n",
    "rate_sklearn = (pred == targets).sum() / len(targets)"
   ]
  },
  {
   "cell_type": "code",
   "execution_count": 29,
   "metadata": {},
   "outputs": [
    {
     "data": {
      "image/png": "[encoded data removed]",
      "text/plain": [
       "<Figure size 720x2160 with 1 Axes>"
      ]
     },
     "metadata": {
      "needs_background": "light"
     },
     "output_type": "display_data"
    }
   ],
   "source": [
    "draw_conv_mat([pred],titles = [\"sklearn \"])\n",
    "\n",
    "\n"
   ]
  },
  {
   "cell_type": "code",
   "execution_count": 30,
   "metadata": {},
   "outputs": [
    {
     "name": "stdout",
     "output_type": "stream",
     "text": [
      "rate of correct predictions of the sklaern random forest classifier: 100.0%\n"
     ]
    }
   ],
   "source": [
    "print(f\"rate of correct predictions of the sklaern random forest classifier: {round(rate_sklearn,4)*100}%\")"
   ]
  },
  {
   "cell_type": "markdown",
   "metadata": {},
   "source": [
    "For the decision forest, we now observe a rate of correct classifications of 100%. Therefore, we observe no entries in the confusion matrix outside the diagonal elements. Compared to the results from the single tree, this is a huge improvement. For the density tree, we also observe an improvement. The rate of correct predictions increased about 5% and therefore the number of off diagonal elements in the confusion matrix decreased. Nevertheless, we observe, that the general problem of the density tree remained: Similiar misclassifications occured as before (e.g. 2s were predicted as 8s, 9s were predicted as 8s). In this experiment, we chose the minimal number of instances per leaf 0. Therefore each of the decision tree in the decision forest would reach a perfect classification rate on the training data. The built-in decision forest of the scikit-learn library reached a perfect prediction rate on the date. But we have to be aware of the fact, that for this example, the test data were not independent from the training data."
   ]
  }
 ],
 "metadata": {
  "kernelspec": {
   "display_name": "Python 3",
   "language": "python",
   "name": "python3"
  },
  "language_info": {
   "codemirror_mode": {
    "name": "ipython",
    "version": 3
   },
   "file_extension": ".py",
   "mimetype": "text/x-python",
   "name": "python",
   "nbconvert_exporter": "python",
   "pygments_lexer": "ipython3",
   "version": "3.7.4"
  }
 },
 "nbformat": 4,
 "nbformat_minor": 4
}
