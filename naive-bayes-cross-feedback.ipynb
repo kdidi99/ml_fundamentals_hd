{
  "nbformat": 4,
  "nbformat_minor": 0,
  "metadata": {
    "colab": {
      "name": "Untitled1.ipynb",
      "provenance": [],
      "authorship_tag": "ABX9TyM4RoV50EURLL/2Y8caYirJ",
      "include_colab_link": true
    },
    "kernelspec": {
      "name": "python3",
      "display_name": "Python 3"
    },
    "language_info": {
      "name": "python"
    }
  },
  "cells": [
    {
      "cell_type": "markdown",
      "metadata": {
        "id": "view-in-github",
        "colab_type": "text"
      },
      "source": [
        "<a href=\"https://colab.research.google.com/github/kdidi99/ml_heidelberg/blob/main/naive-bayes-cross-feedback.ipynb\" target=\"_parent\"><img src=\"https://colab.research.google.com/assets/colab-badge.svg\" alt=\"Open In Colab\"/></a>"
      ]
    },
    {
      "cell_type": "markdown",
      "source": [
        "#1."
      ],
      "metadata": {
        "id": "3y_CBF0TID1K"
      }
    },
    {
      "cell_type": "markdown",
      "source": [
        "<font color='green'><b>\n",
        "The mathematical derivations are correct. They differ from the sample solution only by the order and number of steps included, but can not be \"optimized\" like a computer algorithm.\n",
        "</b></font>"
      ],
      "metadata": {
        "id": "9YvfL9UxD88p"
      }
    },
    {
      "cell_type": "markdown",
      "source": [
        "#2."
      ],
      "metadata": {
        "id": "Gp9bMJ_xIGwy"
      }
    },
    {
      "cell_type": "markdown",
      "source": [
        "<font color='green'><b>\n",
        "No solution was handed in.\n",
        "</b></font>"
      ],
      "metadata": {
        "id": "l7uwFavME-9O"
      }
    }
  ]
}