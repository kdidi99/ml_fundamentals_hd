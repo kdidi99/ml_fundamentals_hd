{
  "nbformat": 4,
  "nbformat_minor": 0,
  "metadata": {
    "colab": {
      "name": "Untitled3.ipynb",
      "provenance": [],
      "authorship_tag": "ABX9TyMDD+4eGTwS6voVAQUgtOL6",
      "include_colab_link": true
    },
    "kernelspec": {
      "name": "python3",
      "display_name": "Python 3"
    },
    "language_info": {
      "name": "python"
    }
  },
  "cells": [
    {
      "cell_type": "markdown",
      "metadata": {
        "id": "view-in-github",
        "colab_type": "text"
      },
      "source": [
        "<a href=\"https://colab.research.google.com/github/kdidi99/ml_heidelberg/blob/main/ex5.ipynb\" target=\"_parent\"><img src=\"https://colab.research.google.com/assets/colab-badge.svg\" alt=\"Open In Colab\"/></a>"
      ]
    },
    {
      "cell_type": "markdown",
      "source": [
        "# Exercise 5"
      ],
      "metadata": {
        "id": "K2auqmvHxWOL"
      }
    },
    {
      "cell_type": "markdown",
      "source": [
        "Team members:\n",
        "\n",
        "*   Rudolf Braun \n",
        "*   Jannik Schacht\n",
        "*   Kieran Didi"
      ],
      "metadata": {
        "id": "XjPOp001xjaW"
      }
    },
    {
      "cell_type": "markdown",
      "source": [
        "# 5.1 Constructing the matrix X"
      ],
      "metadata": {
        "id": "7WLb2RwIxkeL"
      }
    },
    {
      "cell_type": "code",
      "execution_count": null,
      "metadata": {
        "id": "5v6DHTHBxJw3"
      },
      "outputs": [],
      "source": [
        "import numpy as np\n",
        "import scipy\n",
        "from scipy.sparse import coo_matrix"
      ]
    },
    {
      "cell_type": "code",
      "source": [
        "def construct_X(M, alphas, Np=None):\n",
        "    alphas = np.array(alphas)*np.pi/180\n",
        "    if not Np: # set Np, if not already defined\n",
        "        Np = int(M*2**0.5) \n",
        "    D = M**2\n",
        "    N0 = len(alphas)\n",
        "    N = N0*Np\n",
        "    s0 = M/2 # offset to centralize the points\n",
        "    \n",
        "    Cgrid = np.mgrid[0:M,0:M] # grid to generate the indizes a_j and b_j\n",
        "    C = np.array([Cgrid[1].flatten()-s0, Cgrid[0].flatten()-s0]) # indizes a_j , b_j centralized\n",
        "    n = np.array([np.cos(alphas), np.sin(alphas)]) # normal vector of the sensor\n",
        "    p = np.transpose(C).dot(n) # projection of the distance on the sensor\n",
        "    \n",
        "    # the position of the bin where the projection lies is calculated as float...\n",
        "    # ... to get the next bin below (round down) and above (round up / round down and add 1)\n",
        "    # the term np.mgrid[0:D,0:N0][1]*Np corresponds to N_p*i_0, so we get the index i = i_p + N_p*i_0\n",
        "    Pos = np.transpose(p*Np/M/2**0.5+Np/2 + np.mgrid[0:D,0:N0][1]*Np).flatten()\n",
        "    \n",
        "    posdown = Pos.astype(int) # positions of the next lower bins\n",
        "    weightsdown = 1-Pos%1 # the weight is 1-distance\n",
        "    posup = posdown+1 # positions of the next higher bins\n",
        "    weightsup = Pos%1 # the weights add up to 1\n",
        "    \n",
        "    i_indices = np.array([*posdown, *posup]) # indices of the sensor bins\n",
        "    j_indices = np.array(list(range(D))*N0*2) # due to the construction of i_indices the j_indices become rather simple\n",
        "    weights = np.array([*weightsdown, *weightsup]) # corresponding weights\n",
        "    \n",
        "    X = scipy.sparse.coo_matrix((weights, (i_indices, j_indices)), shape=(N, D), dtype = np.float32)\n",
        "    return X"
      ],
      "metadata": {
        "id": "nsKEKWtyxOsU"
      },
      "execution_count": null,
      "outputs": []
    },
    {
      "cell_type": "code",
      "source": [
        "X = construct_X(M = 10, alphas = [-33, 1, 42], Np = 15)\n",
        "print(X.shape)"
      ],
      "metadata": {
        "id": "fDp32XQ3xS-_"
      },
      "execution_count": null,
      "outputs": []
    }
  ]
}