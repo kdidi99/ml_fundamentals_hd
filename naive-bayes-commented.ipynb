{
  "nbformat": 4,
  "nbformat_minor": 0,
  "metadata": {
    "colab": {
      "name": "qda-lda.ipynb",
      "provenance": [],
      "include_colab_link": true
    },
    "kernelspec": {
      "name": "python3",
      "display_name": "Python 3"
    },
    "language_info": {
      "name": "python"
    }
  },
  "cells": [
    {
      "cell_type": "markdown",
      "metadata": {
        "id": "view-in-github",
        "colab_type": "text"
      },
      "source": [
        "<a href=\"https://colab.research.google.com/github/kdidi99/ml_heidelberg/blob/main/naive-bayes-commented.ipynb\" target=\"_parent\"><img src=\"https://colab.research.google.com/assets/colab-badge.svg\" alt=\"Open In Colab\"/></a>"
      ]
    },
    {
      "cell_type": "markdown",
      "metadata": {
        "id": "41k8KfEKMmjh"
      },
      "source": [
        "#**Exercise 3**"
      ]
    },
    {
      "cell_type": "markdown",
      "metadata": {
        "id": "4VZn-uSc63M9"
      },
      "source": [
        "Team members:\n",
        "\n",
        "*   Rudolf Braun\n",
        "*   Jannik Schacht\n",
        "*   Kieran Didi"
      ]
    },
    {
      "cell_type": "markdown",
      "metadata": {
        "id": "gwmAdJvY7ZCT"
      },
      "source": [
        "#Data preparation"
      ]
    },
    {
      "cell_type": "markdown",
      "source": [
        "<font color='green'><b>\n",
        "There is nothing to comment on this part, since it has just been copied from the last exercise."
      ],
      "metadata": {
        "id": "tFz1o6TK_mvS"
      }
    },
    {
      "cell_type": "code",
      "metadata": {
        "id": "_K33xV8t7iBS"
      },
      "source": [
        "from sklearn.datasets import load_digits\n",
        "import numpy as np\n",
        "import matplotlib.pyplot as plt\n",
        "from sklearn import model_selection\n",
        "from sklearn.model_selection import train_test_split\n",
        "from sklearn.metrics import confusion_matrix"
      ],
      "execution_count": null,
      "outputs": []
    },
    {
      "cell_type": "code",
      "metadata": {
        "id": "DCmL2YN8KM5q"
      },
      "source": [
        "digits = load_digits() \n",
        "data = digits[\"data\"]\n",
        "images = digits[\"images\"]\n",
        "target = digits[\"target\"]\n",
        "target_names = digits[\"target_names\"]"
      ],
      "execution_count": null,
      "outputs": []
    },
    {
      "cell_type": "markdown",
      "metadata": {
        "id": "kT01kMWUKxXX"
      },
      "source": [
        "Data filtering (indeed we have 361 instances with a dimension of 8x8=64 each)\n",
        "\n"
      ]
    },
    {
      "cell_type": "code",
      "metadata": {
        "colab": {
          "base_uri": "https://localhost:8080/"
        },
        "id": "R33XWe-SKm56",
        "outputId": "e9a1ca1f-4a45-4543-9c3e-24ef8cc4a65a"
      },
      "source": [
        "X_all = data\n",
        "y_all = target\n",
        "\n",
        "X_filter = X_all[np.logical_or(3 == y_all, 9 == y_all)]\n",
        "y_filter = y_all[np.logical_or(3 == y_all, 9 == y_all)]\n",
        "X_filter.shape"
      ],
      "execution_count": null,
      "outputs": [
        {
          "output_type": "execute_result",
          "data": {
            "text/plain": [
              "(363, 64)"
            ]
          },
          "metadata": {},
          "execution_count": 3
        }
      ]
    },
    {
      "cell_type": "markdown",
      "metadata": {
        "id": "QbZbN6PdNkvJ"
      },
      "source": [
        "Visualize a few numbers to make sure we have the correct images"
      ]
    },
    {
      "cell_type": "code",
      "metadata": {
        "colab": {
          "base_uri": "https://localhost:8080/",
          "height": 499
        },
        "id": "uWPsYMBpNoKg",
        "outputId": "322a9a86-3ebf-4266-ba9e-70e139b3f0be"
      },
      "source": [
        "fig, axs = plt.subplots(2, 2)\n",
        "sel = np.random.randint(low=0, high=361, size=4)\n",
        "for r, x, y in zip(sel, [0, 0, 1, 1], [0, 1, 0, 1]):\n",
        "    img = X_filter[r, :].reshape((8,8))\n",
        "    assert 2 == len(img.shape)\n",
        "    axs[x, y].imshow(img, interpolation=\"nearest\", cmap=\"gray\")\n",
        "    axs[x, y].set_title(f\"Random Number {r} ({y_filter[r]})\")\n",
        "fig.set_size_inches(8, 8)"
      ],
      "execution_count": null,
      "outputs": [
        {
          "output_type": "display_data",
          "data": {
            "image/png": "[encoded data removed]",
            "text/plain": [
              "<Figure size 576x576 with 4 Axes>"
            ]
          },
          "metadata": {
            "needs_background": "light"
          }
        }
      ]
    },
    {
      "cell_type": "markdown",
      "metadata": {
        "id": "ybULRuWi7iyy"
      },
      "source": [
        "#Dimension Reduction"
      ]
    },
    {
      "cell_type": "markdown",
      "source": [
        "<font color='green'><b>\n",
        "There is not much to comment on this part, since it has just been copied from the last exercise. \n",
        "<br>\n",
        "Dimension reduction is individual and can differ from the sample solution.\n",
        "<br>\n",
        "Code has been slightly modified to work with digits 3 and 9 instead of 1 and 7."
      ],
      "metadata": {
        "id": "8jmq1-e3_2Wc"
      }
    },
    {
      "cell_type": "code",
      "metadata": {
        "id": "7whApUoCNPY2",
        "colab": {
          "base_uri": "https://localhost:8080/"
        },
        "outputId": "d51b32bf-5e36-4fad-dbe5-c4ee79ef45e8"
      },
      "source": [
        "#separate 3's and 9's\n",
        "X_three = X_filter[3 == y_filter]\n",
        "X_nine = X_filter[9 == y_filter]\n",
        "\n",
        "#calculate the means of each pixel in the respective classes and take the difference \n",
        "mean_diff = X_three.mean(axis=0)-X_nine.mean(axis=0)\n",
        "\n",
        "#look for the top 5 pixels most bright for 1's and 7's respectively\n",
        "idx_three = (mean_diff).argsort()[:5]\n",
        "idx_nine = (-mean_diff).argsort()[:5]\n",
        "\n",
        "print(idx_three)\n",
        "print(mean_diff[idx_three])\n",
        "print(idx_nine)\n",
        "print(mean_diff[idx_nine])"
      ],
      "execution_count": null,
      "outputs": [
        {
          "output_type": "stream",
          "name": "stdout",
          "text": [
            "[26 18 29 21 30]\n",
            "[-8.95765027 -8.79508197 -8.45455373 -4.78870674 -3.75692168]\n",
            "[36 20 58  4  2]\n",
            "[6.95473588 3.71065574 3.58916211 2.96848816 2.70464481]\n"
          ]
        }
      ]
    },
    {
      "cell_type": "code",
      "metadata": {
        "id": "RUcfUyOt7m3S"
      },
      "source": [
        "def reduce_dim(x):\n",
        "    #define indices to be selected\n",
        "    idx_3 = np.array([26, 18])\n",
        "    idx_9 = np.array([36, 20])\n",
        "    #select entries via indices and calculate new features from them\n",
        "    x_3 = np.sum(x.take(idx_3, axis=1), axis=1)\n",
        "    x_9 = np.sum(x.take(idx_9, axis=1), axis=1)\n",
        "    #reduced_x = x.take(idx, axis=1)\n",
        "    #combine the two features into one array\n",
        "    reduced_x = np.column_stack((x_3, x_9))\n",
        "    return reduced_x\n"
      ],
      "execution_count": null,
      "outputs": []
    },
    {
      "cell_type": "code",
      "metadata": {
        "colab": {
          "base_uri": "https://localhost:8080/"
        },
        "id": "BxqwN-qwW--Q",
        "outputId": "3dc13155-94b1-4891-ab0e-5adbed338cb9"
      },
      "source": [
        "#make sure that the dimensions of the reduced data are correct \n",
        "reduced_x = reduce_dim(X_filter)\n",
        "reduced_x.shape"
      ],
      "execution_count": null,
      "outputs": [
        {
          "output_type": "execute_result",
          "data": {
            "text/plain": [
              "(363, 2)"
            ]
          },
          "metadata": {},
          "execution_count": 7
        }
      ]
    },
    {
      "cell_type": "markdown",
      "metadata": {
        "id": "qadZOpftL6XI"
      },
      "source": [
        "Split into training and test set (for both reduced and not reduced features)"
      ]
    },
    {
      "cell_type": "code",
      "metadata": {
        "id": "aHD0gBXfL6d_"
      },
      "source": [
        "X_train, X_test, y_train, y_test = model_selection.train_test_split(X_filter, y_filter,\n",
        "   test_size = 0.4, random_state = 0)\n",
        "\n",
        "X_train_r, X_test_r, y_train_r, y_test_r = model_selection.train_test_split(reduce_dim(X_filter), y_filter,\n",
        "   test_size = 0.4, random_state = 0)"
      ],
      "execution_count": null,
      "outputs": []
    },
    {
      "cell_type": "markdown",
      "metadata": {
        "id": "4P9HMhs77rWq"
      },
      "source": [
        "### Scatterplot"
      ]
    },
    {
      "cell_type": "code",
      "metadata": {
        "id": "uLq1jNbq7qZ6",
        "colab": {
          "base_uri": "https://localhost:8080/",
          "height": 297
        },
        "outputId": "4e8fc28c-84ce-4ec8-d6ac-aaf607b47f6e"
      },
      "source": [
        "#plt.style.use('_mpl-gallery')\n",
        "fig, ax = plt.subplots()\n",
        "color= ['red' if y == 3 else 'green' for y in y_filter]\n",
        "ax.scatter(reduced_x[:,0], reduced_x[:,1], c=color)\n",
        "\n",
        "ax.set_xlabel(r'$Feature 1$', fontsize=15)\n",
        "ax.set_ylabel(r'$Feature 2$', fontsize=15)\n",
        "ax.set_title('Dataset of 3s and 9s in reduced feature space')\n",
        "\n",
        "fig.tight_layout()\n",
        "plt.show()"
      ],
      "execution_count": null,
      "outputs": [
        {
          "output_type": "display_data",
          "data": {
            "image/png": "[encoded data removed]",
            "text/plain": [
              "<Figure size 432x288 with 1 Axes>"
            ]
          },
          "metadata": {
            "needs_background": "light"
          }
        }
      ]
    },
    {
      "cell_type": "markdown",
      "metadata": {
        "id": "0qhx-DaYwqC5"
      },
      "source": [
        "The two classes don't overlap too much, but are present as two separate clusters as visualised in the plot above. From this we can conclude that the reduced features are informative enough to continue."
      ]
    },
    {
      "cell_type": "markdown",
      "metadata": {
        "id": "V4ackHFNN6Lo"
      },
      "source": [
        "# 2. Naive Bayes classifier"
      ]
    },
    {
      "cell_type": "markdown",
      "source": [
        "Implement the training function:\n",
        "\n",
        "(Due to lack of time, the automatic selection of bincount is not fully implemented yet. Therefore we used bincount = 4 for the reduced feature space instead)."
      ],
      "metadata": {
        "id": "xuYvlBckYJiy"
      }
    },
    {
      "cell_type": "code",
      "metadata": {
        "id": "HZc4XJPHOoHE"
      },
      "source": [
        "# returns histograms, binning and ulabels (= array containing all possible labels)\n",
        "def fit_naive_bayes(features, labels, bincount):\n",
        "    # check for valid parameters\n",
        "    assert (np.size(features, axis=0) > 0 and np.size(labels, axis=0) == np.size(features, axis=0))\n",
        "\n",
        "    # this part is not fully implemented yet\n",
        "    if bincount==0:\n",
        "        #determine bin width automatically with Freedman-Diaconis rule\n",
        "        #needs to be added: sort array and then determine IQR for each feature\n",
        "        iqr_val = np.quantile(features, q=[.25, .75])\n",
        "        iqr = np.diff(iqr_val)[0]\n",
        "        print(iqr_val)\n",
        "        print(features)\n",
        "        print(iqr)\n",
        "\n",
        "    # calculate number of classes\n",
        "    ulabels = np.unique(labels)\n",
        "    c = ulabels.size\n",
        "    \n",
        "    # calculate feature dimensions\n",
        "    d = np.size(features, axis=1)\n",
        "\n",
        "    # initialize output arrays\n",
        "    histograms = np.zeros((c,d,bincount))\n",
        "    binning = np.zeros((c,d,2))\n",
        "\n",
        "    # initialize temporary arrays\n",
        "    histogram_counter = np.zeros((c,d,bincount))\n",
        "\n",
        "    # process every possible class one by one\n",
        "    for i in range(c):\n",
        "        # only consider data instances belonging to the present class\n",
        "        c_features = features[labels == ulabels[i]]\n",
        "        c_size = np.size(c_features, axis=0)\n",
        "\n",
        "        # calculate the minimum and maximum value for each of the features\n",
        "        min = c_features.min(axis=0)\n",
        "        max = c_features.max(axis=0)\n",
        "\n",
        "        # write the minimum of each feature as the 'lower bound' to binning\n",
        "        binning[i, :, 0] = min\n",
        "\n",
        "        # calculate the binwidth h for each feature and write it to binning\n",
        "        h = (max-min)/bincount\n",
        "        h[h == 0] = 1               # prevent division by zero fault\n",
        "        binning[i, :, 1] = h\n",
        "\n",
        "        # for each instance belonging to the present class\n",
        "        for x in range(c_size):\n",
        "            # calculate the bin this instance belongs in\n",
        "            m = np.floor((c_features[x] - min) / h).astype(int)\n",
        "            m[m >= bincount] = bincount - 1\n",
        "\n",
        "            # for each feature of the present instance:\n",
        "            # increase the counter of the bin it belongs in\n",
        "            histogram_counter[i, [*range(d)], m] = histogram_counter[i, [*range(d)], m] + 1\n",
        "\n",
        "        # calculate the histograms\n",
        "        histograms[i] = histogram_counter[i] / c_size\n",
        "\n",
        "    return histograms, binning, ulabels"
      ],
      "execution_count": null,
      "outputs": []
    },
    {
      "cell_type": "markdown",
      "source": [
        "Implement the prediction function:"
      ],
      "metadata": {
        "id": "fF5PMa3BZuGD"
      }
    },
    {
      "cell_type": "code",
      "metadata": {
        "id": "tVCtFM9pOvEg"
      },
      "source": [
        "def predict_naive_bayes(test_features, histograms, binning, ulabels):\n",
        "    # number of classes\n",
        "    c = np.size(ulabels, axis=0)\n",
        "\n",
        "    # number of bins\n",
        "    bincount = np.size(histograms, axis=2)\n",
        "\n",
        "    # feature dimensions\n",
        "    d = np.size(histograms, axis=1) \n",
        "\n",
        "    # initialize output array\n",
        "    predicted_labels = []\n",
        "\n",
        "    # iterate over all given instances and predict label for each\n",
        "    for x in test_features:\n",
        "        # initialize array for storing sums of logarithms\n",
        "        sums = np.zeros(c)\n",
        "\n",
        "        # calculate sum of logarithm for each possible class\n",
        "        for i in range(c):\n",
        "        \n",
        "            # calculate bins for all features of the present instance\n",
        "            m = np.floor((x - binning[i, :, 0]) / binning[i, :, 1]).astype(int)\n",
        "            m[m >= bincount] = bincount - 1\n",
        "            m[m < 0] = 0\n",
        "\n",
        "            # calculate sum of logarithms of the 1-dimensional histograms for all features\n",
        "            temp = histograms[i, [*range(d)], m]\n",
        "            temp[temp == 0] = 1\n",
        "            sum_of_log = np.sum(np.log(temp))\n",
        "            sums[i] = sum_of_log\n",
        "            \n",
        "        # choose the label that belongs to the highest sum\n",
        "        y_head = ulabels[np.argmax(sums)]\n",
        "        predicted_labels.append(y_head)\n",
        "\n",
        "    return np.array(predicted_labels)"
      ],
      "execution_count": null,
      "outputs": []
    },
    {
      "cell_type": "markdown",
      "source": [
        "Use the implemented functions:"
      ],
      "metadata": {
        "id": "2wIQj-5DbJqk"
      }
    },
    {
      "cell_type": "code",
      "metadata": {
        "id": "u1uya7KdN9fn"
      },
      "source": [
        "# reduced feature space and bincount = 4\n",
        "histograms, binning, ulabels = fit_naive_bayes(X_train_r, y_train_r, 4)\n",
        "predicted_labels_r = predict_naive_bayes(X_test_r, histograms, binning, ulabels)\n",
        "\n",
        "# full feature space and bincount = 8\n",
        "histograms, binning, ulabels = fit_naive_bayes(X_train, y_train, 8)\n",
        "predicted_labels = predict_naive_bayes(X_test, histograms, binning, ulabels)"
      ],
      "execution_count": null,
      "outputs": []
    },
    {
      "cell_type": "markdown",
      "source": [
        "Calculate confusion matrix using sklearn:"
      ],
      "metadata": {
        "id": "BaROTzM3cUVr"
      }
    },
    {
      "cell_type": "code",
      "metadata": {
        "id": "cPLpozfQ-8E9",
        "colab": {
          "base_uri": "https://localhost:8080/"
        },
        "outputId": "afe0aa9a-3318-4b48-e448-344257f59948"
      },
      "source": [
        "# Confusion matrix for reduced feature space and bincount = 4\n",
        "confmat_r = confusion_matrix(y_test_r, predicted_labels_r, normalize='true')\n",
        "confmat_r = confmat_r * 100\n",
        "print(\"Confusion matrix for reduced feature space (bincount = 4):\\n\")\n",
        "print(f\"True negatives: {confmat_r[0,0]} %\\nFalse negatives: {confmat_r[1,0]} %\\nTrue positives: {confmat_r[1,1]} %\\nFalse positives: {confmat_r[0,1]} %\\n\")\n",
        "\n",
        "# Confusion matrix for full feature space and bincount = 8\n",
        "confmat = confusion_matrix(y_test, predicted_labels, normalize='true')\n",
        "confmat_r = confmat_r * 100\n",
        "print(\"Confusion matrix for full feature space (bincount = 8):\\n\")\n",
        "print(f\"True negatives: {confmat[0,0]} %\\nFalse negatives: {confmat[1,0]} %\\nTrue positives: {confmat[1,1]} %\\nFalse positives: {confmat[0,1]} %\")"
      ],
      "execution_count": null,
      "outputs": [
        {
          "output_type": "stream",
          "name": "stdout",
          "text": [
            "Confusion matrix for reduced feature space (bincount = 4):\n",
            "\n",
            "True negatives: 90.27777777777779 %\n",
            "False negatives: 2.7027027027027026 %\n",
            "True positives: 97.2972972972973 %\n",
            "False positives: 9.722222222222223 %\n",
            "\n",
            "Confusion matrix for full feature space (bincount = 8):\n",
            "\n",
            "True negatives: 0.875 %\n",
            "False negatives: 0.013513513513513514 %\n",
            "True positives: 0.9864864864864865 %\n",
            "False positives: 0.125 %\n"
          ]
        }
      ]
    },
    {
      "cell_type": "markdown",
      "source": [
        "Visualization could not be implemented due to lack of time :(\n",
        "\n",
        "<font color='green'><b>\n",
        "In the sample solution the scatter plots show very nicely the decision boundaries. Unfortunately, we did not have enough time to implement some visualization. The below code is not yet working."
      ],
      "metadata": {
        "id": "FOnLlXnteKE6"
      }
    },
    {
      "cell_type": "code",
      "metadata": {
        "id": "HtRm6PKqL-8u"
      },
      "source": [
        "#create dataset for pixel image\n",
        "f1 = np.linspace(1, 40, num=40)\n",
        "f2 = np.linspace(1, 40, num=40)\n",
        "xx, yy = np.meshgrid(f1,f2)\n",
        "xx = xx.reshape(1,1600)\n",
        "yy = yy.reshape(1,1600)\n",
        "X_plot = np.dstack((xx,yy))\n",
        "y_plot = predicted_labels\n",
        "#y_plot = y_plot[:,0]\n",
        "y_plot = y_plot.reshape(40,40)\n",
        "\n",
        "#plot the pixel image dataset as decision boundary\n",
        "fig, ax = plt.subplots()\n",
        "color= ['red' if y == 1 else 'green' for y in y_test]\n",
        "ax.imshow(y_plot, alpha = 0.5)\n",
        "\n",
        "#add the test set data points\n",
        "ax.scatter(X_test[:,0], X_test[:,1], c=color, marker = \"+\")\n",
        "\n",
        "ax.set_xlabel(r'$Feature 1$', fontsize=15)\n",
        "ax.set_ylabel(r'$Feature 2$', fontsize=15)\n",
        "ax.set_title('Dataset of 1s and 7s in reduced feature space')\n",
        "\n",
        "fig.tight_layout()\n",
        "plt.show()"
      ],
      "execution_count": null,
      "outputs": []
    }
  ]
}